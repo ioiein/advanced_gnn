{
  "nbformat": 4,
  "nbformat_minor": 0,
  "metadata": {
    "colab": {
      "name": "lab_knowledge_distillation.ipynb",
      "provenance": [],
      "collapsed_sections": []
    },
    "kernelspec": {
      "name": "python3",
      "display_name": "Python 3"
    },
    "language_info": {
      "name": "python"
    },
    "accelerator": "GPU"
  },
  "cells": [
    {
      "cell_type": "markdown",
      "metadata": {
        "id": "vjc5y4FTdfGP"
      },
      "source": [
        "# Lab — Knowledge distillation for GNN"
      ]
    },
    {
      "cell_type": "markdown",
      "metadata": {
        "id": "cBGenkXwOuJv"
      },
      "source": [
        "<img src='https://raw.githubusercontent.com/netspractice/advanced_gnn/main/lab_knowledge_distillation/LSP_scheme.png' width=900>\n",
        "\n",
        "source: https://arxiv.org/abs/2003.10477\n",
        "\n",
        "To enable the knowledge transfer from the teacher GCN to the student, there is a local structure preserving (LSP) module that explicitly accounts for the topological semantics of the teacher. In this module, the local structure information from both the teacher and the student are extracted as distributions, and hence minimizing the distance between these distributions enables topology-aware knowledge transfer from the teacher, yielding a compact yet highperformance student model."
      ]
    },
    {
      "cell_type": "markdown",
      "metadata": {
        "id": "KS5BIc4oePZ_"
      },
      "source": [
        "### Prepare dataloader"
      ]
    },
    {
      "cell_type": "markdown",
      "metadata": {
        "id": "ojTymOYiQTPb"
      },
      "source": [
        "In the first, step we download protein-protein interaction (PPI) dataset of graphs that come from the human tissues. There are 121 classes, each node can be assigned to more than one class that can be represented as multilabel classification problem. Node features are motif gene sets and immunological signatures."
      ]
    },
    {
      "cell_type": "code",
      "metadata": {
        "id": "zw5Xa6kkjTV9"
      },
      "source": [
        "!pip install dgl-cu111 -f https://data.dgl.ai/wheels/repo.html -q"
      ],
      "execution_count": 203,
      "outputs": []
    },
    {
      "cell_type": "code",
      "metadata": {
        "id": "dM70azUdjOjs"
      },
      "source": [
        "import dgl\n",
        "from dgl.data.ppi import LegacyPPIDataset as PPIDataset\n",
        "import dgl.function as fn\n",
        "from dgl.nn.functional import edge_softmax\n",
        "\n",
        "import torch\n",
        "import torch.nn as nn\n",
        "import torch.nn.functional as F\n",
        "from torch.utils.data import DataLoader\n",
        "from torch.optim import Adam\n",
        "\n",
        "import matplotlib.pyplot as plt\n",
        "import numpy as np\n",
        "from sklearn.metrics import f1_score\n",
        "\n",
        "from IPython.display import clear_output"
      ],
      "execution_count": 204,
      "outputs": []
    },
    {
      "cell_type": "markdown",
      "metadata": {
        "id": "l8Qw8HqQUb4Y"
      },
      "source": [
        "Check the number of graphs"
      ]
    },
    {
      "cell_type": "code",
      "metadata": {
        "colab": {
          "base_uri": "https://localhost:8080/"
        },
        "id": "KZme0ys_jNMt",
        "outputId": "bcc4ee8b-88ef-478c-de24-561fba7840be"
      },
      "source": [
        "train_dataset = PPIDataset(mode='train')\n",
        "valid_dataset = PPIDataset(mode='valid')\n",
        "test_dataset = PPIDataset(mode='test')\n",
        "len(train_dataset), len(valid_dataset), len(valid_dataset)"
      ],
      "execution_count": 205,
      "outputs": [
        {
          "output_type": "execute_result",
          "data": {
            "text/plain": [
              "(20, 2, 2)"
            ]
          },
          "metadata": {},
          "execution_count": 205
        }
      ]
    },
    {
      "cell_type": "markdown",
      "metadata": {
        "id": "qWBQ3M1lUiXt"
      },
      "source": [
        "Each entry is graph, node features and node labels "
      ]
    },
    {
      "cell_type": "code",
      "metadata": {
        "colab": {
          "base_uri": "https://localhost:8080/"
        },
        "id": "kdqZE8avkCES",
        "outputId": "927fc3da-4bf6-4ca8-d56d-c97da505d003"
      },
      "source": [
        "g, feat, label = train_dataset[0]\n",
        "g"
      ],
      "execution_count": 206,
      "outputs": [
        {
          "output_type": "execute_result",
          "data": {
            "text/plain": [
              "Graph(num_nodes=1767, num_edges=34085,\n",
              "      ndata_schemes={'label': Scheme(shape=(121,), dtype=torch.float32), '_ID': Scheme(shape=(), dtype=torch.int64), 'feat': Scheme(shape=(50,), dtype=torch.float32)}\n",
              "      edata_schemes={'_ID': Scheme(shape=(), dtype=torch.int64)})"
            ]
          },
          "metadata": {},
          "execution_count": 206
        }
      ]
    },
    {
      "cell_type": "code",
      "metadata": {
        "colab": {
          "base_uri": "https://localhost:8080/"
        },
        "id": "E3krPNSdwBA5",
        "outputId": "e1c4aa9e-3750-43fd-a5c6-7847c4b9ba38"
      },
      "source": [
        "g.adj().to_dense()"
      ],
      "execution_count": 207,
      "outputs": [
        {
          "output_type": "execute_result",
          "data": {
            "text/plain": [
              "tensor([[1., 0., 0.,  ..., 0., 0., 0.],\n",
              "        [0., 1., 0.,  ..., 0., 0., 0.],\n",
              "        [0., 0., 1.,  ..., 0., 0., 0.],\n",
              "        ...,\n",
              "        [0., 0., 0.,  ..., 1., 0., 0.],\n",
              "        [0., 0., 0.,  ..., 0., 1., 0.],\n",
              "        [0., 0., 0.,  ..., 0., 0., 1.]])"
            ]
          },
          "metadata": {},
          "execution_count": 207
        }
      ]
    },
    {
      "cell_type": "code",
      "metadata": {
        "colab": {
          "base_uri": "https://localhost:8080/"
        },
        "id": "xS1V1d0OlyJB",
        "outputId": "19655873-63e5-43ea-ae3d-ba85d26236ce"
      },
      "source": [
        "feat"
      ],
      "execution_count": 208,
      "outputs": [
        {
          "output_type": "execute_result",
          "data": {
            "text/plain": [
              "tensor([[-0.0855, -0.0884, -0.1128,  ..., -0.1399, -0.1494, -0.1481],\n",
              "        [-0.0855, -0.0884, -0.1128,  ..., -0.1399, -0.1494, -0.1481],\n",
              "        [-0.0855, -0.0884, -0.1128,  ..., -0.1399, -0.1494, -0.1481],\n",
              "        ...,\n",
              "        [-0.0855, -0.0884, -0.1128,  ..., -0.1399, -0.1494, -0.1481],\n",
              "        [-0.0855, -0.0884, -0.1128,  ..., -0.1399, -0.1494, -0.1481],\n",
              "        [-0.0855, -0.0884, -0.1128,  ..., -0.1399, -0.1494, -0.1481]])"
            ]
          },
          "metadata": {},
          "execution_count": 208
        }
      ]
    },
    {
      "cell_type": "code",
      "metadata": {
        "colab": {
          "base_uri": "https://localhost:8080/"
        },
        "id": "0-DV5P8il0iB",
        "outputId": "e8f572a9-5794-4ab9-f9d7-855d97fde9d9"
      },
      "source": [
        "label"
      ],
      "execution_count": 209,
      "outputs": [
        {
          "output_type": "execute_result",
          "data": {
            "text/plain": [
              "tensor([[1., 0., 0.,  ..., 1., 1., 0.],\n",
              "        [1., 0., 0.,  ..., 1., 1., 1.],\n",
              "        [1., 1., 1.,  ..., 0., 0., 0.],\n",
              "        ...,\n",
              "        [0., 0., 0.,  ..., 0., 0., 0.],\n",
              "        [0., 0., 0.,  ..., 0., 0., 0.],\n",
              "        [1., 0., 0.,  ..., 0., 0., 0.]])"
            ]
          },
          "metadata": {},
          "execution_count": 209
        }
      ]
    },
    {
      "cell_type": "code",
      "metadata": {
        "colab": {
          "base_uri": "https://localhost:8080/"
        },
        "id": "Q9oI1GszRtcx",
        "outputId": "6880f39c-c53e-4eb4-f380-6615aed49bff"
      },
      "source": [
        "num_classes = train_dataset.graphs[0].ndata['label'].shape[1]\n",
        "num_feats = train_dataset.graphs[0].ndata['feat'].shape[1]\n",
        "num_classes, num_feats"
      ],
      "execution_count": 210,
      "outputs": [
        {
          "output_type": "execute_result",
          "data": {
            "text/plain": [
              "(121, 50)"
            ]
          },
          "metadata": {},
          "execution_count": 210
        }
      ]
    },
    {
      "cell_type": "markdown",
      "metadata": {
        "id": "7Wa37HV6Ux1s"
      },
      "source": [
        "Prepare dataloader"
      ]
    },
    {
      "cell_type": "code",
      "metadata": {
        "id": "XWM9GVgcj5Aj"
      },
      "source": [
        "def collate(sample):\n",
        "    graphs, feats, labels = map(list, zip(*sample))\n",
        "    graph = dgl.batch(graphs)\n",
        "    feats = torch.cat(feats)\n",
        "    labels = torch.cat(labels)\n",
        "    return graph, feats, labels\n",
        "\n",
        "train_dataloader = DataLoader(\n",
        "    train_dataset, batch_size=2, drop_last=False, collate_fn=collate, shuffle=True)\n",
        "valid_dataloader = DataLoader(\n",
        "    valid_dataset, batch_size=2, drop_last=False, collate_fn=collate)\n",
        "test_dataloader = DataLoader(\n",
        "    test_dataset, batch_size=2, drop_last=False, collate_fn=collate)"
      ],
      "execution_count": 211,
      "outputs": []
    },
    {
      "cell_type": "markdown",
      "metadata": {
        "id": "UqbX6uNiobZj"
      },
      "source": [
        "### Teacher GAT model"
      ]
    },
    {
      "cell_type": "markdown",
      "metadata": {
        "id": "VrTCs-7rVS73"
      },
      "source": [
        "The teacher is GAT model that returns intermediate hidden states after each layer"
      ]
    },
    {
      "cell_type": "code",
      "metadata": {
        "id": "kZ1WntkivHBq"
      },
      "source": [
        "class GAT(nn.Module):\n",
        "    def __init__(self, n_layers, n_heads, in_dim, h_dim, out_dim):\n",
        "        super().__init__()\n",
        "        self.layers = []\n",
        "        self.layers.append(\n",
        "            dgl.nn.GATConv(\n",
        "                    in_feats=in_dim, \n",
        "                    out_feats=h_dim, \n",
        "                    num_heads=n_heads[0], \n",
        "                    activation=nn.LeakyReLU(0.02)))\n",
        "        for i in range(1, n_layers-1):\n",
        "            self.layers.append(\n",
        "                dgl.nn.GATConv(\n",
        "                    in_feats=h_dim*n_heads[i-1], \n",
        "                    out_feats=h_dim, \n",
        "                    num_heads=n_heads[i],\n",
        "                    residual=True,\n",
        "                    activation=nn.LeakyReLU(0.02)))\n",
        "        self.layers.append(\n",
        "            dgl.nn.GATConv(\n",
        "                    in_feats=h_dim*n_heads[-2], \n",
        "                    out_feats=out_dim, \n",
        "                    num_heads=n_heads[-1],\n",
        "                    residual=True))\n",
        "        self.layers = nn.Sequential(*self.layers)\n",
        "        \n",
        "    def forward(self, g, feat):\n",
        "        h = feat\n",
        "        mid_h = []\n",
        "        for l in self.layers[:-1]:\n",
        "            h = l(g, h).flatten(1)\n",
        "            mid_h.append(h)\n",
        "        logits = self.layers[-1](g, h).mean(1)\n",
        "        return logits, mid_h"
      ],
      "execution_count": 212,
      "outputs": []
    },
    {
      "cell_type": "code",
      "metadata": {
        "id": "LhRMOohSoa3Z"
      },
      "source": [
        "t_model = GAT(n_layers=3, n_heads=[4, 4, 6], in_dim=num_feats, h_dim=256, out_dim=num_classes)"
      ],
      "execution_count": 213,
      "outputs": []
    },
    {
      "cell_type": "code",
      "metadata": {
        "colab": {
          "base_uri": "https://localhost:8080/"
        },
        "id": "WgKsvD3oqYtV",
        "outputId": "74239114-e790-4a41-b39f-c79a6dd6d42a"
      },
      "source": [
        "g = dgl.graph((\n",
        "    [0, 1, 2, 3, 2, 5], \n",
        "    [1, 2, 3, 4, 0, 3]))\n",
        "g = dgl.add_self_loop(g)\n",
        "feat = torch.ones(6, 50)\n",
        "h, mid_h = t_model(g, feat)\n",
        "h.shape, len(mid_h)"
      ],
      "execution_count": 214,
      "outputs": [
        {
          "output_type": "execute_result",
          "data": {
            "text/plain": [
              "(torch.Size([6, 121]), 2)"
            ]
          },
          "metadata": {},
          "execution_count": 214
        }
      ]
    },
    {
      "cell_type": "markdown",
      "metadata": {
        "id": "ufaqXd8UeTgg"
      },
      "source": [
        "### Train teacher"
      ]
    },
    {
      "cell_type": "markdown",
      "metadata": {
        "id": "3gTEHnHzaHUg"
      },
      "source": [
        "Here is the regular training process"
      ]
    },
    {
      "cell_type": "code",
      "metadata": {
        "id": "rro-Eyxorn6u"
      },
      "source": [
        "def train(model, dataloader, device, opt):\n",
        "    model.train()\n",
        "    _train_loss = []\n",
        "    for graph, feat, label in dataloader:\n",
        "        graph, feat, label = graph.to(device), feat.to(device), label.to(device)\n",
        "        logits, _ = model(graph, feat)\n",
        "        loss = F.binary_cross_entropy_with_logits(logits, label)\n",
        "        opt.zero_grad()\n",
        "        loss.backward()\n",
        "        opt.step()\n",
        "        _train_loss.append(loss.item())\n",
        "    return sum(_train_loss) / len(_train_loss)\n",
        "\n",
        "def eval(model, dataloader, device):\n",
        "    model.eval()\n",
        "    _val_loss = []\n",
        "    for graph, feat, label in dataloader:\n",
        "        graph, feat, label = graph.to(device), feat.to(device), label.to(device)\n",
        "        with torch.no_grad():\n",
        "            logits, _ = model(graph, feat)\n",
        "        loss = F.binary_cross_entropy_with_logits(logits, label)\n",
        "        _val_loss.append(loss.item())\n",
        "    return sum(_val_loss) / len(_val_loss)\n",
        "\n",
        "def test_score(model, dataloader, device):\n",
        "    model.eval()\n",
        "    _test_score = []\n",
        "    for graph, feat, label in dataloader:\n",
        "        graph, feat = graph.to(device), feat.to(device)\n",
        "        with torch.no_grad():\n",
        "            logits, _ = model(graph, feat)\n",
        "        prediction = torch.sigmoid(logits).cpu().numpy() > 0.5\n",
        "        label = label.numpy()\n",
        "        score = f1_score(label, prediction, average='micro')\n",
        "        _test_score.append(score)\n",
        "    return sum(_test_score) / len(_test_score)\n",
        "\n",
        "def run(n_epochs, model, train_dataloader, valid_dataloader, device, opt):\n",
        "    train_loss, val_loss = [], []\n",
        "    for epoch in range(n_epochs):\n",
        "        \n",
        "        loss = train(model, train_dataloader, device, opt)\n",
        "        train_loss.append(loss)\n",
        "        \n",
        "        loss = eval(model, valid_dataloader, device)\n",
        "        val_loss.append(loss)\n",
        "\n",
        "        plt.plot(train_loss[-50:], label='train')\n",
        "        plt.plot(val_loss[-50:], label='val')\n",
        "        plt.legend()\n",
        "        plt.title('Cross entropy loss. Epoch: {}/{}'.format(epoch+1, n_epochs))\n",
        "        plt.show()\n",
        "        clear_output(wait=True)"
      ],
      "execution_count": 215,
      "outputs": []
    },
    {
      "cell_type": "code",
      "metadata": {
        "colab": {
          "base_uri": "https://localhost:8080/"
        },
        "id": "xbGUAa69gHY6",
        "outputId": "dd62fac2-9a1f-4440-f5a8-f03b70e63871"
      },
      "source": [
        "device = torch.device('cuda') if torch.cuda.is_available() else torch.device('cpu')\n",
        "device"
      ],
      "execution_count": 216,
      "outputs": [
        {
          "output_type": "execute_result",
          "data": {
            "text/plain": [
              "device(type='cuda')"
            ]
          },
          "metadata": {},
          "execution_count": 216
        }
      ]
    },
    {
      "cell_type": "code",
      "metadata": {
        "id": "2sA2xPixNtxF"
      },
      "source": [
        "t_model = GAT(n_layers=3, n_heads=[4, 4, 6], in_dim=num_feats, h_dim=256, out_dim=num_classes)\n",
        "t_model.to(device)\n",
        "opt = Adam(t_model.parameters(), lr=0.005)"
      ],
      "execution_count": 217,
      "outputs": []
    },
    {
      "cell_type": "code",
      "metadata": {
        "colab": {
          "base_uri": "https://localhost:8080/",
          "height": 281
        },
        "id": "0Vx9-t1QNkqV",
        "outputId": "76665a69-c1e0-4d98-ee96-fd0cc8bca6d7"
      },
      "source": [
        "n_epochs = 100\n",
        "run(n_epochs, t_model, train_dataloader, valid_dataloader, device, opt)"
      ],
      "execution_count": 218,
      "outputs": [
        {
          "output_type": "display_data",
          "data": {
            "image/png": "[encoded data removed]",
            "text/plain": [
              "<Figure size 432x288 with 1 Axes>"
            ]
          },
          "metadata": {
            "needs_background": "light"
          }
        }
      ]
    },
    {
      "cell_type": "code",
      "metadata": {
        "colab": {
          "base_uri": "https://localhost:8080/"
        },
        "id": "kbdMwea1j98b",
        "outputId": "89dc3375-dab9-4e0d-8f88-cb1d602e6635"
      },
      "source": [
        "score = test_score(t_model, test_dataloader, device)\n",
        "print(f'Test F1 score: {score:.4f}')"
      ],
      "execution_count": 219,
      "outputs": [
        {
          "output_type": "stream",
          "name": "stdout",
          "text": [
            "Test F1 score: 0.9798\n"
          ]
        }
      ]
    },
    {
      "cell_type": "markdown",
      "metadata": {
        "id": "KEiAfYTFQ6qI"
      },
      "source": [
        "### Student GAT model"
      ]
    },
    {
      "cell_type": "markdown",
      "metadata": {
        "id": "dbqC375jcUlk"
      },
      "source": [
        "Let us compare the teacher and srudent model size"
      ]
    },
    {
      "cell_type": "markdown",
      "metadata": {
        "id": "WzSRTdj76QtN"
      },
      "source": [
        "Teacher"
      ]
    },
    {
      "cell_type": "code",
      "metadata": {
        "colab": {
          "base_uri": "https://localhost:8080/"
        },
        "id": "OArCs5ISo3jg",
        "outputId": "f34c78a5-f63d-4ce4-8fa7-c12215775c06"
      },
      "source": [
        "n_params = sum(p.numel() for p in t_model.parameters() if p.requires_grad)\n",
        "print(f'Number of parameters: {n_params * 1e-6:.2f}M')"
      ],
      "execution_count": 220,
      "outputs": [
        {
          "output_type": "stream",
          "name": "stdout",
          "text": [
            "Number of parameters: 2.59M\n"
          ]
        }
      ]
    },
    {
      "cell_type": "markdown",
      "metadata": {
        "id": "Gmtml5q36SC3"
      },
      "source": [
        "Student"
      ]
    },
    {
      "cell_type": "code",
      "metadata": {
        "colab": {
          "base_uri": "https://localhost:8080/"
        },
        "id": "iNZpg02vqRKG",
        "outputId": "e7d0b76a-576c-4f87-9554-3b953f8a39d8"
      },
      "source": [
        "s_model = GAT(n_layers=5, n_heads=[2, 2, 2, 2, 2], in_dim=num_feats, h_dim=68, out_dim=num_classes)\n",
        "n_params = sum(p.numel() for p in s_model.parameters() if p.requires_grad)\n",
        "print(f'Number of parameters: {n_params * 1e-6:.2f}M')"
      ],
      "execution_count": 221,
      "outputs": [
        {
          "output_type": "stream",
          "name": "stdout",
          "text": [
            "Number of parameters: 0.13M\n"
          ]
        }
      ]
    },
    {
      "cell_type": "markdown",
      "metadata": {
        "id": "sKVm4YPIeW76"
      },
      "source": [
        "### Train student without LSP"
      ]
    },
    {
      "cell_type": "markdown",
      "metadata": {
        "id": "Mg6RV9Q-c6pv"
      },
      "source": [
        "Here is the regular training of the student model"
      ]
    },
    {
      "cell_type": "code",
      "metadata": {
        "colab": {
          "base_uri": "https://localhost:8080/",
          "height": 281
        },
        "id": "ofuHqMDUq5yy",
        "outputId": "6d824447-0a2a-4ac7-a175-2495b66018d7"
      },
      "source": [
        "n_runs = 5\n",
        "scores = []\n",
        "for i in range(n_runs):\n",
        "    s_model = GAT(n_layers=5, n_heads=[2, 2, 2, 2, 2], in_dim=num_feats, h_dim=68, out_dim=num_classes)\n",
        "    s_model.to(device)\n",
        "    opt = Adam(s_model.parameters(), lr=0.005)\n",
        "    n_epochs = 100\n",
        "    run(n_epochs, s_model, train_dataloader, valid_dataloader, device, opt)\n",
        "    scores.append(test_score(s_model, test_dataloader, device))\n",
        "scores = np.array(scores)"
      ],
      "execution_count": 222,
      "outputs": [
        {
          "output_type": "display_data",
          "data": {
            "image/png": "[encoded data removed]",
            "text/plain": [
              "<Figure size 432x288 with 1 Axes>"
            ]
          },
          "metadata": {
            "needs_background": "light"
          }
        }
      ]
    },
    {
      "cell_type": "code",
      "metadata": {
        "colab": {
          "base_uri": "https://localhost:8080/"
        },
        "id": "bsHWa0Kw4zzR",
        "outputId": "f82a90ac-bf33-44b4-99c7-e3232444393f"
      },
      "source": [
        "print(f'Test F1 score: {scores.mean():.4f} ± {2*scores.std():.4f}')"
      ],
      "execution_count": 223,
      "outputs": [
        {
          "output_type": "stream",
          "name": "stdout",
          "text": [
            "Test F1 score: 0.7869 ± 0.0301\n"
          ]
        }
      ]
    },
    {
      "cell_type": "markdown",
      "metadata": {
        "id": "swiA_SIhevCW"
      },
      "source": [
        "### Graph local structure"
      ]
    },
    {
      "cell_type": "code",
      "metadata": {
        "id": "vCT4R2sOwsD5"
      },
      "source": [
        "s_model = GAT(n_layers=5, n_heads=[2, 2, 2, 2, 2], in_dim=num_feats, h_dim=68, out_dim=num_classes)\n",
        "s_model.to(device);"
      ],
      "execution_count": 224,
      "outputs": []
    },
    {
      "cell_type": "code",
      "metadata": {
        "id": "b62Q2VlG6nB9"
      },
      "source": [
        "graph, feat, label = train_dataset[1]\n",
        "graph, feat, label = graph.to(device), feat.to(device), label.to(device)\n",
        "\n",
        "with torch.no_grad():\n",
        "    _, t_mid_h = t_model(graph, feat)\n",
        "    logits, s_mid_h = s_model(graph, feat)"
      ],
      "execution_count": 225,
      "outputs": []
    },
    {
      "cell_type": "code",
      "metadata": {
        "colab": {
          "base_uri": "https://localhost:8080/"
        },
        "id": "rEBq6Ur9A1yF",
        "outputId": "f15f30df-85b4-4be7-f3d8-c8b7c3138f36"
      },
      "source": [
        "len(t_mid_h), len(s_mid_h)"
      ],
      "execution_count": 226,
      "outputs": [
        {
          "output_type": "execute_result",
          "data": {
            "text/plain": [
              "(2, 4)"
            ]
          },
          "metadata": {},
          "execution_count": 226
        }
      ]
    },
    {
      "cell_type": "markdown",
      "metadata": {
        "id": "58mjJV9hfYa8"
      },
      "source": [
        "Let us preserve local structure in the first layer"
      ]
    },
    {
      "cell_type": "code",
      "metadata": {
        "colab": {
          "base_uri": "https://localhost:8080/"
        },
        "id": "83W-pDZKCAnt",
        "outputId": "89bb5efc-9356-4bca-c6e9-bb2ccbde173c"
      },
      "source": [
        "t_emb = t_mid_h[0]\n",
        "s_emb = s_mid_h[0]\n",
        "t_emb.shape, s_emb.shape"
      ],
      "execution_count": 227,
      "outputs": [
        {
          "output_type": "execute_result",
          "data": {
            "text/plain": [
              "(torch.Size([1377, 1024]), torch.Size([1377, 136]))"
            ]
          },
          "metadata": {},
          "execution_count": 227
        }
      ]
    },
    {
      "cell_type": "markdown",
      "metadata": {
        "id": "IfwB1oN0hEpQ"
      },
      "source": [
        "Local structire describes the distribution of distances between neighbors\n",
        "\n",
        "$$L S_{i j}=\\frac{e^{\\text{sim}(z_{i}, z_{j})}}{\\sum_{j:(i, j) \\in \\mathcal{E}} e^{\\text{sim}(z_{i}, z_{j})}}$$\n",
        "\n",
        "Here we apply Gaussian kernel function as a distance function\n",
        "\n",
        "$$\\text{sim}(z_i, z_j) = e^{-\\frac{1}{2 \\sigma^2}(z_i - z_j)^2}$$"
      ]
    },
    {
      "cell_type": "code",
      "metadata": {
        "id": "b9IKFGV_seeK"
      },
      "source": [
        "def loc_structure(_graph, emb, sigma=1):\n",
        "    graph = _graph.remove_self_loop()\n",
        "    graph.ndata['h'] = emb\n",
        "    graph.apply_edges(fn.u_sub_v('h', 'h', 'diff'))\n",
        "    diff = graph.edata['diff']\n",
        "    h = torch.exp(-(diff**2).sum(1) / 2 / sigma**2)\n",
        "    return edge_softmax(graph, h)"
      ],
      "execution_count": 228,
      "outputs": []
    },
    {
      "cell_type": "code",
      "metadata": {
        "colab": {
          "base_uri": "https://localhost:8080/"
        },
        "id": "JHWzkXUszhsO",
        "outputId": "f708f924-d49e-403c-f3b1-8a398de8cab1"
      },
      "source": [
        "s_ls = loc_structure(graph, s_emb, sigma=3)\n",
        "t_ls = loc_structure(graph, t_emb, sigma=3)\n",
        "t_ls"
      ],
      "execution_count": 229,
      "outputs": [
        {
          "output_type": "execute_result",
          "data": {
            "text/plain": [
              "tensor([0.0400, 0.0054, 0.1250,  ..., 0.0233, 0.0143, 0.0116], device='cuda:0')"
            ]
          },
          "metadata": {},
          "execution_count": 229
        }
      ]
    },
    {
      "cell_type": "code",
      "metadata": {
        "id": "l46698syxJXy"
      },
      "source": [
        "def plot_node_ls(v, t_ls, s_ls, _graph):\n",
        "    graph = _graph.remove_self_loop()\n",
        "    t_proba = t_ls[graph.in_edges(v, form='eid')].cpu()\n",
        "    s_proba = s_ls[graph.in_edges(v, form='eid')].cpu()\n",
        "    x_space = np.arange(t_proba.shape[0])\n",
        "    w = np.min(np.diff(x_space)) / 3\n",
        "    plt.bar(x_space, t_proba, w, label='Teacher distribution')\n",
        "    plt.bar(x_space+w, s_proba, w, label='Student distribution')\n",
        "    plt.legend(loc='lower left')\n",
        "    plt.title(f'Local structure of the node {v}')\n",
        "    plt.show()"
      ],
      "execution_count": 230,
      "outputs": []
    },
    {
      "cell_type": "code",
      "metadata": {
        "colab": {
          "base_uri": "https://localhost:8080/",
          "height": 545
        },
        "id": "zH_eley3JD_v",
        "outputId": "c116b229-8655-45f9-ac3b-9bef602454ee"
      },
      "source": [
        "plot_node_ls(2, t_ls, s_ls, graph)\n",
        "plot_node_ls(8, t_ls, s_ls, graph)"
      ],
      "execution_count": 231,
      "outputs": [
        {
          "output_type": "display_data",
          "data": {
            "image/png": "[encoded data removed]",
            "text/plain": [
              "<Figure size 432x288 with 1 Axes>"
            ]
          },
          "metadata": {
            "needs_background": "light"
          }
        },
        {
          "output_type": "display_data",
          "data": {
            "image/png": "[encoded data removed]",
            "text/plain": [
              "<Figure size 432x288 with 1 Axes>"
            ]
          },
          "metadata": {
            "needs_background": "light"
          }
        }
      ]
    },
    {
      "cell_type": "markdown",
      "metadata": {
        "id": "b8H3Oej1yjpW"
      },
      "source": [
        "### Graph KL divergence"
      ]
    },
    {
      "cell_type": "markdown",
      "metadata": {
        "id": "6APd8pFajywy"
      },
      "source": [
        "We will minimize the KL divergence between distributions of teacher local structure and student local structure\n",
        "\n",
        "$$\\mathcal{S}_{i}=D_{K L}\\left(L S_{i}^{s}|| L S_{i}^{t}\\right)=\\sum_{j:(j, i) \\in \\mathcal{E}} L S_{i j}^{s} \\log \\left(\\frac{L S_{i j}^{s}}{L S_{i j}^{t}}\\right)$$\n",
        "\n",
        "$$\\mathcal{L}_\\text{LSP}=\\frac{1}{N} \\sum_{i=1}^{N} \\mathcal{S}_{i}$$\n",
        "\n",
        "We can compute graph KL by message passing framework\n",
        "\n",
        "<img src='https://raw.githubusercontent.com/netspractice/advanced_gnn/main/lab_knowledge_distillation/message_passing.jpeg' width=500>"
      ]
    },
    {
      "cell_type": "code",
      "metadata": {
        "id": "KJZ7M_rt0Wki"
      },
      "source": [
        "def graph_kl(_graph, edgex, edgey):\n",
        "    graph = _graph.remove_self_loop()\n",
        "    graph.edata['diff'] = edgex * (torch.log(edgex) - torch.log(edgey))\n",
        "    graph.update_all(fn.copy_e('diff', 'm'), fn.sum('m', 'kl'))\n",
        "    return graph.ndata['kl'].mean()"
      ],
      "execution_count": 232,
      "outputs": []
    },
    {
      "cell_type": "code",
      "metadata": {
        "colab": {
          "base_uri": "https://localhost:8080/"
        },
        "id": "cAXo3hJN-Uam",
        "outputId": "b59e7930-f89d-42af-c5e6-df9ad2595215"
      },
      "source": [
        "graph_kl(graph, s_ls, t_ls)"
      ],
      "execution_count": 233,
      "outputs": [
        {
          "output_type": "execute_result",
          "data": {
            "text/plain": [
              "tensor(0.0143, device='cuda:0')"
            ]
          },
          "metadata": {},
          "execution_count": 233
        }
      ]
    },
    {
      "cell_type": "code",
      "metadata": {
        "colab": {
          "base_uri": "https://localhost:8080/"
        },
        "id": "kB1WEmkLBr7S",
        "outputId": "0d0a03fd-b342-4aec-f544-875f9d738970"
      },
      "source": [
        "graph_kl(graph, t_ls, t_ls)"
      ],
      "execution_count": 234,
      "outputs": [
        {
          "output_type": "execute_result",
          "data": {
            "text/plain": [
              "tensor(0., device='cuda:0')"
            ]
          },
          "metadata": {},
          "execution_count": 234
        }
      ]
    },
    {
      "cell_type": "markdown",
      "metadata": {
        "id": "4e49wn53jBWL"
      },
      "source": [
        "### LSP loss"
      ]
    },
    {
      "cell_type": "markdown",
      "metadata": {
        "id": "n5T2Lv0OlgGg"
      },
      "source": [
        "We train the student using local structure from the teacher. So, full loss contains cross entropy loss and LSP loss.\n",
        "\n",
        "$$\\mathcal{L}=\\mathcal{H}\\left(p_{s}, y\\right)+\\lambda \\mathcal{L}_\\text{LSP}$$"
      ]
    },
    {
      "cell_type": "code",
      "metadata": {
        "id": "R8Eqy7E9AZYw",
        "colab": {
          "base_uri": "https://localhost:8080/"
        },
        "outputId": "51a2d29f-32b6-4abc-f89c-76260f95c63f"
      },
      "source": [
        "ce_loss = F.binary_cross_entropy_with_logits(logits, label)\n",
        "print(f'CE loss: {ce_loss:.4f}')"
      ],
      "execution_count": 235,
      "outputs": [
        {
          "output_type": "stream",
          "name": "stdout",
          "text": [
            "CE loss: 1.0069\n"
          ]
        }
      ]
    },
    {
      "cell_type": "code",
      "metadata": {
        "colab": {
          "base_uri": "https://localhost:8080/"
        },
        "id": "G076b0qkgn4x",
        "outputId": "3246a264-24d5-4883-af0f-b70dd5eb5efd"
      },
      "source": [
        "lsp_weight = 100\n",
        "ce_loss = F.binary_cross_entropy_with_logits(logits, label)\n",
        "s_ls = loc_structure(graph, s_emb, sigma=1)\n",
        "t_ls = loc_structure(graph, t_emb, sigma=1)\n",
        "lsp_loss = graph_kl(graph, s_ls, t_ls)\n",
        "full_loss = ce_loss + lsp_weight*lsp_loss\n",
        "print(f'Full loss: {full_loss:.4f}')"
      ],
      "execution_count": 236,
      "outputs": [
        {
          "output_type": "stream",
          "name": "stdout",
          "text": [
            "Full loss: 1.0928\n"
          ]
        }
      ]
    },
    {
      "cell_type": "markdown",
      "metadata": {
        "id": "z8uWScHaehpf"
      },
      "source": [
        "### Train student with LSP"
      ]
    },
    {
      "cell_type": "code",
      "metadata": {
        "id": "qEIAWEeUdbKg"
      },
      "source": [
        "def lsp_train(t_model, s_model, dataloader, device, opt):\n",
        "    s_model.train()\n",
        "    _full_train_loss = []\n",
        "    _ce_train_loss = []\n",
        "    for graph, feat, label in dataloader:\n",
        "        graph, feat, label = graph.to(device), feat.to(device), label.to(device)\n",
        "        with torch.no_grad():\n",
        "            _, t_mid_h = t_model(graph, feat)\n",
        "        logits, s_mid_h = s_model(graph, feat)\n",
        "        \n",
        "        ce_loss = F.binary_cross_entropy_with_logits(logits, label)\n",
        "\n",
        "        lsp_loss = 0\n",
        "        for target_layer in [-2, -1]:\n",
        "            s_ls = loc_structure(graph, t_mid_h[target_layer], sigma=1)\n",
        "            t_ls = loc_structure(graph, s_mid_h[target_layer], sigma=1)\n",
        "            lsp_loss += graph_kl(graph, s_ls, t_ls)\n",
        "        \n",
        "        lsp_weight = 100\n",
        "        loss = ce_loss + lsp_weight*lsp_loss\n",
        "\n",
        "        opt.zero_grad()\n",
        "        loss.backward()\n",
        "        opt.step()\n",
        "        _full_train_loss.append(loss.item())\n",
        "        _ce_train_loss.append(ce_loss.item())\n",
        "    return sum(_full_train_loss) / len(_full_train_loss), sum(_ce_train_loss) / len(_ce_train_loss)\n",
        "\n",
        "def lsp_run(n_epochs, t_model, s_model, train_dataloader, valid_dataloader, device, opt):\n",
        "    full_train_loss, ce_train_loss, val_loss = [], [], []\n",
        "    for epoch in range(n_epochs):\n",
        "        \n",
        "        full, ce = lsp_train(t_model, s_model, train_dataloader, device, opt)\n",
        "        ce_train_loss.append(ce)\n",
        "        full_train_loss.append(full)\n",
        "        \n",
        "        loss = eval(s_model, valid_dataloader, device)\n",
        "        val_loss.append(loss)\n",
        "\n",
        "        plt.plot(\n",
        "            full_train_loss[-50:], \n",
        "            label='Full loss, train', \n",
        "            color='tab:blue')\n",
        "        plt.plot(\n",
        "            ce_train_loss[-50:], \n",
        "            label='CE loss, train', \n",
        "            color='tab:blue', \n",
        "            linestyle='--')\n",
        "        plt.plot(val_loss[-50:], label='CE loss, val', color='tab:orange')\n",
        "        plt.legend()\n",
        "        plt.title('Loss. Epoch: {}/{}'.format(epoch+1, n_epochs))\n",
        "        plt.show()\n",
        "        clear_output(wait=True)"
      ],
      "execution_count": 237,
      "outputs": []
    },
    {
      "cell_type": "code",
      "metadata": {
        "colab": {
          "base_uri": "https://localhost:8080/",
          "height": 281
        },
        "id": "Bf3HRUb2FcAK",
        "outputId": "cd153316-8cc7-4722-bb09-6d8b1508e4b7"
      },
      "source": [
        "n_runs = 5\n",
        "scores = []\n",
        "for i in range(n_runs):\n",
        "    s_model = GAT(n_layers=5, n_heads=[2, 2, 2, 2, 2], in_dim=num_feats, h_dim=68, out_dim=num_classes)\n",
        "    s_model.to(device)\n",
        "    opt = Adam(s_model.parameters(), lr=0.005)\n",
        "    n_epochs = 100\n",
        "    lsp_run(n_epochs, t_model, s_model, train_dataloader, valid_dataloader, device, opt)\n",
        "    scores.append(test_score(s_model, test_dataloader, device))\n",
        "scores = np.array(scores)"
      ],
      "execution_count": 238,
      "outputs": [
        {
          "output_type": "display_data",
          "data": {
            "image/png": "[encoded data removed]",
            "text/plain": [
              "<Figure size 432x288 with 1 Axes>"
            ]
          },
          "metadata": {
            "needs_background": "light"
          }
        }
      ]
    },
    {
      "cell_type": "code",
      "metadata": {
        "id": "p9BH1CBzGhLl",
        "colab": {
          "base_uri": "https://localhost:8080/"
        },
        "outputId": "3e74c7d2-8691-40bb-ac5a-4d1c7fff856f"
      },
      "source": [
        "print(f'Test F1 score: {scores.mean():.4f} ± {2*scores.std():.4f}')"
      ],
      "execution_count": 239,
      "outputs": [
        {
          "output_type": "stream",
          "name": "stdout",
          "text": [
            "Test F1 score: 0.7953 ± 0.0063\n"
          ]
        }
      ]
    },
    {
      "cell_type": "code",
      "metadata": {
        "id": "3QTNPNsz_Qy-"
      },
      "source": [
        ""
      ],
      "execution_count": 239,
      "outputs": []
    }
  ]
}