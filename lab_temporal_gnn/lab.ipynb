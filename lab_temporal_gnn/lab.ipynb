{
  "nbformat": 4,
  "nbformat_minor": 0,
  "metadata": {
    "colab": {
      "name": "Made 2021. Advanced GNN. Temporal GNN.ipynb",
      "provenance": [],
      "collapsed_sections": []
    },
    "kernelspec": {
      "name": "python3",
      "display_name": "Python 3"
    },
    "language_info": {
      "name": "python"
    }
  },
  "cells": [
    {
      "cell_type": "markdown",
      "metadata": {
        "id": "WrM5oe4yBM3B"
      },
      "source": [
        "# Lab -- Temporal Graph Neural Networks\n",
        "\n",
        "Today we will work on temporal graph networks ([TGN](https://arxiv.org/abs/2006.10637))\n",
        "\n",
        "We will predict the interactions in the common baseline wikipedia dataset. Let us download it"
      ]
    },
    {
      "cell_type": "code",
      "metadata": {
        "id": "1v-Q_KYcDaF3"
      },
      "source": [
        "import pandas as pd\n",
        "import numpy as np\n",
        "import torch\n",
        "from torch import nn\n",
        "import torch.nn.functional as F"
      ],
      "execution_count": null,
      "outputs": []
    },
    {
      "cell_type": "code",
      "metadata": {
        "colab": {
          "base_uri": "https://localhost:8080/"
        },
        "id": "CsdKZ93pBIzA",
        "outputId": "a5017792-a0b7-4720-ee8a-70b52644314e"
      },
      "source": [
        "! gdown https://drive.google.com/uc?id=1ODhuHenqWi93m-mn48NFfA6RbQXsaJoD\n",
        "! unzip data.zip"
      ],
      "execution_count": null,
      "outputs": [
        {
          "output_type": "stream",
          "name": "stdout",
          "text": [
            "Downloading...\n",
            "From: https://drive.google.com/uc?id=1ODhuHenqWi93m-mn48NFfA6RbQXsaJoD\n",
            "To: /content/data.zip\n",
            "100% 183M/183M [00:01<00:00, 109MB/s]\n",
            "Archive:  data.zip\n",
            "  inflating: ml_enron.npy            \n",
            "  inflating: ml_wikipedia.csv        \n",
            "  inflating: ml_uci.csv              \n",
            "  inflating: ml_socialevolve_2weeks.csv  \n",
            "  inflating: ml_socialevolve_1month.csv  \n",
            "  inflating: ml_socialevolve.csv     \n",
            "  inflating: ml_reddit.csv           \n",
            "  inflating: ml_enron.csv            \n",
            "  inflating: ml_wikipedia_node.npy   \n",
            "  inflating: ml_wikipedia.npy        \n",
            "  inflating: ml_uci_node.npy         \n",
            "  inflating: ml_uci.npy              \n",
            "  inflating: ml_socialevolve_node.npy  \n",
            "  inflating: ml_socialevolve_2weeks_node.npy  \n",
            "  inflating: ml_socialevolve_2weeks.npy  \n",
            "  inflating: ml_socialevolve_1month_node.npy  \n",
            "  inflating: ml_socialevolve_1month.npy  \n",
            "  inflating: ml_socialevolve.npy     \n",
            "  inflating: ml_reddit_node.npy      \n",
            "  inflating: ml_reddit.npy           \n",
            "  inflating: ml_enron_node.npy       \n"
          ]
        }
      ]
    },
    {
      "cell_type": "markdown",
      "metadata": {
        "id": "KDoEf_66CjeH"
      },
      "source": [
        "Dataset consist of three parts: edgelist `ml_wikipedia.csv`, edge features `ml_wikipedia.npy` and node features `ml_wikipedia_node.npy`."
      ]
    },
    {
      "cell_type": "code",
      "metadata": {
        "id": "btypx_tFCR8C"
      },
      "source": [
        "graph_df = pd.read_csv(\"ml_wikipedia.csv\")\n",
        "graph_df = graph_df.sort_values(\"ts\")\n",
        "edge_features = np.load(\"ml_wikipedia.npy\")\n",
        "node_features = np.load(\"ml_wikipedia_node.npy\")"
      ],
      "execution_count": null,
      "outputs": []
    },
    {
      "cell_type": "code",
      "metadata": {
        "id": "8bcieJChWDgz"
      },
      "source": [
        "node_features = torch.from_numpy(node_features).float()\n",
        "edge_features = torch.from_numpy(edge_features).float()"
      ],
      "execution_count": null,
      "outputs": []
    },
    {
      "cell_type": "code",
      "metadata": {
        "colab": {
          "base_uri": "https://localhost:8080/",
          "height": 206
        },
        "id": "up1FyCNkEcJX",
        "outputId": "e75804d0-3f91-4e48-a39c-41b90313ecd9"
      },
      "source": [
        "graph_df.head()"
      ],
      "execution_count": null,
      "outputs": [
        {
          "output_type": "execute_result",
          "data": {
            "text/html": [
              "<div>\n",
              "<style scoped>\n",
              "    .dataframe tbody tr th:only-of-type {\n",
              "        vertical-align: middle;\n",
              "    }\n",
              "\n",
              "    .dataframe tbody tr th {\n",
              "        vertical-align: top;\n",
              "    }\n",
              "\n",
              "    .dataframe thead th {\n",
              "        text-align: right;\n",
              "    }\n",
              "</style>\n",
              "<table border=\"1\" class=\"dataframe\">\n",
              "  <thead>\n",
              "    <tr style=\"text-align: right;\">\n",
              "      <th></th>\n",
              "      <th>Unnamed: 0</th>\n",
              "      <th>u</th>\n",
              "      <th>i</th>\n",
              "      <th>ts</th>\n",
              "      <th>label</th>\n",
              "      <th>idx</th>\n",
              "    </tr>\n",
              "  </thead>\n",
              "  <tbody>\n",
              "    <tr>\n",
              "      <th>0</th>\n",
              "      <td>0</td>\n",
              "      <td>1</td>\n",
              "      <td>8228</td>\n",
              "      <td>0.0</td>\n",
              "      <td>0</td>\n",
              "      <td>1</td>\n",
              "    </tr>\n",
              "    <tr>\n",
              "      <th>1</th>\n",
              "      <td>1</td>\n",
              "      <td>2</td>\n",
              "      <td>8229</td>\n",
              "      <td>36.0</td>\n",
              "      <td>0</td>\n",
              "      <td>2</td>\n",
              "    </tr>\n",
              "    <tr>\n",
              "      <th>2</th>\n",
              "      <td>2</td>\n",
              "      <td>2</td>\n",
              "      <td>8229</td>\n",
              "      <td>77.0</td>\n",
              "      <td>0</td>\n",
              "      <td>3</td>\n",
              "    </tr>\n",
              "    <tr>\n",
              "      <th>3</th>\n",
              "      <td>3</td>\n",
              "      <td>3</td>\n",
              "      <td>8230</td>\n",
              "      <td>131.0</td>\n",
              "      <td>0</td>\n",
              "      <td>4</td>\n",
              "    </tr>\n",
              "    <tr>\n",
              "      <th>4</th>\n",
              "      <td>4</td>\n",
              "      <td>2</td>\n",
              "      <td>8229</td>\n",
              "      <td>150.0</td>\n",
              "      <td>0</td>\n",
              "      <td>5</td>\n",
              "    </tr>\n",
              "  </tbody>\n",
              "</table>\n",
              "</div>"
            ],
            "text/plain": [
              "   Unnamed: 0  u     i     ts  label  idx\n",
              "0           0  1  8228    0.0      0    1\n",
              "1           1  2  8229   36.0      0    2\n",
              "2           2  2  8229   77.0      0    3\n",
              "3           3  3  8230  131.0      0    4\n",
              "4           4  2  8229  150.0      0    5"
            ]
          },
          "metadata": {},
          "execution_count": 413
        }
      ]
    },
    {
      "cell_type": "markdown",
      "metadata": {
        "id": "HAqTEnzEE0x3"
      },
      "source": [
        "The models are inductive, i.e. should work good enough on unseen previously nodes and edges. So let us split our dataset on train, validation and test parts in following fashion:\n",
        "\n",
        "1. Split dataset by some threshold time\n",
        "2. Select part of a nodes that appear on the test time period and remove if from the train dataset"
      ]
    },
    {
      "cell_type": "code",
      "metadata": {
        "id": "S2nYcon9GXXE"
      },
      "source": [
        "import random\n",
        "\n",
        "random.seed(0)\n",
        "\n",
        "node_set = set(graph_df.u) | set(graph_df.i)\n",
        "\n",
        "# 70% of time is train, 15% is validation and 15% is test\n",
        "val_time, test_time = list(np.quantile(graph_df.ts, [0.70, 0.85]))\n",
        "\n",
        "test_node_set = set(graph_df[graph_df.ts > val_time].u) | set(graph_df[graph_df.ts > val_time].i)\n",
        "\n",
        "test_node_set = set(random.sample(test_node_set, int(0.1 * len(node_set))))"
      ],
      "execution_count": null,
      "outputs": []
    },
    {
      "cell_type": "code",
      "metadata": {
        "id": "0hx5ZGLBI_Jr"
      },
      "source": [
        "test_node_mask = graph_df.u.isin(test_node_set) | graph_df.i.isin(test_node_set)\n",
        "\n",
        "train_mask = (graph_df.ts <= val_time) & (~test_node_mask)\n",
        "val_mask = (graph_df.ts > val_time) & (graph_df.ts <= test_time)\n",
        "test_mask = (graph_df.ts > test_time)\n",
        "\n",
        "new_nodes = node_set - set(graph_df.u[train_mask]) - set(graph_df.i[train_mask])\n",
        "\n",
        "new_node_val_mask = val_mask & (graph_df.u.isin(new_nodes) | graph_df.i.isin(new_nodes))\n",
        "new_node_test_mask = test_mask & (graph_df.u.isin(new_nodes) | graph_df.i.isin(new_nodes))"
      ],
      "execution_count": null,
      "outputs": []
    },
    {
      "cell_type": "code",
      "metadata": {
        "id": "Y5-0g0BuCLzH"
      },
      "source": [
        "def subgraph_to_dataset(subgraph_df):\n",
        "  return torch.utils.data.TensorDataset(\n",
        "      torch.LongTensor(subgraph_df.u.values), # sources\n",
        "      torch.LongTensor(subgraph_df.i.values), # destinations\n",
        "      torch.FloatTensor(subgraph_df.ts.values), # timestamps\n",
        "      torch.LongTensor(subgraph_df.idx.values), # edge index\n",
        "      torch.LongTensor(subgraph_df.label.values), # label\n",
        "  )"
      ],
      "execution_count": null,
      "outputs": []
    },
    {
      "cell_type": "code",
      "metadata": {
        "id": "Ol03iAb2CSEG"
      },
      "source": [
        "class NeighborFinder:\n",
        "    def __init__(self, subgraph_df, uniform=True):\n",
        "        self.prepare_neighbors(subgraph_df)\n",
        "        self.uniform = uniform\n",
        "    \n",
        "    def prepare_neighbors(self, subgraph_df):\n",
        "        tmp_src = subgraph_df.sort_values(\"ts\").groupby(\"u\")[[\"i\", \"idx\", \"ts\"]].agg(list)\n",
        "        tmp_dst = subgraph_df.sort_values(\"ts\").groupby(\"i\")[[\"u\", \"idx\", \"ts\"]].agg(list)\n",
        "        self.node_to_neighbors = tmp_src[\"i\"].map(torch.LongTensor).to_dict()\n",
        "        self.node_to_neighbors.update(\n",
        "            tmp_dst[\"u\"].map(torch.LongTensor).to_dict()\n",
        "        )\n",
        "        self.node_to_edge_idxs = tmp_src[\"idx\"].map(torch.LongTensor).to_dict()\n",
        "        self.node_to_edge_idxs.update(\n",
        "            tmp_dst[\"idx\"].map(torch.LongTensor).to_dict()\n",
        "        )\n",
        "        self.node_to_edge_timestamps = tmp_src[\"ts\"].map(torch.FloatTensor).to_dict()\n",
        "        self.node_to_edge_timestamps.update(\n",
        "            tmp_dst[\"ts\"].map(torch.FloatTensor).to_dict()\n",
        "        )\n",
        "\n",
        "    def find_before(self, src_idx, cut_time):\n",
        "        i = torch.searchsorted(self.node_to_edge_timestamps[src_idx], cut_time)\n",
        "        return self.node_to_neighbors[src_idx][:i], self.node_to_edge_idxs[src_idx][:i], self.node_to_edge_timestamps[src_idx][:i]"
      ],
      "execution_count": null,
      "outputs": []
    },
    {
      "cell_type": "code",
      "metadata": {
        "id": "0ukVcJjnCgIV"
      },
      "source": [
        "train_finder = NeighborFinder(graph_df[train_mask])\n",
        "full_finder = NeighborFinder(graph_df)"
      ],
      "execution_count": null,
      "outputs": []
    },
    {
      "cell_type": "code",
      "metadata": {
        "id": "kk9wbYFu8sFh"
      },
      "source": [
        "class EdgeSampler:\n",
        "    def __init__(self, dst_list, seed=0):\n",
        "        self.dst_list = dst_list\n",
        "        self.dst_size = len(self.dst_list)\n",
        "    \n",
        "    def sample(self):\n",
        "        i = random.randint(0, self.dst_size - 1)\n",
        "        return self.dst_list[i]"
      ],
      "execution_count": null,
      "outputs": []
    },
    {
      "cell_type": "code",
      "metadata": {
        "id": "h5-Y5QxmAZYi"
      },
      "source": [
        "class TemporalGraphDataset(torch.utils.data.Dataset):\n",
        "    def __init__(self, subgraph_df, neighbor_finder, n_neighbors=10):\n",
        "        self.dataset = subgraph_to_dataset(subgraph_df.sort_values(\"ts\"))\n",
        "        self.neighbor_finder = neighbor_finder\n",
        "        self.n_neighbors = n_neighbors\n",
        "        self.random_sampler = EdgeSampler(subgraph_df.i.unique())\n",
        "    \n",
        "    def __len__(self):\n",
        "        return len(self.dataset)\n",
        "    \n",
        "    def get_neighbors(self, source, timestamp):\n",
        "        neighbors, edge_idxs, edge_times = self.neighbor_finder.find_before(source, timestamp)\n",
        "        if neighbors.shape[0] == 0:\n",
        "            neighbors, edge_idxs, edge_times = torch.zeros(self.n_neighbors), torch.zeros(self.n_neighbors), torch.zeros(self.n_neighbors)\n",
        "        else:\n",
        "            ids = np.random.randint(0, neighbors.shape[0], self.n_neighbors)\n",
        "            neighbors, edge_idxs, edge_times = neighbors[ids], edge_idxs[ids], edge_times[ids]\n",
        "            sorted_index = edge_times.argsort()\n",
        "            neighbors, edge_idxs, edge_times = neighbors[sorted_index], edge_idxs[sorted_index], edge_times[sorted_index]\n",
        "        return neighbors.long(), edge_idxs.long(), edge_times\n",
        "\n",
        "\n",
        "    def __getitem__(self, idx):\n",
        "        source, destination, timestamp, edge_idx, label = self.dataset.__getitem__(idx)\n",
        "        negative = self.random_sampler.sample()\n",
        "        neighbors = {\n",
        "            \"source\": self.get_neighbors(source.item(), timestamp.item()),\n",
        "            \"positive\": self.get_neighbors(destination.item(), timestamp.item()),\n",
        "            \"negative\": self.get_neighbors(negative, timestamp.item()),\n",
        "        }\n",
        "        return source, destination, negative, timestamp, edge_idx, label, neighbors"
      ],
      "execution_count": null,
      "outputs": []
    },
    {
      "cell_type": "code",
      "metadata": {
        "id": "6gs05SlaI_Fx"
      },
      "source": [
        "train_ds = TemporalGraphDataset(graph_df[train_mask].sort_values(\"ts\"), train_finder)\n",
        "val_ds = TemporalGraphDataset(graph_df[val_mask].sort_values(\"ts\"), full_finder)\n",
        "new_node_val_ds = TemporalGraphDataset(graph_df[new_node_val_mask].sort_values(\"ts\"), full_finder)\n",
        "test_ds = TemporalGraphDataset(graph_df[test_mask].sort_values(\"ts\"), full_finder)\n",
        "new_node_test_ds = TemporalGraphDataset(graph_df[new_node_test_mask].sort_values(\"ts\"), full_finder)\n",
        "\n",
        "\n",
        "train_loader = torch.utils.data.DataLoader(train_ds, batch_size=200, shuffle=False)\n",
        "val_loader = torch.utils.data.DataLoader(val_ds, batch_size=200, shuffle=False)\n",
        "new_node_val_loader = torch.utils.data.DataLoader(new_node_val_ds, batch_size=200, shuffle=False)\n",
        "test_loader = torch.utils.data.DataLoader(test_ds, batch_size=200, shuffle=False)\n",
        "new_node_test_loader = torch.utils.data.DataLoader(new_node_test_ds, batch_size=200, shuffle=False)"
      ],
      "execution_count": null,
      "outputs": []
    },
    {
      "cell_type": "markdown",
      "metadata": {
        "id": "FjCRR0jeOOLB"
      },
      "source": [
        "## Model definition\n",
        "\n",
        "![](https://github.com/twitter-research/tgn/blob/master/figures/tgn.png?raw=true)"
      ]
    },
    {
      "cell_type": "markdown",
      "metadata": {
        "id": "5vZmQ0x1Wu_f"
      },
      "source": [
        "### Embedding"
      ]
    },
    {
      "cell_type": "code",
      "metadata": {
        "id": "opS9bQ__DiDU"
      },
      "source": [
        "class MergeLayer(nn.Module):\n",
        "    def __init__(self, dim1, dim2, dim3, dim4):\n",
        "        super(MergeLayer, self).__init__()\n",
        "        self.fc1 = torch.nn.Linear(dim1 + dim2, dim3)\n",
        "        self.fc2 = torch.nn.Linear(dim3, dim4)\n",
        "        self.act = torch.nn.ReLU()\n",
        "\n",
        "        torch.nn.init.xavier_normal_(self.fc1.weight)\n",
        "        torch.nn.init.xavier_normal_(self.fc2.weight)\n",
        "\n",
        "    def forward(self, x1, x2):\n",
        "        x = torch.cat([x1, x2], dim=1)\n",
        "        h = self.act(self.fc1(x))\n",
        "        return self.fc2(h)\n",
        "\n",
        "class TimeEncode(nn.Module):\n",
        "    def __init__(self, dimension):\n",
        "        super(TimeEncode, self).__init__()\n",
        "        self.dimension = dimension\n",
        "        self.w = torch.nn.Linear(1, dimension)\n",
        "        self.w.weight = torch.nn.Parameter((torch.from_numpy(1 / 10 ** np.linspace(0, 9, dimension)))\n",
        "                                           .float().reshape(dimension, -1))\n",
        "        self.w.bias = torch.nn.Parameter(torch.zeros(dimension).float())\n",
        "\n",
        "    def forward(self, t):\n",
        "        t = t.unsqueeze(dim=2)\n",
        "        output = torch.cos(self.w(t))\n",
        "        return output"
      ],
      "execution_count": null,
      "outputs": []
    },
    {
      "cell_type": "code",
      "metadata": {
        "id": "X-VOhVECIb2B"
      },
      "source": [
        "class TemporalAttentionLayer(nn.Module):\n",
        "    def __init__(self, n_node_features, n_neighbors_features, n_edge_features, time_dim, output_dimension):\n",
        "        super(TemporalAttentionLayer, self).__init__()\n",
        "\n",
        "        self.n_head = 2\n",
        "\n",
        "        self.feat_dim = n_node_features\n",
        "        self.time_dim = time_dim\n",
        "\n",
        "        self.query_dim = n_node_features + time_dim\n",
        "        self.key_dim = n_neighbors_features + time_dim + n_edge_features\n",
        "\n",
        "        self.merger = MergeLayer(self.query_dim, n_node_features, n_node_features, output_dimension)\n",
        "\n",
        "        self.multi_head_target = nn.MultiheadAttention(embed_dim=self.query_dim,\n",
        "                                                       kdim=self.key_dim,\n",
        "                                                       vdim=self.key_dim,\n",
        "                                                       num_heads=self.n_head,\n",
        "                                                       dropout=0.1)\n",
        "\n",
        "    def forward(self, src_node_features, src_time_features, neighbors_features,\n",
        "                neighbors_time_features, edge_features, neighbors_padding_mask):\n",
        "\n",
        "        src_node_features_unrolled = torch.unsqueeze(src_node_features, dim=1)\n",
        "\n",
        "        query = torch.cat([src_node_features_unrolled, src_time_features], dim=2)\n",
        "        key = torch.cat([neighbors_features, edge_features, neighbors_time_features], dim=2)\n",
        "        query = query.permute([1, 0, 2]) \n",
        "        key = key.permute([1, 0, 2]) \n",
        "\n",
        "        invalid_neighborhood_mask = neighbors_padding_mask.all(dim=1, keepdim=True)\n",
        "        neighbors_padding_mask[invalid_neighborhood_mask.squeeze(), 0] = False\n",
        "\n",
        "\n",
        "        attn_output, attn_output_weights = self.multi_head_target(query=query, key=key, value=key,\n",
        "                                                                  key_padding_mask=neighbors_padding_mask)\n",
        "\n",
        "        attn_output = attn_output.squeeze()\n",
        "        attn_output_weights = attn_output_weights.squeeze()\n",
        "\n",
        "        attn_output = attn_output.masked_fill(invalid_neighborhood_mask, 0)\n",
        "        attn_output_weights = attn_output_weights.masked_fill(invalid_neighborhood_mask, 0)\n",
        "        attn_output = self.merger(attn_output, src_node_features)\n",
        "\n",
        "        return attn_output"
      ],
      "execution_count": null,
      "outputs": []
    },
    {
      "cell_type": "markdown",
      "metadata": {
        "id": "CVtgNIG2W0iI"
      },
      "source": [
        "### Put all together"
      ]
    },
    {
      "cell_type": "code",
      "metadata": {
        "id": "brE97aRHoBwJ"
      },
      "source": [
        "class TGN(nn.Module):\n",
        "    def __init__(self, node_features, edge_features):\n",
        "        super(TGN, self).__init__()\n",
        "        self.device = \"cuda:0\" if torch.cuda.is_available() else \"cpu\"\n",
        "        self.n_nodes, self.n_node_features = node_features.shape\n",
        "        self.memory_dim = self.n_node_features\n",
        "        self.n_edge_features = edge_features.shape[1]\n",
        "        self.attention_model = TemporalAttentionLayer(self.n_node_features, self.n_node_features, self.n_edge_features, self.n_node_features, self.n_node_features)\n",
        "        self.affinity = MergeLayer(self.n_node_features, self.n_node_features, self.n_node_features, 1)\n",
        "        self.time_encoder = TimeEncode(self.n_node_features)\n",
        "        self.node_features = node_features.to(self.device)\n",
        "        self.edge_features = edge_features.to(self.device)\n",
        "        self.message_dim = 2 * self.n_node_features + self.n_edge_features + self.time_encoder.dimension\n",
        "\n",
        "        self.__init_memory__()\n",
        "        self.memory_updater = nn.GRUCell(self.message_dim, self.n_node_features)\n",
        "    \n",
        "    def __init_memory__(self):\n",
        "        self.memory = torch.zeros((self.n_nodes, self.n_node_features), device=self.device)\n",
        "        self.last_update = torch.zeros((self.n_nodes, 1), device=self.device)\n",
        "        self.last_message = torch.zeros((self.n_nodes, self.message_dim), device=self.device)\n",
        "        self.last_message_time = torch.zeros((self.n_nodes, 1), device=self.device)\n",
        "        self.node_with_messages = set()\n",
        "    \n",
        "    def forward(self, source, destination, negative, timestamp, edge_idx, neighbors):\n",
        "        # update memory\n",
        "        nodes_with_message = list(self.node_with_messages)\n",
        "        memory = self.memory.clone()\n",
        "        if len(nodes_with_message) > 0:\n",
        "            memory[nodes_with_message] = self.memory_updater(self.last_message[nodes_with_message], self.memory[nodes_with_message])\n",
        "\n",
        "        # calculate embeddings\n",
        "        source_embedding, destination_embedding, negative_embedding = self.compute_embedding(\n",
        "            memory, source, destination, negative, timestamp, edge_idx, neighbors\n",
        "        )\n",
        "\n",
        "        # save actual edges to memory\n",
        "        self.memory[source] = memory[source].detach()\n",
        "        self.memory[destination] = memory[destination].detach()\n",
        "        self.last_update[source] = self.last_message_time[source]\n",
        "        self.last_update[destination] = self.last_message_time[destination]\n",
        "\n",
        "        # preserve messages for future updates\n",
        "        time_delta = timestamp - self.last_update[source]\n",
        "        time_delta_encoding = self.time_encoder(time_delta).reshape(-1, self.n_node_features)\n",
        "        new_source_messages = torch.cat([\n",
        "          source_embedding, destination_embedding, self.edge_features[edge_idx], time_delta_encoding\n",
        "        ], dim=1)\n",
        "        self.last_message[source] = new_source_messages.detach()\n",
        "        self.last_message_time[source] = timestamp.detach()\n",
        "\n",
        "        time_delta = timestamp - self.last_update[destination].reshape(-1, 1)\n",
        "        time_delta_encoding = self.time_encoder(time_delta).reshape(-1, self.n_node_features)\n",
        "        new_destination_messages = torch.cat([\n",
        "          destination_embedding, source_embedding, self.edge_features[edge_idx], time_delta_encoding\n",
        "        ], dim=1)\n",
        "        self.last_message[destination] = new_destination_messages.detach()\n",
        "        self.last_message_time[destination] = timestamp.detach()\n",
        "        self.node_with_messages |= set(source.tolist()) | set(destination.tolist())\n",
        "\n",
        "        # calculate affinity between embeddings\n",
        "        scores = self.affinity(\n",
        "            torch.cat([source_embedding, source_embedding], dim=0),\n",
        "            torch.cat([destination_embedding, negative_embedding], dim=0),\n",
        "        ).sigmoid()\n",
        "        return scores\n",
        "    \n",
        "    def compute_embedding(self, memory, source, destination, negative, timestamp, edge_idx, neighbors):\n",
        "        all_nodes = torch.cat([source, destination, negative])\n",
        "        all_times = torch.cat([timestamp, timestamp, timestamp])\n",
        "        node_features = memory[all_nodes] + self.node_features[all_nodes]\n",
        "        time_embedding = self.time_encoder(torch.zeros_like(all_times))\n",
        "\n",
        "        neighbor_embeddings, edge_time_embeddings, edge_features, mask = self.compute_neighbors(\n",
        "            memory, all_times, neighbors\n",
        "        )\n",
        "        \n",
        "        all_embeddings = self.attention_model(node_features,\n",
        "                                              time_embedding,\n",
        "                                              neighbor_embeddings,\n",
        "                                              edge_time_embeddings,\n",
        "                                              edge_features,\n",
        "                                              mask)\n",
        "        return (\n",
        "            all_embeddings[:source.size(0)],\n",
        "            all_embeddings[source.size(0):2 * source.size(0)],\n",
        "            all_embeddings[2 * source.size(0):]\n",
        "        )\n",
        "\n",
        "    def compute_neighbors(self, memory, timestamp, neighbors):\n",
        "        all_nodes = torch.cat([neighbors[k][0] for k in neighbors], dim=0)\n",
        "        mask = all_nodes == 0\n",
        "        all_nodes = all_nodes.reshape(-1)\n",
        "        all_edges = torch.cat([neighbors[k][1] for k in neighbors], dim=0)\n",
        "        all_times = torch.cat([neighbors[k][2] for k in neighbors], dim=0)\n",
        "        node_features = memory[all_nodes] + self.node_features[all_nodes]\n",
        "        node_features = node_features.reshape(all_edges.shape[0], all_edges.shape[1], -1)\n",
        "        node_features = torch.zeros_like(node_features)\n",
        "\n",
        "        edge_time_embeddings = self.time_encoder(timestamp - all_times)\n",
        "        edge_features = self.edge_features[all_edges]\n",
        "        \n",
        "        return node_features, edge_time_embeddings, edge_features, mask\n"
      ],
      "execution_count": null,
      "outputs": []
    },
    {
      "cell_type": "markdown",
      "metadata": {
        "id": "kQhPym71W7xK"
      },
      "source": [
        "Training"
      ]
    },
    {
      "cell_type": "code",
      "metadata": {
        "id": "B3ndHl5_e3JN"
      },
      "source": [
        "from sklearn.metrics import average_precision_score\n",
        "from matplotlib import pyplot as plt\n",
        "from IPython.display import clear_output\n",
        "from tqdm import tqdm\n",
        "\n",
        "criterion = nn.BCELoss()\n",
        "def train(model, opt, loader):\n",
        "    model.train()\n",
        "    pr_time = None\n",
        "    for source, destination, negative, timestamp, edge_idx, label, neighbors in tqdm(loader):\n",
        "        source = source.to(model.device)\n",
        "        destination = destination.to(model.device)\n",
        "        negative = negative.to(model.device)\n",
        "        timestamp = timestamp.to(model.device)\n",
        "        edge_idx = edge_idx.to(model.device)\n",
        "        neighbors = {k: [j.to(model.device) for j in v] for k, v in neighbors.items()}\n",
        "\n",
        "        scores = model(source, destination, negative, timestamp.reshape(-1, 1), edge_idx, neighbors)\n",
        "        label = torch.cat([torch.ones_like(source, device=model.device), torch.zeros_like(source, device=model.device)]).float()\n",
        "        loss = criterion(scores, label.view(-1, 1))\n",
        "\n",
        "        opt.zero_grad()\n",
        "        loss.backward()\n",
        "        opt.step()\n",
        "\n",
        "def evaluate(model, loader):\n",
        "    model.eval()\n",
        "    pred = []\n",
        "    gt = []\n",
        "    num_batches = 0\n",
        "    for source, destination, negative, timestamp, edge_idx, label, neighbors in tqdm(loader):\n",
        "        source = source.to(model.device)\n",
        "        destination = destination.to(model.device)\n",
        "        negative = negative.to(model.device)\n",
        "        timestamp = timestamp.to(model.device)\n",
        "        edge_idx = edge_idx.to(model.device)\n",
        "        neighbors = {k: [j.to(model.device) for j in v] for k, v in neighbors.items()}\n",
        "\n",
        "        pred.append(model(source, destination, negative, timestamp.reshape(-1, 1), edge_idx, neighbors).detach().cpu().numpy())\n",
        "        num_batches += 1\n",
        "    gt = [np.concatenate([np.ones(200), np.zeros(200)])] * (num_batches - 1)\n",
        "    gt += [np.concatenate([np.ones_like(source.detach().cpu().numpy()), np.zeros_like(source.detach().cpu().numpy())])]\n",
        "    gt = np.concatenate(gt)\n",
        "    pred = np.concatenate(pred)\n",
        "    return average_precision_score(gt, pred)\n",
        "\n",
        "\n",
        "def run(model, opt, train_loader, val_loader, new_node_val_loader, n_epoch):\n",
        "    ap_log = []\n",
        "    new_node_ap_log = []\n",
        "    for epoch in range(n_epoch):\n",
        "\n",
        "        model.__init_memory__()\n",
        "        train(model, opt, train_loader)\n",
        "\n",
        "        train_memory_backup = model.memory.clone()\n",
        "        train_last_update_backup = model.last_update.clone()\n",
        "        ap_log.append(evaluate(model, val_loader))\n",
        "\n",
        "        val_memory_backup = model.memory.clone()\n",
        "        val_last_update_backup = model.last_update.clone()\n",
        "        model.memory = train_memory_backup\n",
        "        model.last_update = train_last_update_backup\n",
        "        new_node_ap_log.append(evaluate(model, new_node_val_loader))\n",
        "\n",
        "        clear_output()\n",
        "        plt.plot(ap_log, label=f\"all nodes\")\n",
        "        plt.plot(new_node_ap_log, label=f\"new nodes\")\n",
        "        plt.legend()\n",
        "        plt.title(f\"Best score: {max(ap_log):.4f}, {max(new_node_ap_log):.4f} at epoch: {np.argmax(ap_log)}, last score: {ap_log[-1]:.4f}, {new_node_ap_log[-1]:.4f} at epoch {epoch}\")\n",
        "        plt.show()\n",
        "    return val_memory_backup, val_last_update_backup"
      ],
      "execution_count": null,
      "outputs": []
    },
    {
      "cell_type": "code",
      "metadata": {
        "id": "HhSmHCFWCRpK",
        "colab": {
          "base_uri": "https://localhost:8080/",
          "height": 281
        },
        "outputId": "113989ae-1306-4116-9536-d0b129624cc5"
      },
      "source": [
        "tgn = TGN(node_features, edge_features)\n",
        "tgn.to(tgn.device)\n",
        "opt = torch.optim.Adam(tgn.parameters(), 3e-4,)\n",
        "val_memory_backup, val_last_update_backup = run(tgn, opt, train_loader, val_loader, new_node_val_loader, 10)"
      ],
      "execution_count": null,
      "outputs": [
        {
          "output_type": "display_data",
          "data": {
            "image/png": "[encoded data removed]",
            "text/plain": [
              "<Figure size 432x288 with 1 Axes>"
            ]
          },
          "metadata": {
            "needs_background": "light"
          }
        }
      ]
    },
    {
      "cell_type": "code",
      "metadata": {
        "colab": {
          "base_uri": "https://localhost:8080/"
        },
        "id": "SRn02DmJ1pw-",
        "outputId": "f9aa3ded-85f9-45c9-f67e-f1d780fe2d34"
      },
      "source": [
        "ap = evaluate(tgn, test_loader)\n",
        "print(\"\")\n",
        "print(f\"All nodes AP: {ap}\")\n",
        "tgn.memory = val_memory_backup\n",
        "tgn.last_update = val_last_update_backup\n",
        "ap = evaluate(tgn, new_node_test_loader)\n",
        "print(\"\")\n",
        "print(f\"New nodes AP: {ap}\")"
      ],
      "execution_count": null,
      "outputs": [
        {
          "output_type": "stream",
          "name": "stderr",
          "text": [
            "100%|██████████| 119/119 [00:17<00:00,  6.94it/s]\n"
          ]
        },
        {
          "output_type": "stream",
          "name": "stdout",
          "text": [
            "\n",
            "All nodes AP: 0.9543308662953744\n"
          ]
        },
        {
          "output_type": "stream",
          "name": "stderr",
          "text": [
            "100%|██████████| 62/62 [00:08<00:00,  6.95it/s]"
          ]
        },
        {
          "output_type": "stream",
          "name": "stdout",
          "text": [
            "\n",
            "New nodes AP: 0.9617159994850499\n"
          ]
        },
        {
          "output_type": "stream",
          "name": "stderr",
          "text": [
            "\n"
          ]
        }
      ]
    },
    {
      "cell_type": "code",
      "metadata": {
        "id": "sBTfG0xk-ZQJ"
      },
      "source": [
        ""
      ],
      "execution_count": null,
      "outputs": []
    }
  ]
}