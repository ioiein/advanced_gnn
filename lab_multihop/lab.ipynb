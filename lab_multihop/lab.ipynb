{
  "cells": [
    {
      "cell_type": "markdown",
      "metadata": {
        "id": "8omoUVp-903f"
      },
      "source": [
        "# Assignment — Multi-hop Reasoning on Knowledge graphs"
      ]
    },
    {
      "cell_type": "markdown",
      "metadata": {
        "id": "rzQGHG6V903i"
      },
      "source": [
        "Knowledge graph embedding allows predicting missed links in the graph. However, it does not allow to answer of complex logical queries.\n",
        "\n",
        "For example, one can answer `Where did Canadian citizens with Turing Award graduate?`. Such questions can be decomposed into more minor questions and construct logical operations' DAG (directed acyclic graph).\n",
        "\n",
        "\n",
        "![test](https://github.com/netspractice/network-science/raw/main/assignment_multihop/model.png)\n",
        "\n",
        "_reference: http://snap.stanford.edu/query2box/_\n",
        "\n",
        "We will use implementations of models from https://github.com/snap-stanford/KGReasoning"
      ]
    },
    {
      "cell_type": "code",
      "source": [
        "! pip install torchkge"
      ],
      "metadata": {
        "colab": {
          "base_uri": "https://localhost:8080/"
        },
        "id": "fc48GMZY-tPK",
        "outputId": "7be0f877-44b6-48cb-e46e-175bc7a5bc2b"
      },
      "execution_count": null,
      "outputs": [
        {
          "output_type": "stream",
          "name": "stdout",
          "text": [
            "Collecting torchkge\n",
            "  Downloading torchkge-0.16.25-py2.py3-none-any.whl (48 kB)\n",
            "\u001b[?25l\r\u001b[K     |██████▉                         | 10 kB 14.7 MB/s eta 0:00:01\r\u001b[K     |█████████████▋                  | 20 kB 17.6 MB/s eta 0:00:01\r\u001b[K     |████████████████████▍           | 30 kB 21.1 MB/s eta 0:00:01\r\u001b[K     |███████████████████████████▏    | 40 kB 22.1 MB/s eta 0:00:01\r\u001b[K     |████████████████████████████████| 48 kB 2.5 MB/s \n",
            "\u001b[?25hRequirement already satisfied: pandas in /usr/local/lib/python3.7/dist-packages (from torchkge) (1.1.5)\n",
            "Requirement already satisfied: tqdm in /usr/local/lib/python3.7/dist-packages (from torchkge) (4.62.3)\n",
            "Requirement already satisfied: torch>=1.2.0 in /usr/local/lib/python3.7/dist-packages (from torchkge) (1.10.0+cu111)\n",
            "Requirement already satisfied: typing-extensions in /usr/local/lib/python3.7/dist-packages (from torch>=1.2.0->torchkge) (3.10.0.2)\n",
            "Requirement already satisfied: numpy>=1.15.4 in /usr/local/lib/python3.7/dist-packages (from pandas->torchkge) (1.19.5)\n",
            "Requirement already satisfied: pytz>=2017.2 in /usr/local/lib/python3.7/dist-packages (from pandas->torchkge) (2018.9)\n",
            "Requirement already satisfied: python-dateutil>=2.7.3 in /usr/local/lib/python3.7/dist-packages (from pandas->torchkge) (2.8.2)\n",
            "Requirement already satisfied: six>=1.5 in /usr/local/lib/python3.7/dist-packages (from python-dateutil>=2.7.3->pandas->torchkge) (1.15.0)\n",
            "Installing collected packages: torchkge\n",
            "Successfully installed torchkge-0.16.25\n"
          ]
        }
      ]
    },
    {
      "cell_type": "code",
      "execution_count": null,
      "metadata": {
        "id": "06gjDQOF903j"
      },
      "outputs": [],
      "source": [
        "import torch\n",
        "from torch import nn\n",
        "import torch.nn.functional as F\n",
        "from torchkge import KnowledgeGraph\n",
        "from torchkge.utils import Trainer\n",
        "from torchkge.models.bilinear import RESCALModel\n",
        "from torchkge.utils import MarginLoss\n",
        "import requests\n",
        "import pandas as pd\n",
        "import numpy as np\n",
        "from zlib import adler32\n",
        "from tqdm.notebook import trange"
      ]
    },
    {
      "cell_type": "markdown",
      "metadata": {
        "id": "MJv6buJ9903k"
      },
      "source": [
        "### Task 1. Beam-search with RESCAL (1 point)\n",
        "\n",
        "Beam-search is a technique of generating most probable sequences.\n",
        "\n",
        "![image.png](https://github.com/netspractice/network-science/blob/main/assignment_multihop/beamsearch.png?raw=true)\n",
        "\n",
        "It works as follows:\n",
        "1. Start from some root (`<START>` token on image)\n",
        "2. Predict subsequent tokens\n",
        "3. Select `k` most probable subsequences from generated\n",
        "4. Repeat the procedure\n",
        "\n",
        "In the current task, we will apply it to the query represented in the sequential form.\n",
        "\n",
        "We will work with the queries that can be represented in conjunctive normal form. For example, we have a query `What country was replaced by Canada neighbours`. `Canada neighbors` can be found by prediction tail `t` for query `h = \"Canada\"`, `r = \"shares border with\"`. And `What country was replaced by` could be represented as a tail for query `h = t`, `r = \"replaces\"`.\n",
        "\n",
        "So our query can be decomposed into two smaller ones.\n",
        "\n",
        "Let us download the dataset from the previous seminar."
      ]
    },
    {
      "cell_type": "code",
      "execution_count": null,
      "metadata": {
        "colab": {
          "base_uri": "https://localhost:8080/",
          "height": 206
        },
        "id": "Fn_I94Y_903k",
        "outputId": "e2b8922f-b503-46cc-cc9f-dad2f14baa71"
      },
      "outputs": [
        {
          "output_type": "execute_result",
          "data": {
            "text/html": [
              "<div>\n",
              "<style scoped>\n",
              "    .dataframe tbody tr th:only-of-type {\n",
              "        vertical-align: middle;\n",
              "    }\n",
              "\n",
              "    .dataframe tbody tr th {\n",
              "        vertical-align: top;\n",
              "    }\n",
              "\n",
              "    .dataframe thead th {\n",
              "        text-align: right;\n",
              "    }\n",
              "</style>\n",
              "<table border=\"1\" class=\"dataframe\">\n",
              "  <thead>\n",
              "    <tr style=\"text-align: right;\">\n",
              "      <th></th>\n",
              "      <th>h</th>\n",
              "      <th>r</th>\n",
              "      <th>t</th>\n",
              "    </tr>\n",
              "  </thead>\n",
              "  <tbody>\n",
              "    <tr>\n",
              "      <th>0</th>\n",
              "      <td>Belgium</td>\n",
              "      <td>country</td>\n",
              "      <td>Belgium</td>\n",
              "    </tr>\n",
              "    <tr>\n",
              "      <th>1</th>\n",
              "      <td>Belgium</td>\n",
              "      <td>diplomatic relation</td>\n",
              "      <td>Luxembourg</td>\n",
              "    </tr>\n",
              "    <tr>\n",
              "      <th>2</th>\n",
              "      <td>Belgium</td>\n",
              "      <td>diplomatic relation</td>\n",
              "      <td>Italy</td>\n",
              "    </tr>\n",
              "    <tr>\n",
              "      <th>3</th>\n",
              "      <td>Belgium</td>\n",
              "      <td>diplomatic relation</td>\n",
              "      <td>Germany</td>\n",
              "    </tr>\n",
              "    <tr>\n",
              "      <th>4</th>\n",
              "      <td>Belgium</td>\n",
              "      <td>diplomatic relation</td>\n",
              "      <td>Liechtenstein</td>\n",
              "    </tr>\n",
              "  </tbody>\n",
              "</table>\n",
              "</div>"
            ],
            "text/plain": [
              "         h                    r              t\n",
              "0  Belgium              country        Belgium\n",
              "1  Belgium  diplomatic relation     Luxembourg\n",
              "2  Belgium  diplomatic relation          Italy\n",
              "3  Belgium  diplomatic relation        Germany\n",
              "4  Belgium  diplomatic relation  Liechtenstein"
            ]
          },
          "metadata": {},
          "execution_count": 3
        }
      ],
      "source": [
        "url = 'https://raw.githubusercontent.com/netspractice/network-science/main/datasets/countries_edges.tsv'\n",
        "open('countries_edges.tsv', 'wb').write(requests.get(url).content)\n",
        "url = 'https://raw.githubusercontent.com/netspractice/network-science/main/datasets/countries_entities.tsv'\n",
        "open('countries_entities.tsv', 'wb').write(requests.get(url).content)\n",
        "url = 'https://raw.githubusercontent.com/netspractice/network-science/main/datasets/countries_relations.tsv'\n",
        "open('countries_relations.tsv', 'wb').write(requests.get(url).content);\n",
        "\n",
        "\n",
        "edges = pd.read_csv('countries_edges.tsv', sep='\t').values\n",
        "entity_labels = pd.read_csv('countries_entities.tsv', sep='\t', index_col=0).label.values\n",
        "relation_labels = pd.read_csv('countries_relations.tsv', sep='\t', index_col=0).label.values\n",
        "\n",
        "edges_labeled = np.stack([entity_labels[edges[:, 0]], \n",
        "                          entity_labels[edges[:, 1]], \n",
        "                          relation_labels[edges[:, 2]]], axis=1)\n",
        "\n",
        "df = pd.DataFrame(edges_labeled, columns=['h', 't', 'r'])[['h', 'r', 't']]\n",
        "df.head()"
      ]
    },
    {
      "cell_type": "markdown",
      "metadata": {
        "id": "mDPeMhUp903m"
      },
      "source": [
        "Firstly, we need to check the answer in the given dataset."
      ]
    },
    {
      "cell_type": "code",
      "execution_count": null,
      "metadata": {
        "id": "LGmUIpsg903m"
      },
      "outputs": [],
      "source": [
        "neighbors = set(df[(df.h == 'Canada') & (df.r == \"shares border with\")].t)"
      ]
    },
    {
      "cell_type": "code",
      "execution_count": null,
      "metadata": {
        "nbgrader": {
          "grade": false,
          "grade_id": "cell-3c9f642cb829f305",
          "locked": false,
          "schema_version": 3,
          "solution": true,
          "task": false
        },
        "id": "ZakAiZDe903n"
      },
      "outputs": [],
      "source": [
        "def find_replaces(df):\n",
        "    neighbors = set(df[(df.h == 'Canada') & (df.r == \"shares border with\")].t)\n",
        "    return set(df[df.h.isin(neighbors) & (df.r == \"replaces\")].t)"
      ]
    },
    {
      "cell_type": "code",
      "execution_count": null,
      "metadata": {
        "nbgrader": {
          "grade": true,
          "grade_id": "cell-25635e4d2ac7c6c5",
          "locked": true,
          "points": 0.25,
          "schema_version": 3,
          "solution": false,
          "task": false
        },
        "colab": {
          "base_uri": "https://localhost:8080/"
        },
        "id": "GaDqKU_s903n",
        "outputId": "79f7e06c-699c-47b1-8c23-fae07d26e8fc"
      },
      "outputs": [
        {
          "output_type": "stream",
          "name": "stdout",
          "text": [
            "Confederate States of America\n"
          ]
        }
      ],
      "source": [
        "el = find_replaces(df).pop()\n",
        "print(el)"
      ]
    },
    {
      "cell_type": "markdown",
      "metadata": {
        "id": "Vz2jK646903n"
      },
      "source": [
        "We can find an answer in our dataset, but for complex queries or incomplete graphs, such a task could be very hard. So we can work with knowledge graph embedding models to solve it.\n",
        "\n",
        "Firstly, let us initialize the knowledge graph dataset from torchkge."
      ]
    },
    {
      "cell_type": "code",
      "execution_count": null,
      "metadata": {
        "id": "NZu-I1N-903o"
      },
      "outputs": [],
      "source": [
        "kg = KnowledgeGraph(pd.DataFrame(edges_labeled, columns=['from', 'to', 'rel']))"
      ]
    },
    {
      "cell_type": "markdown",
      "metadata": {
        "id": "cpd-vENe903o"
      },
      "source": [
        "Secondly, we need to train the fine embedding model. We will use `RESCALModel` from torchkge. Similarly to the TransE model from the previous seminar, it learns two embedding tensors. However, instead of embed relations, it learns the projection matrix for each relation."
      ]
    },
    {
      "cell_type": "code",
      "execution_count": null,
      "metadata": {
        "id": "M7xKMOv8903o"
      },
      "outputs": [],
      "source": [
        "model = RESCALModel(128, kg.n_ent, kg.n_rel)\n",
        "criterion = MarginLoss(margin=0.5)\n",
        "optimizer = torch.optim.Adam(model.parameters(), lr=0.001)\n",
        "\n",
        "trainer = Trainer(\n",
        "    model, criterion, kg, n_epochs=250, \n",
        "    batch_size=2048, optimizer=optimizer)"
      ]
    },
    {
      "cell_type": "code",
      "execution_count": null,
      "metadata": {
        "scrolled": true,
        "colab": {
          "base_uri": "https://localhost:8080/",
          "height": 49,
          "referenced_widgets": [
            "5faa0e567ed34d118dd5f2d72216d4cd",
            "56e352ed687848aa8c83e679dcbe43dc",
            "a9893ddf14574120b55949989fa958f1",
            "e7cda0203c494705a91a2b02cf84ee3c",
            "3dabf8d9db2e4f4f86ad8735621b7911",
            "204ec930f43d47f885cde155c4d53d72",
            "9e622f54f063454bbf5c6e97d58ccdf8",
            "1f4cf6c64e754f95827965bb7bc57c8a",
            "a8c35a90eb58460a82296d5f4b300a3e",
            "60f5c34fb2af42f5a5f9bb15ba657fd1",
            "a994fad9f8a543b09b9ba4ac34e5ffd4"
          ]
        },
        "id": "2CAWAqsV903o",
        "outputId": "0311e35c-a25a-4e34-83e6-2e07290bbe75"
      },
      "outputs": [
        {
          "output_type": "display_data",
          "data": {
            "application/vnd.jupyter.widget-view+json": {
              "model_id": "5faa0e567ed34d118dd5f2d72216d4cd",
              "version_minor": 0,
              "version_major": 2
            },
            "text/plain": [
              "  0%|          | 0/250 [00:00<?, ?epoch/s]"
            ]
          },
          "metadata": {}
        }
      ],
      "source": [
        "trainer.run()"
      ]
    },
    {
      "cell_type": "markdown",
      "metadata": {
        "id": "6Y1c9T_H903p"
      },
      "source": [
        "After the model trained, we need to find the top k most similar tails to our head and relation.\n",
        "\n",
        "You need to define the `find_most_similar` function that takes our trained model, knowledge graph, head and relation from a query in string form and the number of most similar items to return.\n",
        "\n",
        "It works as follows:\n",
        "\n",
        "1. Extract embeddings from the model using `get_embeddings` method\n",
        "2. Extract vector for head\n",
        "3. Extract matrix for relation\n",
        "4. Calculate predicted embedding for tail via torch.matmull over head vector and relation matrix\n",
        "5. Normalize predicted vector\n",
        "6. Calculate cosine similarity between predicted embedding and each entity from entity embedding matrix (normalize dot product + 1 / 2)\n",
        "7. Return np.array with indices of the top k most similar entities and np.array with corresponding values sorted in descending order"
      ]
    },
    {
      "cell_type": "code",
      "execution_count": null,
      "metadata": {
        "nbgrader": {
          "grade": false,
          "grade_id": "cell-e4e87013d896c76c",
          "locked": false,
          "schema_version": 3,
          "solution": true,
          "task": false
        },
        "id": "wURjB-fY903p"
      },
      "outputs": [],
      "source": [
        "def find_most_similar(model, kg, head, relation, k):\n",
        "    e, r = model.get_embeddings()\n",
        "    he = e[kg.ent2ix[head]]\n",
        "    re = r[kg.rel2ix[relation]]\n",
        "    predicted = F.normalize(torch.matmul(he, re), dim=0)\n",
        "    similarity = ((e * predicted).sum(axis=1) + 1) / 2\n",
        "    topk = similarity.argsort()[-k:]\n",
        "    return topk.numpy()[::-1], similarity[topk].numpy()[::-1]"
      ]
    },
    {
      "cell_type": "code",
      "execution_count": null,
      "metadata": {
        "nbgrader": {
          "grade": true,
          "grade_id": "cell-8254be5ac8f94775",
          "locked": true,
          "points": 0.5,
          "schema_version": 3,
          "solution": false,
          "task": false
        },
        "id": "nvnv-kDR903p"
      },
      "outputs": [],
      "source": [
        "ids, sims = find_most_similar(model, kg, \"Canada\", \"shares border with\", 5)"
      ]
    },
    {
      "cell_type": "markdown",
      "metadata": {
        "id": "lg1JdGOD903q"
      },
      "source": [
        "Now we can try to answer our query in two steps."
      ]
    },
    {
      "cell_type": "code",
      "execution_count": null,
      "metadata": {
        "nbgrader": {
          "grade": true,
          "grade_id": "cell-bc16ae4353cb8eef",
          "locked": true,
          "points": 0.25,
          "schema_version": 3,
          "solution": false,
          "task": false
        },
        "id": "3C0UfE39903q"
      },
      "outputs": [],
      "source": [
        "# 1\n",
        "ids, sims = find_most_similar(model, kg, \"Canada\", \"shares border with\", 5)\n",
        "\n",
        "# 2\n",
        "ix2ent = {j: i for i, j in kg.ent2ix.items()}\n",
        "results = []\n",
        "for i in ids:\n",
        "    idx, s = find_most_similar(model, kg, ix2ent[i], \"replaces\", 5)\n",
        "    score_matrix = np.outer(sims, s).flatten()\n",
        "    topk = score_matrix.argsort()[-5:]\n",
        "    results.extend(zip(ids[topk // 5], idx[topk % 5], score_matrix[topk]))\n",
        "results_topk = sorted(results, key=lambda x: x[2])[-5:]\n",
        "results_topk_entities = [ix2ent[j] for _, j, _ in results_topk]\n",
        "\n",
        "print('\\n'.join(results_topk_entities))"
      ]
    },
    {
      "cell_type": "markdown",
      "metadata": {
        "id": "3ESFT7qF903q"
      },
      "source": [
        "### Task 2. [Graph query embedding](https://arxiv.org/abs/1806.01445) (2 points)\n",
        "\n",
        "In the previous task we use the several projection steps. It is a analogue of existential quantification in the vector space.\n",
        "\n",
        "Graph Query Embedding also allow to handle conjunction between different statements. For example, we may want to answer question `What country Russia and Canada share border with?`.\n",
        "\n",
        "This statement could be decomposed to the statement. `Russia shares border with` & `Canada shares border with`.\n",
        "\n",
        "The GQE models the projection using translation operator (similarly to TransE) and [DeepSets](https://arxiv.org/abs/1703.06114) to model conjunction. The intersection operator works in several steps:\n",
        "1. We pass individual element embeddings through the feed-forward neural network.\n",
        "2. We aggregate the result of model inference using a symmetric operator (e.g. mean, sum).\n",
        "3. Transform it using a projection matrix.\n",
        "\n",
        "Let us download the realized models from https://github.com/snap-stanford/KGReasoning."
      ]
    },
    {
      "cell_type": "code",
      "execution_count": null,
      "metadata": {
        "id": "Jzb9ewnS903r"
      },
      "outputs": [],
      "source": [
        "url = 'https://raw.githubusercontent.com/snap-stanford/KGReasoning/main/models.py'\n",
        "with open(\"models.py\", \"wb\") as f:\n",
        "    f.write(requests.get(url).content)\n",
        "    \n",
        "url = 'https://raw.githubusercontent.com/snap-stanford/KGReasoning/main/dataloader.py'\n",
        "with open(\"dataloader.py\", \"wb\") as f:\n",
        "    f.write(requests.get(url).content)\n",
        "    \n",
        "url = 'https://raw.githubusercontent.com/snap-stanford/KGReasoning/main/util.py'\n",
        "with open(\"util.py\", \"wb\") as f:\n",
        "    f.write(requests.get(url).content)\n"
      ]
    },
    {
      "cell_type": "code",
      "execution_count": null,
      "metadata": {
        "id": "mpCfUzyq903r"
      },
      "outputs": [],
      "source": [
        "import models"
      ]
    },
    {
      "cell_type": "markdown",
      "metadata": {
        "id": "NMbpFdTz903r"
      },
      "source": [
        "Firstly, we need to define what types of queries we will prefer to handle.\n",
        "\n",
        "1. `1p` is one projection (both models)\n",
        "2. `2p` is two sequential projections (both models)\n",
        "3. `2u-DNF` is a disjunctive normal form, i.e. union (disjunction) between two `1p` queries (Q2B)"
      ]
    },
    {
      "cell_type": "code",
      "execution_count": null,
      "metadata": {
        "id": "JYVxh-xA903s"
      },
      "outputs": [],
      "source": [
        "query_name_dict = {\n",
        "    ('e',('r',)): '1p', \n",
        "    ('e', ('r', 'r')): '2p',\n",
        "    (('e', ('r',)), ('e', ('r',))): '2i',\n",
        "    (('e', ('r',)), ('e', ('r',)), ('u',)): '2u-DNF',\n",
        "}"
      ]
    },
    {
      "cell_type": "markdown",
      "metadata": {
        "id": "sRX1t9N5903s"
      },
      "source": [
        "Before model training, we need to generate datasets for it.\n",
        "\n",
        "You need to implement two functions, `generate_queries` and `generete_queries_conjunction`.\n",
        "\n",
        "The first one generates one- and two-hop queries and answers. It takes df with hrt triplets, mapping from text entity to ids (`kg.ent2ix`), mapping from text relation to ids (`kg.rel2ix`). And it should return the list with triplets in the form of query type and the mapping of answers. Answers are constructed as a python dictionary where keys are queries and value is a set of possible tails to answer the given query.\n",
        "\n",
        "E.g. if we have a query of type `1p` the sample should look like `(187, (41,))`. Similarly, for `2i` query: `(187, (41,), (1342, (41,)))`.\n",
        "\n",
        "The answer for this queries should look like:\n",
        "\n",
        "```\n",
        "{\n",
        "    (187, (41,)): {345, 588, 1666},\n",
        "    (187, (41,), (1342, (41,))): {1666}\n",
        "}\n",
        "```\n",
        "\n",
        "Firstly, you need to convert heads, relations and tails by corresponding ids.\n",
        "\n",
        "Then, you need to calculate one-hop queries. One-hop queries could be calculated by group by over data frame (`df.groupby(['h','r']).t.agg(set)`)\n",
        "\n",
        "Finally, you need to find two-hop relations. We can join the data frame on itself left_on `t` and right_on `h`. Now, the data frame should be grouped by `h_x`, `r_x` and `r_y`."
      ]
    },
    {
      "cell_type": "code",
      "execution_count": null,
      "metadata": {
        "nbgrader": {
          "grade": false,
          "grade_id": "cell-15c6431858cc2ec5",
          "locked": false,
          "schema_version": 3,
          "solution": true,
          "task": false
        },
        "id": "bheN1twA903s"
      },
      "outputs": [],
      "source": [
        "def generate_queries(df, ent2id, rel2id):\n",
        "    df = df.copy()\n",
        "    df.h = df.h.map(ent2id)\n",
        "    df.t = df.t.map(ent2id)\n",
        "    df.r = df.r.map(rel2id)\n",
        "\n",
        "    tmp = df.groupby(['h', 'r']).agg(set).reset_index()\n",
        "    \n",
        "    tmp['one-hop'] = tmp.apply(lambda x: (x.h, (x.r,)), axis=1)\n",
        "    ans = dict(zip(tmp['one-hop'], tmp.t))\n",
        "    que = tmp['one-hop'].map(lambda x: (x, (\"e\", (\"r\",)))).tolist()\n",
        "    \n",
        "    twohop = df.merge(df, how='left', left_on=['t'], right_on='h').groupby(['h_x', 'r_x', 'r_y']).t_y.agg(set).reset_index()\n",
        "    twohop['two-hop'] = twohop.apply(lambda x: (x.h_x, (x.r_x, x.r_y)), axis=1)\n",
        "    ans.update(dict(zip(twohop['two-hop'], twohop.t_y)))\n",
        "    que.extend(twohop['two-hop'].map(lambda x: (x, (\"e\", (\"r\", \"r\")))))\n",
        "    return que, ans"
      ]
    },
    {
      "cell_type": "code",
      "execution_count": null,
      "metadata": {
        "nbgrader": {
          "grade": true,
          "grade_id": "cell-da7d7a90198e515d",
          "locked": true,
          "points": 0.5,
          "schema_version": 3,
          "solution": false,
          "task": false
        },
        "id": "vA3l6mU2903s"
      },
      "outputs": [],
      "source": [
        "train_queries, train_answers = generate_queries(df, kg.ent2ix, kg.rel2ix)"
      ]
    },
    {
      "cell_type": "markdown",
      "metadata": {
        "id": "1XsmGnVH903s"
      },
      "source": [
        "Also, we want to generate some intersection (conjunction) examples of type `2i` with `generate_queries_conjunction`.\n",
        "\n",
        "Intersection result of two projection relations could be achieved by joining the data frame with itself on `t` column because intersection means coincidental result.\n",
        "\n",
        "`generate_queries_conjunction` works similarly to `generate_queries` but should find intersection queries. "
      ]
    },
    {
      "cell_type": "code",
      "execution_count": null,
      "metadata": {
        "nbgrader": {
          "grade": false,
          "grade_id": "cell-e41acdf75ba8a0dd",
          "locked": false,
          "schema_version": 3,
          "solution": true,
          "task": false
        },
        "id": "vDQ9Th5L903t"
      },
      "outputs": [],
      "source": [
        "def generate_queries_conjunction(df, ent2id, rel2id):\n",
        "    df = df.copy()\n",
        "    df.h = df.h.map(ent2id)\n",
        "    df.t = df.t.map(ent2id)\n",
        "    df.r = df.r.map(rel2id)\n",
        "    \n",
        "    queries = []\n",
        "    df2 = df.merge(df, how='left', on='t')\n",
        "    intersection = df2.groupby(['h_x', 'r_x', 'h_y', 'r_y']).t.agg(set).reset_index()\n",
        "    intersection['intersection'] = intersection.apply(lambda x: ((x.h_x, (x.r_x,)), (x.h_y, (x.r_y,))), axis=1)\n",
        "    ans = dict(zip(intersection['intersection'], intersection.t))\n",
        "    que = intersection['intersection'].map(lambda x: (x, ((\"e\", (\"r\",)), (\"e\", (\"r\",))))).tolist()\n",
        "    return que, ans"
      ]
    },
    {
      "cell_type": "code",
      "execution_count": null,
      "metadata": {
        "nbgrader": {
          "grade": true,
          "grade_id": "cell-9b822680cc0b3534",
          "locked": true,
          "points": 0.5,
          "schema_version": 3,
          "solution": false,
          "task": false
        },
        "id": "-JMYs1-w903t"
      },
      "outputs": [],
      "source": [
        "train_queries_conj, train_answers_conj = generate_queries_conjunction(df, kg.ent2ix, kg.rel2ix)"
      ]
    },
    {
      "cell_type": "markdown",
      "metadata": {
        "id": "LivyfXWZ903t"
      },
      "source": [
        "We can merge both train samples."
      ]
    },
    {
      "cell_type": "code",
      "execution_count": null,
      "metadata": {
        "id": "yRyPgqQA903t"
      },
      "outputs": [],
      "source": [
        "train_queries.extend(train_queries_conj)\n",
        "train_answers.update(train_answers_conj)"
      ]
    },
    {
      "cell_type": "markdown",
      "metadata": {
        "id": "XDVVGl64903u"
      },
      "source": [
        "Now we are ready to instantiate the GQE model using the `KGReasoning` wrapper. The `geo` argument defines what model to use: `vec` is a GQE, `box` is a Query2Box, `betae` is a BetaE model."
      ]
    },
    {
      "cell_type": "code",
      "execution_count": null,
      "metadata": {
        "id": "l1WQ1RMk903u"
      },
      "outputs": [],
      "source": [
        "cqe_model = models.KGReasoning(\n",
        "    nentity=kg.n_ent,\n",
        "    nrelation=kg.n_rel,\n",
        "    hidden_dim=800,\n",
        "    gamma=24,\n",
        "    geo=\"vec\",\n",
        "    use_cuda=False,\n",
        "    box_mode=None,\n",
        "    beta_mode=None,\n",
        "    test_batch_size=128,\n",
        "    query_name_dict=query_name_dict\n",
        ")"
      ]
    },
    {
      "cell_type": "markdown",
      "metadata": {
        "id": "Sf-b9mb3903u"
      },
      "source": [
        "Optimizer to train it"
      ]
    },
    {
      "cell_type": "code",
      "execution_count": null,
      "metadata": {
        "id": "SBnWWMJX903u"
      },
      "outputs": [],
      "source": [
        "optimizer = torch.optim.Adam(\n",
        "    filter(lambda p: p.requires_grad, cqe_model.parameters()), \n",
        "    lr=0.001\n",
        ")"
      ]
    },
    {
      "cell_type": "markdown",
      "metadata": {
        "id": "NSb3EvXU903u"
      },
      "source": [
        "Dataset iterator"
      ]
    },
    {
      "cell_type": "code",
      "execution_count": null,
      "metadata": {
        "colab": {
          "base_uri": "https://localhost:8080/"
        },
        "id": "XcPD8qNF903v",
        "outputId": "aa8b50d9-34ac-42f0-ac8e-3a7807fdd40d"
      },
      "outputs": [
        {
          "output_type": "stream",
          "name": "stderr",
          "text": [
            "/usr/local/lib/python3.7/dist-packages/torch/utils/data/dataloader.py:481: UserWarning: This DataLoader will create 4 worker processes in total. Our suggested max number of worker in current system is 2, which is smaller than what this DataLoader is going to create. Please be aware that excessive worker creation might get DataLoader running slow or even freeze, lower the worker number to avoid potential slowness/freeze if necessary.\n",
            "  cpuset_checked))\n"
          ]
        }
      ],
      "source": [
        "from torch.utils.data import DataLoader\n",
        "from dataloader import TestDataset, TrainDataset, SingledirectionalOneShotIterator\n",
        "\n",
        "train_path_iterator = SingledirectionalOneShotIterator(DataLoader(\n",
        "    TrainDataset(train_queries_conj, kg.n_ent, kg.n_rel, 128, train_answers_conj),\n",
        "    batch_size=512,\n",
        "    shuffle=True,\n",
        "    num_workers=4,\n",
        "    collate_fn=TrainDataset.collate_fn\n",
        "))"
      ]
    },
    {
      "cell_type": "markdown",
      "metadata": {
        "id": "D3oxx9i5903v"
      },
      "source": [
        "Let us mock-up CLI arguments"
      ]
    },
    {
      "cell_type": "code",
      "execution_count": null,
      "metadata": {
        "id": "f1uVpOvg903v"
      },
      "outputs": [],
      "source": [
        "class Args:\n",
        "    print_on_screen = True\n",
        "    cuda = False\n",
        "    test_batch_size = 1\n",
        "    test_log_steps = 10\n",
        "args = Args()"
      ]
    },
    {
      "cell_type": "markdown",
      "metadata": {
        "id": "tGFutMaa903v"
      },
      "source": [
        "And train model"
      ]
    },
    {
      "cell_type": "code",
      "execution_count": null,
      "metadata": {
        "scrolled": true,
        "id": "NJOZm3C9903v"
      },
      "outputs": [],
      "source": [
        "for i in trange(50):\n",
        "    cqe_model.train_step(cqe_model, optimizer, train_path_iterator, args,i)"
      ]
    },
    {
      "cell_type": "markdown",
      "metadata": {
        "id": "OxsbUw4I903w"
      },
      "source": [
        "To predict results, we need to define the `predict_kg_reasoning` function.\n",
        "\n",
        "The input is our trained model, torchkge knowledge graph, flatten query and its type.\n",
        "\n",
        "Flatten query is a flat list with ids, without query_type structure, e.g. `[1342, 41, 187, 41]`\n",
        "\n",
        "We will use the native model.forward function. It takes several arguments: positive_sample, negative_sample, subsampling_weight, batch_queries_dict, batch_idxs_dict. The positive_sample and subsampling_weight is None.\n",
        "\n",
        "The negative sample is constructed as array of all entity ids with the shape `(1, number of entities)`.\n",
        "\n",
        "\n",
        "After, you need to construct batch_queries_dict -- a mapping from query type to query wrapped with torch.tensor of shape `(1, len(flatten_query))`.\n",
        "\n",
        "Then, you need to construct batch_idxs_dict -- a mapping from query_type to indices of corresponding queries. Here we have only one index so that it will be a `{query_type: [0]}`.\n",
        "\n",
        "Now, you can pass it to the `model.forward` function and receive `positive_logit, negative_logit, subsampling_weight, batch_ids`. However, we are only interested in the `negative_logit`.\n",
        "\n",
        "Negative logit is our score of how close each entity is to our answer. To choose the best entity ids, we need to argsort our negative_logit and take top k.\n",
        "\n",
        "Finally, you need to convert entity"
      ]
    },
    {
      "cell_type": "code",
      "execution_count": null,
      "metadata": {
        "nbgrader": {
          "grade": false,
          "grade_id": "cell-d336ee5ca59b24c5",
          "locked": false,
          "schema_version": 3,
          "solution": true,
          "task": false
        },
        "id": "ScBO83Ce903w"
      },
      "outputs": [],
      "source": [
        "def predict_kg_reasoning(model, kg, flatten_query, query_type, k=5, ix2ent=ix2ent):\n",
        "    query = {\n",
        "        query_type: torch.tensor([flatten_query])\n",
        "    }\n",
        "    query_type_dict = {query_type: [0]}\n",
        "    negative_sample = torch.arange(kg.n_ent).view(1, -1)\n",
        "    \n",
        "    _, negative_logit, _, idxs = model(None, negative_sample, None, query, query_type_dict)\n",
        "    argsort = torch.argsort(negative_logit, dim=1, descending=True).flatten()\n",
        "    res = [ix2ent[i] for i in argsort.numpy()][:k]\n",
        "    return res"
      ]
    },
    {
      "cell_type": "code",
      "execution_count": null,
      "metadata": {
        "nbgrader": {
          "grade": true,
          "grade_id": "cell-81ef8f936aa68ec3",
          "locked": true,
          "points": 1,
          "schema_version": 3,
          "solution": false,
          "task": false
        },
        "colab": {
          "base_uri": "https://localhost:8080/"
        },
        "id": "xX5Gjz2H903w",
        "outputId": "1d386c56-0310-409f-f969-e5be80d21c8c"
      },
      "outputs": [
        {
          "output_type": "stream",
          "name": "stdout",
          "text": [
            "Canada\n",
            "Russia\n",
            "Germany\n",
            "United States of America\n",
            "People's Republic of China\n"
          ]
        }
      ],
      "source": [
        "ans = predict_kg_reasoning(cqe_model, kg, [kg.ent2ix['Russia'], kg.rel2ix['shares border with'], kg.ent2ix['Canada'], kg.rel2ix['shares border with']], (('e', ('r', )), ('e', ('r', ))))\n",
        "print('\\n'.join(ans))"
      ]
    },
    {
      "cell_type": "markdown",
      "metadata": {
        "id": "UDCP4k77903w"
      },
      "source": [
        "### Task 3. [Query2Box](http://snap.stanford.edu/query2box/) (7 points)\n",
        "\n",
        "Query2Box additionally allow to model union (disjunction) queries.\n",
        "\n",
        "\n",
        "The general idea of Query2Box is to model sets as boxes. If an entity is in the set, then the corresponding embedding should lie inside the query box. The box is defined by the vector of centre and offset.\n",
        "\n",
        "The projection (existential operator) works similarly to the translation models: the model sums the centres and offsets.\n",
        "The intersection of the boxes could be found by performing attention over box queries. Offsets are calculated using DeepSets over the boxes and are shrunk with the sigmoid function.\n",
        "\n",
        "A simple geometric union of the boxes could be a bad idea because query boxes could lie in different places of our space. So, before doing union, the authors propose transforming our query to the disjunctive normal form (DNF).\n",
        "It allows to perform all box logic with projection and intersection operators and, finally, found the best entities close to one of the resulting boxes.\n",
        "\n",
        "![test](https://github.com/netspractice/network-science/blob/main/assignment_multihop/query2box.png?raw=true)\n",
        "\n",
        "\n",
        "Before we train the model, we need to generate the disjunctive examples to it.\n",
        "\n",
        "We will generate union pairs only for relation type `shares border with`.\n",
        "`generate_queries_disjunction` takes the data frame with triplets, entity to index converter, relation to index converter, number of elements in subsample and random_state for sampling.\n",
        "\n",
        "1. Generate one-hop queries\n",
        "2. Generate two samples from step 1 using `df.sample(n, random_state=random_state)`\n",
        "3. zip one-hop queries and construct union query (e.g. `((187, (41, )), (1071, (41, )), (-1,))`)\n",
        "4. construct answers as unions of answers for one-hop queries"
      ]
    },
    {
      "cell_type": "code",
      "execution_count": null,
      "metadata": {
        "nbgrader": {
          "grade": false,
          "grade_id": "cell-847174c7a86df6ac",
          "locked": false,
          "schema_version": 3,
          "solution": true,
          "task": false
        },
        "id": "PpWRjCvT903w"
      },
      "outputs": [],
      "source": [
        "def generate_queries_disjunction(df, ent2id, rel2id, n, random_state=0):\n",
        "    df = df.copy()\n",
        "    df.h = df.h.map(ent2id)\n",
        "    df.t = df.t.map(ent2id)\n",
        "    df.r = df.r.map(rel2id)\n",
        "    \n",
        "    df = df[df.r == rel2id['shares border with']]\n",
        "    tmp = df.groupby(['h', 'r']).t.agg(set).reset_index()\n",
        "    tmp['one'] = tmp.apply(lambda x: (x.h, (x.r,)), axis=1)\n",
        "    a = tmp.sample(n, random_state=random_state)\n",
        "    b = tmp.sample(n, random_state=random_state+1)\n",
        "    que = [(i, j, (-1,)) for i, j in zip(a.one, b.one)]\n",
        "    ans = dict(zip(que, a.t.values | b.t.values))\n",
        "    return [(i, (('e', ('r',)), ('e', ('r',)), ('u',))) for i in que], ans"
      ]
    },
    {
      "cell_type": "code",
      "execution_count": null,
      "metadata": {
        "scrolled": true,
        "colab": {
          "base_uri": "https://localhost:8080/",
          "height": 49,
          "referenced_widgets": [
            "f92b5e5099c549f6a0a236e84810a496",
            "d317d06b938e429083fe68f5a838fc88",
            "71a0863c149e4af188db68ba22e004e8",
            "c1a61769fafc437894b75c4710551dca",
            "8c15ea16ffad42c181561d764f6f7754",
            "25111a856906448f81dd4acd4f2c3dbf",
            "aeab00b7cf144c73aba5a0d54e6f748a",
            "f30e034a1da44251bd6278b1f42e3ea2",
            "25ca746f46084b76941f3f12a63d01df",
            "ab89a6f16f0b4638915ed92d38a6575f",
            "277e6654fdf94ca4942e838eb31578a0"
          ]
        },
        "id": "2jmaP2Ow903x",
        "outputId": "66964dee-7cdf-40bc-8c6b-cf933f7d8a3c"
      },
      "outputs": [
        {
          "output_type": "display_data",
          "data": {
            "application/vnd.jupyter.widget-view+json": {
              "model_id": "f92b5e5099c549f6a0a236e84810a496",
              "version_minor": 0,
              "version_major": 2
            },
            "text/plain": [
              "  0%|          | 0/500 [00:00<?, ?it/s]"
            ]
          },
          "metadata": {}
        }
      ],
      "source": [
        "train_queries_dis = []\n",
        "train_answers_dis = {}\n",
        "for i in trange(500):\n",
        "    tq, ta = generate_queries_disjunction(df, kg.ent2ix, kg.rel2ix, 300, random_state=2 * i)\n",
        "    train_queries_dis.extend(tq)\n",
        "    train_answers_dis.update(ta)"
      ]
    },
    {
      "cell_type": "markdown",
      "metadata": {
        "id": "Atv_Zx_o903x"
      },
      "source": [
        "Initialize model, optimizer and train iterator."
      ]
    },
    {
      "cell_type": "code",
      "execution_count": null,
      "metadata": {
        "colab": {
          "base_uri": "https://localhost:8080/"
        },
        "id": "PxHKrg_C903x",
        "outputId": "e69ac6a2-0e9a-4980-9e16-602dc97c8807"
      },
      "outputs": [
        {
          "output_type": "stream",
          "name": "stderr",
          "text": [
            "/usr/local/lib/python3.7/dist-packages/torch/utils/data/dataloader.py:481: UserWarning: This DataLoader will create 4 worker processes in total. Our suggested max number of worker in current system is 2, which is smaller than what this DataLoader is going to create. Please be aware that excessive worker creation might get DataLoader running slow or even freeze, lower the worker number to avoid potential slowness/freeze if necessary.\n",
            "  cpuset_checked))\n"
          ]
        }
      ],
      "source": [
        "q2b_model = models.KGReasoning(\n",
        "    nentity=kg.n_ent,\n",
        "    nrelation=kg.n_rel,\n",
        "    hidden_dim=800,\n",
        "    gamma=24,\n",
        "    geo=\"box\",\n",
        "    use_cuda=False,\n",
        "    box_mode=('relu', 0.05),\n",
        "    beta_mode=None,\n",
        "    test_batch_size=128,\n",
        "    query_name_dict=query_name_dict\n",
        ")\n",
        "\n",
        "optimizer = torch.optim.Adam(\n",
        "    filter(lambda p: p.requires_grad, q2b_model.parameters()), \n",
        "    lr=0.01\n",
        ")\n",
        "\n",
        "train_path_iterator = SingledirectionalOneShotIterator(DataLoader(\n",
        "    TrainDataset(train_queries_dis, kg.n_ent, kg.n_rel, 128, train_answers_dis),\n",
        "    batch_size=512,\n",
        "    shuffle=True,\n",
        "    num_workers=4,\n",
        "    collate_fn=TrainDataset.collate_fn\n",
        "))"
      ]
    },
    {
      "cell_type": "markdown",
      "metadata": {
        "id": "ulRSnQwd903x"
      },
      "source": [
        "Now, we will try to answer the question `What countries share a border with Canada or Mexico?`."
      ]
    },
    {
      "cell_type": "code",
      "execution_count": null,
      "metadata": {
        "colab": {
          "base_uri": "https://localhost:8080/"
        },
        "id": "X_J_95sf903x",
        "outputId": "7a2ddf70-9b4e-4710-b6cf-b8783518e646"
      },
      "outputs": [
        {
          "output_type": "execute_result",
          "data": {
            "text/plain": [
              "{'Belize',\n",
              " 'Dominion of Newfoundland',\n",
              " 'Greenland',\n",
              " 'Guatemala',\n",
              " 'United States of America'}"
            ]
          },
          "metadata": {},
          "execution_count": 40
        }
      ],
      "source": [
        "set(df[(df.h == 'Mexico') & (df.r == 'shares border with')].append(df[(df.h == 'Canada') & (df.r == 'shares border with')]).t)"
      ]
    },
    {
      "cell_type": "code",
      "execution_count": null,
      "metadata": {
        "scrolled": true,
        "colab": {
          "base_uri": "https://localhost:8080/",
          "height": 104,
          "referenced_widgets": [
            "6b4647fbe6d84ffca5497686b42198fc",
            "af00e00c24dd4029ade7c25131a0a894",
            "c19f10eb728e4d08834d6aa0c0653e81",
            "21ec45f972cd402cbc61dfa289becdfd",
            "c2fadb7180d54cafb5fd9a5a9151c653",
            "55f2a4c030e6493f869daf66d3801643",
            "d254ebc85c3c48b7a0e27f984d19a8ef",
            "410c60cc6ca14072b4ff8a6f7fceaa33",
            "702c9d539b724620a83b1baeb8904430",
            "7170a1b37ce64ae995ad1c3d3d81a6b9",
            "88086b0945284df5ab4d9d548e61b9ff"
          ]
        },
        "id": "eP-zWbgs903y",
        "outputId": "77cfa92c-b1b0-4735-86b4-c50f130ff967"
      },
      "outputs": [
        {
          "output_type": "display_data",
          "data": {
            "application/vnd.jupyter.widget-view+json": {
              "model_id": "6b4647fbe6d84ffca5497686b42198fc",
              "version_minor": 0,
              "version_major": 2
            },
            "text/plain": [
              "  0%|          | 0/50 [00:00<?, ?it/s]"
            ]
          },
          "metadata": {}
        },
        {
          "output_type": "stream",
          "name": "stderr",
          "text": [
            "/usr/local/lib/python3.7/dist-packages/torch/utils/data/dataloader.py:481: UserWarning: This DataLoader will create 4 worker processes in total. Our suggested max number of worker in current system is 2, which is smaller than what this DataLoader is going to create. Please be aware that excessive worker creation might get DataLoader running slow or even freeze, lower the worker number to avoid potential slowness/freeze if necessary.\n",
            "  cpuset_checked))\n"
          ]
        }
      ],
      "source": [
        "for i in trange(50):\n",
        "    q2b_model.train_step(q2b_model, optimizer, train_path_iterator, args,i)"
      ]
    },
    {
      "cell_type": "code",
      "execution_count": null,
      "metadata": {
        "nbgrader": {
          "grade": true,
          "grade_id": "cell-f721f2b1aac81494",
          "locked": true,
          "points": 3,
          "schema_version": 3,
          "solution": false,
          "task": false
        },
        "colab": {
          "base_uri": "https://localhost:8080/"
        },
        "id": "WGA5yu_i903y",
        "outputId": "e313dc4e-09cf-46d7-f9b3-2c199f507bb4"
      },
      "outputs": [
        {
          "output_type": "stream",
          "name": "stdout",
          "text": [
            "Canada\n",
            "Mexico\n",
            "Dominion of Newfoundland\n",
            "United States of America\n",
            "Belize\n",
            "Guatemala\n",
            "Greenland\n",
            "Mauritania\n",
            "Algeria\n",
            "France\n"
          ]
        }
      ],
      "source": [
        "ans = predict_kg_reasoning(\n",
        "    q2b_model,\n",
        "    kg,\n",
        "    [kg.ent2ix['Canada'], kg.rel2ix['shares border with'], kg.ent2ix['Mexico'], kg.rel2ix['shares border with'], -1],\n",
        "    (('e', ('r',)), ('e', ('r',)), ('u',)), k=10, ix2ent=ix2ent)\n",
        "print('\\n'.join(ans))"
      ]
    },
    {
      "cell_type": "code",
      "execution_count": null,
      "metadata": {
        "id": "jCBJXaGh903y"
      },
      "outputs": [],
      "source": [
        ""
      ]
    }
  ],
  "metadata": {
    "celltoolbar": "Create Assignment",
    "kernelspec": {
      "display_name": "Python 3",
      "language": "python",
      "name": "python3"
    },
    "language_info": {
      "codemirror_mode": {
        "name": "ipython",
        "version": 3
      },
      "file_extension": ".py",
      "mimetype": "text/x-python",
      "name": "python",
      "nbconvert_exporter": "python",
      "pygments_lexer": "ipython3",
      "version": "3.7.4"
    },
    "colab": {
      "name": "multihop.ipynb",
      "provenance": [],
      "collapsed_sections": []
    },
    "widgets": {
      "application/vnd.jupyter.widget-state+json": {
        "f92b5e5099c549f6a0a236e84810a496": {
          "model_module": "@jupyter-widgets/controls",
          "model_name": "HBoxModel",
          "model_module_version": "1.5.0",
          "state": {
            "_view_name": "HBoxView",
            "_dom_classes": [],
            "_model_name": "HBoxModel",
            "_view_module": "@jupyter-widgets/controls",
            "_model_module_version": "1.5.0",
            "_view_count": null,
            "_view_module_version": "1.5.0",
            "box_style": "",
            "layout": "IPY_MODEL_d317d06b938e429083fe68f5a838fc88",
            "_model_module": "@jupyter-widgets/controls",
            "children": [
              "IPY_MODEL_71a0863c149e4af188db68ba22e004e8",
              "IPY_MODEL_c1a61769fafc437894b75c4710551dca",
              "IPY_MODEL_8c15ea16ffad42c181561d764f6f7754"
            ]
          }
        },
        "d317d06b938e429083fe68f5a838fc88": {
          "model_module": "@jupyter-widgets/base",
          "model_name": "LayoutModel",
          "model_module_version": "1.2.0",
          "state": {
            "_view_name": "LayoutView",
            "grid_template_rows": null,
            "right": null,
            "justify_content": null,
            "_view_module": "@jupyter-widgets/base",
            "overflow": null,
            "_model_module_version": "1.2.0",
            "_view_count": null,
            "flex_flow": null,
            "width": null,
            "min_width": null,
            "border": null,
            "align_items": null,
            "bottom": null,
            "_model_module": "@jupyter-widgets/base",
            "top": null,
            "grid_column": null,
            "overflow_y": null,
            "overflow_x": null,
            "grid_auto_flow": null,
            "grid_area": null,
            "grid_template_columns": null,
            "flex": null,
            "_model_name": "LayoutModel",
            "justify_items": null,
            "grid_row": null,
            "max_height": null,
            "align_content": null,
            "visibility": null,
            "align_self": null,
            "height": null,
            "min_height": null,
            "padding": null,
            "grid_auto_rows": null,
            "grid_gap": null,
            "max_width": null,
            "order": null,
            "_view_module_version": "1.2.0",
            "grid_template_areas": null,
            "object_position": null,
            "object_fit": null,
            "grid_auto_columns": null,
            "margin": null,
            "display": null,
            "left": null
          }
        },
        "71a0863c149e4af188db68ba22e004e8": {
          "model_module": "@jupyter-widgets/controls",
          "model_name": "HTMLModel",
          "model_module_version": "1.5.0",
          "state": {
            "_view_name": "HTMLView",
            "style": "IPY_MODEL_25111a856906448f81dd4acd4f2c3dbf",
            "_dom_classes": [],
            "description": "",
            "_model_name": "HTMLModel",
            "placeholder": "​",
            "_view_module": "@jupyter-widgets/controls",
            "_model_module_version": "1.5.0",
            "value": "100%",
            "_view_count": null,
            "_view_module_version": "1.5.0",
            "description_tooltip": null,
            "_model_module": "@jupyter-widgets/controls",
            "layout": "IPY_MODEL_aeab00b7cf144c73aba5a0d54e6f748a"
          }
        },
        "c1a61769fafc437894b75c4710551dca": {
          "model_module": "@jupyter-widgets/controls",
          "model_name": "FloatProgressModel",
          "model_module_version": "1.5.0",
          "state": {
            "_view_name": "ProgressView",
            "style": "IPY_MODEL_f30e034a1da44251bd6278b1f42e3ea2",
            "_dom_classes": [],
            "description": "",
            "_model_name": "FloatProgressModel",
            "bar_style": "success",
            "max": 500,
            "_view_module": "@jupyter-widgets/controls",
            "_model_module_version": "1.5.0",
            "value": 500,
            "_view_count": null,
            "_view_module_version": "1.5.0",
            "orientation": "horizontal",
            "min": 0,
            "description_tooltip": null,
            "_model_module": "@jupyter-widgets/controls",
            "layout": "IPY_MODEL_25ca746f46084b76941f3f12a63d01df"
          }
        },
        "8c15ea16ffad42c181561d764f6f7754": {
          "model_module": "@jupyter-widgets/controls",
          "model_name": "HTMLModel",
          "model_module_version": "1.5.0",
          "state": {
            "_view_name": "HTMLView",
            "style": "IPY_MODEL_ab89a6f16f0b4638915ed92d38a6575f",
            "_dom_classes": [],
            "description": "",
            "_model_name": "HTMLModel",
            "placeholder": "​",
            "_view_module": "@jupyter-widgets/controls",
            "_model_module_version": "1.5.0",
            "value": " 500/500 [00:18&lt;00:00, 28.35it/s]",
            "_view_count": null,
            "_view_module_version": "1.5.0",
            "description_tooltip": null,
            "_model_module": "@jupyter-widgets/controls",
            "layout": "IPY_MODEL_277e6654fdf94ca4942e838eb31578a0"
          }
        },
        "25111a856906448f81dd4acd4f2c3dbf": {
          "model_module": "@jupyter-widgets/controls",
          "model_name": "DescriptionStyleModel",
          "model_module_version": "1.5.0",
          "state": {
            "_view_name": "StyleView",
            "_model_name": "DescriptionStyleModel",
            "description_width": "",
            "_view_module": "@jupyter-widgets/base",
            "_model_module_version": "1.5.0",
            "_view_count": null,
            "_view_module_version": "1.2.0",
            "_model_module": "@jupyter-widgets/controls"
          }
        },
        "aeab00b7cf144c73aba5a0d54e6f748a": {
          "model_module": "@jupyter-widgets/base",
          "model_name": "LayoutModel",
          "model_module_version": "1.2.0",
          "state": {
            "_view_name": "LayoutView",
            "grid_template_rows": null,
            "right": null,
            "justify_content": null,
            "_view_module": "@jupyter-widgets/base",
            "overflow": null,
            "_model_module_version": "1.2.0",
            "_view_count": null,
            "flex_flow": null,
            "width": null,
            "min_width": null,
            "border": null,
            "align_items": null,
            "bottom": null,
            "_model_module": "@jupyter-widgets/base",
            "top": null,
            "grid_column": null,
            "overflow_y": null,
            "overflow_x": null,
            "grid_auto_flow": null,
            "grid_area": null,
            "grid_template_columns": null,
            "flex": null,
            "_model_name": "LayoutModel",
            "justify_items": null,
            "grid_row": null,
            "max_height": null,
            "align_content": null,
            "visibility": null,
            "align_self": null,
            "height": null,
            "min_height": null,
            "padding": null,
            "grid_auto_rows": null,
            "grid_gap": null,
            "max_width": null,
            "order": null,
            "_view_module_version": "1.2.0",
            "grid_template_areas": null,
            "object_position": null,
            "object_fit": null,
            "grid_auto_columns": null,
            "margin": null,
            "display": null,
            "left": null
          }
        },
        "f30e034a1da44251bd6278b1f42e3ea2": {
          "model_module": "@jupyter-widgets/controls",
          "model_name": "ProgressStyleModel",
          "model_module_version": "1.5.0",
          "state": {
            "_view_name": "StyleView",
            "_model_name": "ProgressStyleModel",
            "description_width": "",
            "_view_module": "@jupyter-widgets/base",
            "_model_module_version": "1.5.0",
            "_view_count": null,
            "_view_module_version": "1.2.0",
            "bar_color": null,
            "_model_module": "@jupyter-widgets/controls"
          }
        },
        "25ca746f46084b76941f3f12a63d01df": {
          "model_module": "@jupyter-widgets/base",
          "model_name": "LayoutModel",
          "model_module_version": "1.2.0",
          "state": {
            "_view_name": "LayoutView",
            "grid_template_rows": null,
            "right": null,
            "justify_content": null,
            "_view_module": "@jupyter-widgets/base",
            "overflow": null,
            "_model_module_version": "1.2.0",
            "_view_count": null,
            "flex_flow": null,
            "width": null,
            "min_width": null,
            "border": null,
            "align_items": null,
            "bottom": null,
            "_model_module": "@jupyter-widgets/base",
            "top": null,
            "grid_column": null,
            "overflow_y": null,
            "overflow_x": null,
            "grid_auto_flow": null,
            "grid_area": null,
            "grid_template_columns": null,
            "flex": null,
            "_model_name": "LayoutModel",
            "justify_items": null,
            "grid_row": null,
            "max_height": null,
            "align_content": null,
            "visibility": null,
            "align_self": null,
            "height": null,
            "min_height": null,
            "padding": null,
            "grid_auto_rows": null,
            "grid_gap": null,
            "max_width": null,
            "order": null,
            "_view_module_version": "1.2.0",
            "grid_template_areas": null,
            "object_position": null,
            "object_fit": null,
            "grid_auto_columns": null,
            "margin": null,
            "display": null,
            "left": null
          }
        },
        "ab89a6f16f0b4638915ed92d38a6575f": {
          "model_module": "@jupyter-widgets/controls",
          "model_name": "DescriptionStyleModel",
          "model_module_version": "1.5.0",
          "state": {
            "_view_name": "StyleView",
            "_model_name": "DescriptionStyleModel",
            "description_width": "",
            "_view_module": "@jupyter-widgets/base",
            "_model_module_version": "1.5.0",
            "_view_count": null,
            "_view_module_version": "1.2.0",
            "_model_module": "@jupyter-widgets/controls"
          }
        },
        "277e6654fdf94ca4942e838eb31578a0": {
          "model_module": "@jupyter-widgets/base",
          "model_name": "LayoutModel",
          "model_module_version": "1.2.0",
          "state": {
            "_view_name": "LayoutView",
            "grid_template_rows": null,
            "right": null,
            "justify_content": null,
            "_view_module": "@jupyter-widgets/base",
            "overflow": null,
            "_model_module_version": "1.2.0",
            "_view_count": null,
            "flex_flow": null,
            "width": null,
            "min_width": null,
            "border": null,
            "align_items": null,
            "bottom": null,
            "_model_module": "@jupyter-widgets/base",
            "top": null,
            "grid_column": null,
            "overflow_y": null,
            "overflow_x": null,
            "grid_auto_flow": null,
            "grid_area": null,
            "grid_template_columns": null,
            "flex": null,
            "_model_name": "LayoutModel",
            "justify_items": null,
            "grid_row": null,
            "max_height": null,
            "align_content": null,
            "visibility": null,
            "align_self": null,
            "height": null,
            "min_height": null,
            "padding": null,
            "grid_auto_rows": null,
            "grid_gap": null,
            "max_width": null,
            "order": null,
            "_view_module_version": "1.2.0",
            "grid_template_areas": null,
            "object_position": null,
            "object_fit": null,
            "grid_auto_columns": null,
            "margin": null,
            "display": null,
            "left": null
          }
        },
        "6b4647fbe6d84ffca5497686b42198fc": {
          "model_module": "@jupyter-widgets/controls",
          "model_name": "HBoxModel",
          "model_module_version": "1.5.0",
          "state": {
            "_view_name": "HBoxView",
            "_dom_classes": [],
            "_model_name": "HBoxModel",
            "_view_module": "@jupyter-widgets/controls",
            "_model_module_version": "1.5.0",
            "_view_count": null,
            "_view_module_version": "1.5.0",
            "box_style": "",
            "layout": "IPY_MODEL_af00e00c24dd4029ade7c25131a0a894",
            "_model_module": "@jupyter-widgets/controls",
            "children": [
              "IPY_MODEL_c19f10eb728e4d08834d6aa0c0653e81",
              "IPY_MODEL_21ec45f972cd402cbc61dfa289becdfd",
              "IPY_MODEL_c2fadb7180d54cafb5fd9a5a9151c653"
            ]
          }
        },
        "af00e00c24dd4029ade7c25131a0a894": {
          "model_module": "@jupyter-widgets/base",
          "model_name": "LayoutModel",
          "model_module_version": "1.2.0",
          "state": {
            "_view_name": "LayoutView",
            "grid_template_rows": null,
            "right": null,
            "justify_content": null,
            "_view_module": "@jupyter-widgets/base",
            "overflow": null,
            "_model_module_version": "1.2.0",
            "_view_count": null,
            "flex_flow": null,
            "width": null,
            "min_width": null,
            "border": null,
            "align_items": null,
            "bottom": null,
            "_model_module": "@jupyter-widgets/base",
            "top": null,
            "grid_column": null,
            "overflow_y": null,
            "overflow_x": null,
            "grid_auto_flow": null,
            "grid_area": null,
            "grid_template_columns": null,
            "flex": null,
            "_model_name": "LayoutModel",
            "justify_items": null,
            "grid_row": null,
            "max_height": null,
            "align_content": null,
            "visibility": null,
            "align_self": null,
            "height": null,
            "min_height": null,
            "padding": null,
            "grid_auto_rows": null,
            "grid_gap": null,
            "max_width": null,
            "order": null,
            "_view_module_version": "1.2.0",
            "grid_template_areas": null,
            "object_position": null,
            "object_fit": null,
            "grid_auto_columns": null,
            "margin": null,
            "display": null,
            "left": null
          }
        },
        "c19f10eb728e4d08834d6aa0c0653e81": {
          "model_module": "@jupyter-widgets/controls",
          "model_name": "HTMLModel",
          "model_module_version": "1.5.0",
          "state": {
            "_view_name": "HTMLView",
            "style": "IPY_MODEL_55f2a4c030e6493f869daf66d3801643",
            "_dom_classes": [],
            "description": "",
            "_model_name": "HTMLModel",
            "placeholder": "​",
            "_view_module": "@jupyter-widgets/controls",
            "_model_module_version": "1.5.0",
            "value": "100%",
            "_view_count": null,
            "_view_module_version": "1.5.0",
            "description_tooltip": null,
            "_model_module": "@jupyter-widgets/controls",
            "layout": "IPY_MODEL_d254ebc85c3c48b7a0e27f984d19a8ef"
          }
        },
        "21ec45f972cd402cbc61dfa289becdfd": {
          "model_module": "@jupyter-widgets/controls",
          "model_name": "FloatProgressModel",
          "model_module_version": "1.5.0",
          "state": {
            "_view_name": "ProgressView",
            "style": "IPY_MODEL_410c60cc6ca14072b4ff8a6f7fceaa33",
            "_dom_classes": [],
            "description": "",
            "_model_name": "FloatProgressModel",
            "bar_style": "success",
            "max": 50,
            "_view_module": "@jupyter-widgets/controls",
            "_model_module_version": "1.5.0",
            "value": 50,
            "_view_count": null,
            "_view_module_version": "1.5.0",
            "orientation": "horizontal",
            "min": 0,
            "description_tooltip": null,
            "_model_module": "@jupyter-widgets/controls",
            "layout": "IPY_MODEL_702c9d539b724620a83b1baeb8904430"
          }
        },
        "c2fadb7180d54cafb5fd9a5a9151c653": {
          "model_module": "@jupyter-widgets/controls",
          "model_name": "HTMLModel",
          "model_module_version": "1.5.0",
          "state": {
            "_view_name": "HTMLView",
            "style": "IPY_MODEL_7170a1b37ce64ae995ad1c3d3d81a6b9",
            "_dom_classes": [],
            "description": "",
            "_model_name": "HTMLModel",
            "placeholder": "​",
            "_view_module": "@jupyter-widgets/controls",
            "_model_module_version": "1.5.0",
            "value": " 50/50 [04:13&lt;00:00,  5.00s/it]",
            "_view_count": null,
            "_view_module_version": "1.5.0",
            "description_tooltip": null,
            "_model_module": "@jupyter-widgets/controls",
            "layout": "IPY_MODEL_88086b0945284df5ab4d9d548e61b9ff"
          }
        },
        "55f2a4c030e6493f869daf66d3801643": {
          "model_module": "@jupyter-widgets/controls",
          "model_name": "DescriptionStyleModel",
          "model_module_version": "1.5.0",
          "state": {
            "_view_name": "StyleView",
            "_model_name": "DescriptionStyleModel",
            "description_width": "",
            "_view_module": "@jupyter-widgets/base",
            "_model_module_version": "1.5.0",
            "_view_count": null,
            "_view_module_version": "1.2.0",
            "_model_module": "@jupyter-widgets/controls"
          }
        },
        "d254ebc85c3c48b7a0e27f984d19a8ef": {
          "model_module": "@jupyter-widgets/base",
          "model_name": "LayoutModel",
          "model_module_version": "1.2.0",
          "state": {
            "_view_name": "LayoutView",
            "grid_template_rows": null,
            "right": null,
            "justify_content": null,
            "_view_module": "@jupyter-widgets/base",
            "overflow": null,
            "_model_module_version": "1.2.0",
            "_view_count": null,
            "flex_flow": null,
            "width": null,
            "min_width": null,
            "border": null,
            "align_items": null,
            "bottom": null,
            "_model_module": "@jupyter-widgets/base",
            "top": null,
            "grid_column": null,
            "overflow_y": null,
            "overflow_x": null,
            "grid_auto_flow": null,
            "grid_area": null,
            "grid_template_columns": null,
            "flex": null,
            "_model_name": "LayoutModel",
            "justify_items": null,
            "grid_row": null,
            "max_height": null,
            "align_content": null,
            "visibility": null,
            "align_self": null,
            "height": null,
            "min_height": null,
            "padding": null,
            "grid_auto_rows": null,
            "grid_gap": null,
            "max_width": null,
            "order": null,
            "_view_module_version": "1.2.0",
            "grid_template_areas": null,
            "object_position": null,
            "object_fit": null,
            "grid_auto_columns": null,
            "margin": null,
            "display": null,
            "left": null
          }
        },
        "410c60cc6ca14072b4ff8a6f7fceaa33": {
          "model_module": "@jupyter-widgets/controls",
          "model_name": "ProgressStyleModel",
          "model_module_version": "1.5.0",
          "state": {
            "_view_name": "StyleView",
            "_model_name": "ProgressStyleModel",
            "description_width": "",
            "_view_module": "@jupyter-widgets/base",
            "_model_module_version": "1.5.0",
            "_view_count": null,
            "_view_module_version": "1.2.0",
            "bar_color": null,
            "_model_module": "@jupyter-widgets/controls"
          }
        },
        "702c9d539b724620a83b1baeb8904430": {
          "model_module": "@jupyter-widgets/base",
          "model_name": "LayoutModel",
          "model_module_version": "1.2.0",
          "state": {
            "_view_name": "LayoutView",
            "grid_template_rows": null,
            "right": null,
            "justify_content": null,
            "_view_module": "@jupyter-widgets/base",
            "overflow": null,
            "_model_module_version": "1.2.0",
            "_view_count": null,
            "flex_flow": null,
            "width": null,
            "min_width": null,
            "border": null,
            "align_items": null,
            "bottom": null,
            "_model_module": "@jupyter-widgets/base",
            "top": null,
            "grid_column": null,
            "overflow_y": null,
            "overflow_x": null,
            "grid_auto_flow": null,
            "grid_area": null,
            "grid_template_columns": null,
            "flex": null,
            "_model_name": "LayoutModel",
            "justify_items": null,
            "grid_row": null,
            "max_height": null,
            "align_content": null,
            "visibility": null,
            "align_self": null,
            "height": null,
            "min_height": null,
            "padding": null,
            "grid_auto_rows": null,
            "grid_gap": null,
            "max_width": null,
            "order": null,
            "_view_module_version": "1.2.0",
            "grid_template_areas": null,
            "object_position": null,
            "object_fit": null,
            "grid_auto_columns": null,
            "margin": null,
            "display": null,
            "left": null
          }
        },
        "7170a1b37ce64ae995ad1c3d3d81a6b9": {
          "model_module": "@jupyter-widgets/controls",
          "model_name": "DescriptionStyleModel",
          "model_module_version": "1.5.0",
          "state": {
            "_view_name": "StyleView",
            "_model_name": "DescriptionStyleModel",
            "description_width": "",
            "_view_module": "@jupyter-widgets/base",
            "_model_module_version": "1.5.0",
            "_view_count": null,
            "_view_module_version": "1.2.0",
            "_model_module": "@jupyter-widgets/controls"
          }
        },
        "88086b0945284df5ab4d9d548e61b9ff": {
          "model_module": "@jupyter-widgets/base",
          "model_name": "LayoutModel",
          "model_module_version": "1.2.0",
          "state": {
            "_view_name": "LayoutView",
            "grid_template_rows": null,
            "right": null,
            "justify_content": null,
            "_view_module": "@jupyter-widgets/base",
            "overflow": null,
            "_model_module_version": "1.2.0",
            "_view_count": null,
            "flex_flow": null,
            "width": null,
            "min_width": null,
            "border": null,
            "align_items": null,
            "bottom": null,
            "_model_module": "@jupyter-widgets/base",
            "top": null,
            "grid_column": null,
            "overflow_y": null,
            "overflow_x": null,
            "grid_auto_flow": null,
            "grid_area": null,
            "grid_template_columns": null,
            "flex": null,
            "_model_name": "LayoutModel",
            "justify_items": null,
            "grid_row": null,
            "max_height": null,
            "align_content": null,
            "visibility": null,
            "align_self": null,
            "height": null,
            "min_height": null,
            "padding": null,
            "grid_auto_rows": null,
            "grid_gap": null,
            "max_width": null,
            "order": null,
            "_view_module_version": "1.2.0",
            "grid_template_areas": null,
            "object_position": null,
            "object_fit": null,
            "grid_auto_columns": null,
            "margin": null,
            "display": null,
            "left": null
          }
        },
        "5faa0e567ed34d118dd5f2d72216d4cd": {
          "model_module": "@jupyter-widgets/controls",
          "model_name": "HBoxModel",
          "model_module_version": "1.5.0",
          "state": {
            "_view_name": "HBoxView",
            "_dom_classes": [],
            "_model_name": "HBoxModel",
            "_view_module": "@jupyter-widgets/controls",
            "_model_module_version": "1.5.0",
            "_view_count": null,
            "_view_module_version": "1.5.0",
            "box_style": "",
            "layout": "IPY_MODEL_56e352ed687848aa8c83e679dcbe43dc",
            "_model_module": "@jupyter-widgets/controls",
            "children": [
              "IPY_MODEL_a9893ddf14574120b55949989fa958f1",
              "IPY_MODEL_e7cda0203c494705a91a2b02cf84ee3c",
              "IPY_MODEL_3dabf8d9db2e4f4f86ad8735621b7911"
            ]
          }
        },
        "56e352ed687848aa8c83e679dcbe43dc": {
          "model_module": "@jupyter-widgets/base",
          "model_name": "LayoutModel",
          "model_module_version": "1.2.0",
          "state": {
            "_view_name": "LayoutView",
            "grid_template_rows": null,
            "right": null,
            "justify_content": null,
            "_view_module": "@jupyter-widgets/base",
            "overflow": null,
            "_model_module_version": "1.2.0",
            "_view_count": null,
            "flex_flow": null,
            "width": null,
            "min_width": null,
            "border": null,
            "align_items": null,
            "bottom": null,
            "_model_module": "@jupyter-widgets/base",
            "top": null,
            "grid_column": null,
            "overflow_y": null,
            "overflow_x": null,
            "grid_auto_flow": null,
            "grid_area": null,
            "grid_template_columns": null,
            "flex": null,
            "_model_name": "LayoutModel",
            "justify_items": null,
            "grid_row": null,
            "max_height": null,
            "align_content": null,
            "visibility": null,
            "align_self": null,
            "height": null,
            "min_height": null,
            "padding": null,
            "grid_auto_rows": null,
            "grid_gap": null,
            "max_width": null,
            "order": null,
            "_view_module_version": "1.2.0",
            "grid_template_areas": null,
            "object_position": null,
            "object_fit": null,
            "grid_auto_columns": null,
            "margin": null,
            "display": null,
            "left": null
          }
        },
        "a9893ddf14574120b55949989fa958f1": {
          "model_module": "@jupyter-widgets/controls",
          "model_name": "HTMLModel",
          "model_module_version": "1.5.0",
          "state": {
            "_view_name": "HTMLView",
            "style": "IPY_MODEL_204ec930f43d47f885cde155c4d53d72",
            "_dom_classes": [],
            "description": "",
            "_model_name": "HTMLModel",
            "placeholder": "​",
            "_view_module": "@jupyter-widgets/controls",
            "_model_module_version": "1.5.0",
            "value": "Epoch 250 | mean loss: 27.77306: 100%",
            "_view_count": null,
            "_view_module_version": "1.5.0",
            "description_tooltip": null,
            "_model_module": "@jupyter-widgets/controls",
            "layout": "IPY_MODEL_9e622f54f063454bbf5c6e97d58ccdf8"
          }
        },
        "e7cda0203c494705a91a2b02cf84ee3c": {
          "model_module": "@jupyter-widgets/controls",
          "model_name": "FloatProgressModel",
          "model_module_version": "1.5.0",
          "state": {
            "_view_name": "ProgressView",
            "style": "IPY_MODEL_1f4cf6c64e754f95827965bb7bc57c8a",
            "_dom_classes": [],
            "description": "",
            "_model_name": "FloatProgressModel",
            "bar_style": "success",
            "max": 250,
            "_view_module": "@jupyter-widgets/controls",
            "_model_module_version": "1.5.0",
            "value": 250,
            "_view_count": null,
            "_view_module_version": "1.5.0",
            "orientation": "horizontal",
            "min": 0,
            "description_tooltip": null,
            "_model_module": "@jupyter-widgets/controls",
            "layout": "IPY_MODEL_a8c35a90eb58460a82296d5f4b300a3e"
          }
        },
        "3dabf8d9db2e4f4f86ad8735621b7911": {
          "model_module": "@jupyter-widgets/controls",
          "model_name": "HTMLModel",
          "model_module_version": "1.5.0",
          "state": {
            "_view_name": "HTMLView",
            "style": "IPY_MODEL_60f5c34fb2af42f5a5f9bb15ba657fd1",
            "_dom_classes": [],
            "description": "",
            "_model_name": "HTMLModel",
            "placeholder": "​",
            "_view_module": "@jupyter-widgets/controls",
            "_model_module_version": "1.5.0",
            "value": " 250/250 [06:02&lt;00:00,  1.46s/epoch]",
            "_view_count": null,
            "_view_module_version": "1.5.0",
            "description_tooltip": null,
            "_model_module": "@jupyter-widgets/controls",
            "layout": "IPY_MODEL_a994fad9f8a543b09b9ba4ac34e5ffd4"
          }
        },
        "204ec930f43d47f885cde155c4d53d72": {
          "model_module": "@jupyter-widgets/controls",
          "model_name": "DescriptionStyleModel",
          "model_module_version": "1.5.0",
          "state": {
            "_view_name": "StyleView",
            "_model_name": "DescriptionStyleModel",
            "description_width": "",
            "_view_module": "@jupyter-widgets/base",
            "_model_module_version": "1.5.0",
            "_view_count": null,
            "_view_module_version": "1.2.0",
            "_model_module": "@jupyter-widgets/controls"
          }
        },
        "9e622f54f063454bbf5c6e97d58ccdf8": {
          "model_module": "@jupyter-widgets/base",
          "model_name": "LayoutModel",
          "model_module_version": "1.2.0",
          "state": {
            "_view_name": "LayoutView",
            "grid_template_rows": null,
            "right": null,
            "justify_content": null,
            "_view_module": "@jupyter-widgets/base",
            "overflow": null,
            "_model_module_version": "1.2.0",
            "_view_count": null,
            "flex_flow": null,
            "width": null,
            "min_width": null,
            "border": null,
            "align_items": null,
            "bottom": null,
            "_model_module": "@jupyter-widgets/base",
            "top": null,
            "grid_column": null,
            "overflow_y": null,
            "overflow_x": null,
            "grid_auto_flow": null,
            "grid_area": null,
            "grid_template_columns": null,
            "flex": null,
            "_model_name": "LayoutModel",
            "justify_items": null,
            "grid_row": null,
            "max_height": null,
            "align_content": null,
            "visibility": null,
            "align_self": null,
            "height": null,
            "min_height": null,
            "padding": null,
            "grid_auto_rows": null,
            "grid_gap": null,
            "max_width": null,
            "order": null,
            "_view_module_version": "1.2.0",
            "grid_template_areas": null,
            "object_position": null,
            "object_fit": null,
            "grid_auto_columns": null,
            "margin": null,
            "display": null,
            "left": null
          }
        },
        "1f4cf6c64e754f95827965bb7bc57c8a": {
          "model_module": "@jupyter-widgets/controls",
          "model_name": "ProgressStyleModel",
          "model_module_version": "1.5.0",
          "state": {
            "_view_name": "StyleView",
            "_model_name": "ProgressStyleModel",
            "description_width": "",
            "_view_module": "@jupyter-widgets/base",
            "_model_module_version": "1.5.0",
            "_view_count": null,
            "_view_module_version": "1.2.0",
            "bar_color": null,
            "_model_module": "@jupyter-widgets/controls"
          }
        },
        "a8c35a90eb58460a82296d5f4b300a3e": {
          "model_module": "@jupyter-widgets/base",
          "model_name": "LayoutModel",
          "model_module_version": "1.2.0",
          "state": {
            "_view_name": "LayoutView",
            "grid_template_rows": null,
            "right": null,
            "justify_content": null,
            "_view_module": "@jupyter-widgets/base",
            "overflow": null,
            "_model_module_version": "1.2.0",
            "_view_count": null,
            "flex_flow": null,
            "width": null,
            "min_width": null,
            "border": null,
            "align_items": null,
            "bottom": null,
            "_model_module": "@jupyter-widgets/base",
            "top": null,
            "grid_column": null,
            "overflow_y": null,
            "overflow_x": null,
            "grid_auto_flow": null,
            "grid_area": null,
            "grid_template_columns": null,
            "flex": null,
            "_model_name": "LayoutModel",
            "justify_items": null,
            "grid_row": null,
            "max_height": null,
            "align_content": null,
            "visibility": null,
            "align_self": null,
            "height": null,
            "min_height": null,
            "padding": null,
            "grid_auto_rows": null,
            "grid_gap": null,
            "max_width": null,
            "order": null,
            "_view_module_version": "1.2.0",
            "grid_template_areas": null,
            "object_position": null,
            "object_fit": null,
            "grid_auto_columns": null,
            "margin": null,
            "display": null,
            "left": null
          }
        },
        "60f5c34fb2af42f5a5f9bb15ba657fd1": {
          "model_module": "@jupyter-widgets/controls",
          "model_name": "DescriptionStyleModel",
          "model_module_version": "1.5.0",
          "state": {
            "_view_name": "StyleView",
            "_model_name": "DescriptionStyleModel",
            "description_width": "",
            "_view_module": "@jupyter-widgets/base",
            "_model_module_version": "1.5.0",
            "_view_count": null,
            "_view_module_version": "1.2.0",
            "_model_module": "@jupyter-widgets/controls"
          }
        },
        "a994fad9f8a543b09b9ba4ac34e5ffd4": {
          "model_module": "@jupyter-widgets/base",
          "model_name": "LayoutModel",
          "model_module_version": "1.2.0",
          "state": {
            "_view_name": "LayoutView",
            "grid_template_rows": null,
            "right": null,
            "justify_content": null,
            "_view_module": "@jupyter-widgets/base",
            "overflow": null,
            "_model_module_version": "1.2.0",
            "_view_count": null,
            "flex_flow": null,
            "width": null,
            "min_width": null,
            "border": null,
            "align_items": null,
            "bottom": null,
            "_model_module": "@jupyter-widgets/base",
            "top": null,
            "grid_column": null,
            "overflow_y": null,
            "overflow_x": null,
            "grid_auto_flow": null,
            "grid_area": null,
            "grid_template_columns": null,
            "flex": null,
            "_model_name": "LayoutModel",
            "justify_items": null,
            "grid_row": null,
            "max_height": null,
            "align_content": null,
            "visibility": null,
            "align_self": null,
            "height": null,
            "min_height": null,
            "padding": null,
            "grid_auto_rows": null,
            "grid_gap": null,
            "max_width": null,
            "order": null,
            "_view_module_version": "1.2.0",
            "grid_template_areas": null,
            "object_position": null,
            "object_fit": null,
            "grid_auto_columns": null,
            "margin": null,
            "display": null,
            "left": null
          }
        }
      }
    }
  },
  "nbformat": 4,
  "nbformat_minor": 0
}