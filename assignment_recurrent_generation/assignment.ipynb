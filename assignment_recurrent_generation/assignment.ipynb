{
  "nbformat": 4,
  "nbformat_minor": 0,
  "metadata": {
    "colab": {
      "name": "assignment.ipynb",
      "provenance": [],
      "collapsed_sections": []
    },
    "kernelspec": {
      "display_name": "Python 3",
      "language": "python",
      "name": "python3"
    },
    "language_info": {
      "codemirror_mode": {
        "name": "ipython",
        "version": 3
      },
      "file_extension": ".py",
      "mimetype": "text/x-python",
      "name": "python",
      "nbconvert_exporter": "python",
      "pygments_lexer": "ipython3",
      "version": "3.7.4"
    },
    "widgets": {
      "application/vnd.jupyter.widget-state+json": {
        "b0a8ca71951b4ac4acdf20ecdcb2748d": {
          "model_module": "@jupyter-widgets/controls",
          "model_name": "HBoxModel",
          "model_module_version": "1.5.0",
          "state": {
            "_view_name": "HBoxView",
            "_dom_classes": [],
            "_model_name": "HBoxModel",
            "_view_module": "@jupyter-widgets/controls",
            "_model_module_version": "1.5.0",
            "_view_count": null,
            "_view_module_version": "1.5.0",
            "box_style": "",
            "layout": "IPY_MODEL_0986e6ce531849b0a91c0fabbcce1c25",
            "_model_module": "@jupyter-widgets/controls",
            "children": [
              "IPY_MODEL_7388dd3cb9fa4e9d944400ca5e953820",
              "IPY_MODEL_2c9a51e699d04f459f05a33298b77978",
              "IPY_MODEL_5778e08048f845c0afbefa37f93b6833"
            ]
          }
        },
        "0986e6ce531849b0a91c0fabbcce1c25": {
          "model_module": "@jupyter-widgets/base",
          "model_name": "LayoutModel",
          "model_module_version": "1.2.0",
          "state": {
            "_view_name": "LayoutView",
            "grid_template_rows": null,
            "right": null,
            "justify_content": null,
            "_view_module": "@jupyter-widgets/base",
            "overflow": null,
            "_model_module_version": "1.2.0",
            "_view_count": null,
            "flex_flow": null,
            "width": null,
            "min_width": null,
            "border": null,
            "align_items": null,
            "bottom": null,
            "_model_module": "@jupyter-widgets/base",
            "top": null,
            "grid_column": null,
            "overflow_y": null,
            "overflow_x": null,
            "grid_auto_flow": null,
            "grid_area": null,
            "grid_template_columns": null,
            "flex": null,
            "_model_name": "LayoutModel",
            "justify_items": null,
            "grid_row": null,
            "max_height": null,
            "align_content": null,
            "visibility": null,
            "align_self": null,
            "height": null,
            "min_height": null,
            "padding": null,
            "grid_auto_rows": null,
            "grid_gap": null,
            "max_width": null,
            "order": null,
            "_view_module_version": "1.2.0",
            "grid_template_areas": null,
            "object_position": null,
            "object_fit": null,
            "grid_auto_columns": null,
            "margin": null,
            "display": null,
            "left": null
          }
        },
        "7388dd3cb9fa4e9d944400ca5e953820": {
          "model_module": "@jupyter-widgets/controls",
          "model_name": "HTMLModel",
          "model_module_version": "1.5.0",
          "state": {
            "_view_name": "HTMLView",
            "style": "IPY_MODEL_5119b83b14e14accbe11b542675c74e1",
            "_dom_classes": [],
            "description": "",
            "_model_name": "HTMLModel",
            "placeholder": "​",
            "_view_module": "@jupyter-widgets/controls",
            "_model_module_version": "1.5.0",
            "value": "  0%",
            "_view_count": null,
            "_view_module_version": "1.5.0",
            "description_tooltip": null,
            "_model_module": "@jupyter-widgets/controls",
            "layout": "IPY_MODEL_05ecfa0fbae347aaa7dd079eb301b872"
          }
        },
        "2c9a51e699d04f459f05a33298b77978": {
          "model_module": "@jupyter-widgets/controls",
          "model_name": "FloatProgressModel",
          "model_module_version": "1.5.0",
          "state": {
            "_view_name": "ProgressView",
            "style": "IPY_MODEL_00371d44aed2438f8e519806b0bb6d2d",
            "_dom_classes": [],
            "description": "",
            "_model_name": "FloatProgressModel",
            "bar_style": "danger",
            "max": 500,
            "_view_module": "@jupyter-widgets/controls",
            "_model_module_version": "1.5.0",
            "value": 0,
            "_view_count": null,
            "_view_module_version": "1.5.0",
            "orientation": "horizontal",
            "min": 0,
            "description_tooltip": null,
            "_model_module": "@jupyter-widgets/controls",
            "layout": "IPY_MODEL_91bdfd624f7d42eb82511f003906d1b2"
          }
        },
        "5778e08048f845c0afbefa37f93b6833": {
          "model_module": "@jupyter-widgets/controls",
          "model_name": "HTMLModel",
          "model_module_version": "1.5.0",
          "state": {
            "_view_name": "HTMLView",
            "style": "IPY_MODEL_785850ce99804413b3cc02792ca066d3",
            "_dom_classes": [],
            "description": "",
            "_model_name": "HTMLModel",
            "placeholder": "​",
            "_view_module": "@jupyter-widgets/controls",
            "_model_module_version": "1.5.0",
            "value": " 0/500 [00:15&lt;?, ?it/s]",
            "_view_count": null,
            "_view_module_version": "1.5.0",
            "description_tooltip": null,
            "_model_module": "@jupyter-widgets/controls",
            "layout": "IPY_MODEL_71d50db40a24468293db69a4e9076404"
          }
        },
        "5119b83b14e14accbe11b542675c74e1": {
          "model_module": "@jupyter-widgets/controls",
          "model_name": "DescriptionStyleModel",
          "model_module_version": "1.5.0",
          "state": {
            "_view_name": "StyleView",
            "_model_name": "DescriptionStyleModel",
            "description_width": "",
            "_view_module": "@jupyter-widgets/base",
            "_model_module_version": "1.5.0",
            "_view_count": null,
            "_view_module_version": "1.2.0",
            "_model_module": "@jupyter-widgets/controls"
          }
        },
        "05ecfa0fbae347aaa7dd079eb301b872": {
          "model_module": "@jupyter-widgets/base",
          "model_name": "LayoutModel",
          "model_module_version": "1.2.0",
          "state": {
            "_view_name": "LayoutView",
            "grid_template_rows": null,
            "right": null,
            "justify_content": null,
            "_view_module": "@jupyter-widgets/base",
            "overflow": null,
            "_model_module_version": "1.2.0",
            "_view_count": null,
            "flex_flow": null,
            "width": null,
            "min_width": null,
            "border": null,
            "align_items": null,
            "bottom": null,
            "_model_module": "@jupyter-widgets/base",
            "top": null,
            "grid_column": null,
            "overflow_y": null,
            "overflow_x": null,
            "grid_auto_flow": null,
            "grid_area": null,
            "grid_template_columns": null,
            "flex": null,
            "_model_name": "LayoutModel",
            "justify_items": null,
            "grid_row": null,
            "max_height": null,
            "align_content": null,
            "visibility": null,
            "align_self": null,
            "height": null,
            "min_height": null,
            "padding": null,
            "grid_auto_rows": null,
            "grid_gap": null,
            "max_width": null,
            "order": null,
            "_view_module_version": "1.2.0",
            "grid_template_areas": null,
            "object_position": null,
            "object_fit": null,
            "grid_auto_columns": null,
            "margin": null,
            "display": null,
            "left": null
          }
        },
        "00371d44aed2438f8e519806b0bb6d2d": {
          "model_module": "@jupyter-widgets/controls",
          "model_name": "ProgressStyleModel",
          "model_module_version": "1.5.0",
          "state": {
            "_view_name": "StyleView",
            "_model_name": "ProgressStyleModel",
            "description_width": "",
            "_view_module": "@jupyter-widgets/base",
            "_model_module_version": "1.5.0",
            "_view_count": null,
            "_view_module_version": "1.2.0",
            "bar_color": null,
            "_model_module": "@jupyter-widgets/controls"
          }
        },
        "91bdfd624f7d42eb82511f003906d1b2": {
          "model_module": "@jupyter-widgets/base",
          "model_name": "LayoutModel",
          "model_module_version": "1.2.0",
          "state": {
            "_view_name": "LayoutView",
            "grid_template_rows": null,
            "right": null,
            "justify_content": null,
            "_view_module": "@jupyter-widgets/base",
            "overflow": null,
            "_model_module_version": "1.2.0",
            "_view_count": null,
            "flex_flow": null,
            "width": null,
            "min_width": null,
            "border": null,
            "align_items": null,
            "bottom": null,
            "_model_module": "@jupyter-widgets/base",
            "top": null,
            "grid_column": null,
            "overflow_y": null,
            "overflow_x": null,
            "grid_auto_flow": null,
            "grid_area": null,
            "grid_template_columns": null,
            "flex": null,
            "_model_name": "LayoutModel",
            "justify_items": null,
            "grid_row": null,
            "max_height": null,
            "align_content": null,
            "visibility": null,
            "align_self": null,
            "height": null,
            "min_height": null,
            "padding": null,
            "grid_auto_rows": null,
            "grid_gap": null,
            "max_width": null,
            "order": null,
            "_view_module_version": "1.2.0",
            "grid_template_areas": null,
            "object_position": null,
            "object_fit": null,
            "grid_auto_columns": null,
            "margin": null,
            "display": null,
            "left": null
          }
        },
        "785850ce99804413b3cc02792ca066d3": {
          "model_module": "@jupyter-widgets/controls",
          "model_name": "DescriptionStyleModel",
          "model_module_version": "1.5.0",
          "state": {
            "_view_name": "StyleView",
            "_model_name": "DescriptionStyleModel",
            "description_width": "",
            "_view_module": "@jupyter-widgets/base",
            "_model_module_version": "1.5.0",
            "_view_count": null,
            "_view_module_version": "1.2.0",
            "_model_module": "@jupyter-widgets/controls"
          }
        },
        "71d50db40a24468293db69a4e9076404": {
          "model_module": "@jupyter-widgets/base",
          "model_name": "LayoutModel",
          "model_module_version": "1.2.0",
          "state": {
            "_view_name": "LayoutView",
            "grid_template_rows": null,
            "right": null,
            "justify_content": null,
            "_view_module": "@jupyter-widgets/base",
            "overflow": null,
            "_model_module_version": "1.2.0",
            "_view_count": null,
            "flex_flow": null,
            "width": null,
            "min_width": null,
            "border": null,
            "align_items": null,
            "bottom": null,
            "_model_module": "@jupyter-widgets/base",
            "top": null,
            "grid_column": null,
            "overflow_y": null,
            "overflow_x": null,
            "grid_auto_flow": null,
            "grid_area": null,
            "grid_template_columns": null,
            "flex": null,
            "_model_name": "LayoutModel",
            "justify_items": null,
            "grid_row": null,
            "max_height": null,
            "align_content": null,
            "visibility": null,
            "align_self": null,
            "height": null,
            "min_height": null,
            "padding": null,
            "grid_auto_rows": null,
            "grid_gap": null,
            "max_width": null,
            "order": null,
            "_view_module_version": "1.2.0",
            "grid_template_areas": null,
            "object_position": null,
            "object_fit": null,
            "grid_auto_columns": null,
            "margin": null,
            "display": null,
            "left": null
          }
        }
      }
    }
  },
  "cells": [
    {
      "cell_type": "markdown",
      "metadata": {
        "id": "Qb4sGdJhMDjy"
      },
      "source": [
        "# Assignment — Deep Recurrent Graph Generation"
      ]
    },
    {
      "cell_type": "markdown",
      "metadata": {
        "id": "OM1VMGp9JW8X"
      },
      "source": [
        "### Task 1. Recurrent attention GNN (1 point)"
      ]
    },
    {
      "cell_type": "code",
      "metadata": {
        "colab": {
          "base_uri": "https://localhost:8080/",
          "height": 53
        },
        "id": "M4hI19NmaSQr",
        "outputId": "db8729e3-1e21-4008-d365-f833e469af1f"
      },
      "source": [
        "!pip install dgl -f https://data.dgl.ai/wheels/repo.html -q\n",
        "#!pip install dgl-cu113 -f https://data.dgl.ai/wheels/repo.html -q\n",
        "import dgl\n",
        "dgl.__version__"
      ],
      "execution_count": 1,
      "outputs": [
        {
          "output_type": "stream",
          "name": "stderr",
          "text": [
            "Using backend: pytorch\n"
          ]
        },
        {
          "output_type": "execute_result",
          "data": {
            "application/vnd.google.colaboratory.intrinsic+json": {
              "type": "string"
            },
            "text/plain": [
              "'0.7.2'"
            ]
          },
          "metadata": {},
          "execution_count": 1
        }
      ]
    },
    {
      "cell_type": "code",
      "metadata": {
        "id": "MhMp8pbWbl_7"
      },
      "source": [
        "import dgl\n",
        "import dgl.nn as dnn\n",
        "import dgl.function as fn\n",
        "from dgl.data import DGLDataset, GINDataset\n",
        "\n",
        "import torch\n",
        "import torch.nn as nn\n",
        "import torch.distributions as D\n",
        "import torch.nn.functional as F\n",
        "from torch.optim import Adam\n",
        "from torch.utils.data import DataLoader, Subset\n",
        "\n",
        "import networkx as nx\n",
        "import matplotlib.pyplot as plt\n",
        "import numpy as np\n",
        "from scipy.stats import ks_2samp\n",
        "\n",
        "from tqdm.notebook import trange, tqdm\n",
        "import requests"
      ],
      "execution_count": 2,
      "outputs": []
    },
    {
      "cell_type": "code",
      "metadata": {
        "colab": {
          "base_uri": "https://localhost:8080/"
        },
        "id": "58lh0VWv66zO",
        "outputId": "e14d3f0e-7513-401d-fda1-dba5ed21d540"
      },
      "source": [
        "device = torch.device('cuda') if torch.cuda.is_available() else torch.device('cpu')\n",
        "device"
      ],
      "execution_count": 3,
      "outputs": [
        {
          "output_type": "execute_result",
          "data": {
            "text/plain": [
              "device(type='cpu')"
            ]
          },
          "metadata": {},
          "execution_count": 3
        }
      ]
    },
    {
      "cell_type": "markdown",
      "metadata": {
        "id": "ipT9aDuuPLcA"
      },
      "source": [
        "The traditional graph generation approaches (Erdos-Renyi, Barabasi-Albert, etc.) can be used to efficiently generate synthetic graphs that have certain properties. Such models can give us insight into how certain graph structures might arise in the real world. However, they rely on a fixed, handcrafted generation process. On the other side, deep generation approaches will seek to learn a generative model on a set of training graphs. This assignment is dedicated to a such generative model inspired by GRAN [Liao et al., 2019](https://arxiv.org/pdf/1910.00760.pdf). \n",
        "\n",
        "The idea of the model is to generate a graph by adding nodes one-by-one. Features of existing nodes are fed into a recurrent attention GNN for creating node embedding. Then the embeddings used for estimating parameters of Bernoulli distributions that can model probabilities of new edges. First, let us create a recurrent attention model for node embedding. Each layer in the network takes a graph with node states $h^l$ and propagate them as follows:\n",
        "\n",
        "$$h^{l+1}_i = \\text{GRU}\\left(h^l_i, \\sum_{j\\in\\mathcal{N}(i)} a_{ij}^l m_{ij}^l\\right)$$\n",
        "$$m_{ij}^l = f(h_i^l - h_j^l)$$\n",
        "$$a_{ij}^l = g(h_i^l - h_j^l)$$\n",
        "\n",
        "where $\\mathcal{N}(i)$ is a neighborhood of the node $i$, $f(\\cdot)$ is the message function, $g(\\cdot)$ is the attention head (both are two-layer MLP). The initial node states are node features. The node embeddings are final node states.\n",
        "\n",
        "Write a function `_prop` that takes a graph, node states, index of a layer and propagate current node states, returns next node states.\n",
        "\n",
        "*Hints:* \n",
        "* *apply the DGL message passing framework*\n",
        "* *`fn.u_sub_v` for creating messages — difference between adjacent node states*\n",
        "* *`graph.apply_edges` for storing the messages into edge features*\n",
        "* *`graph.update_all` for reduction messages from adjacent edges (summation in this task)*"
      ]
    },
    {
      "cell_type": "code",
      "metadata": {
        "deletable": false,
        "id": "5n3W7eniNOeY",
        "nbgrader": {
          "cell_type": "code",
          "checksum": "1c9ff854c5afabfce87304a51672bb7a",
          "grade": false,
          "grade_id": "cell-bc0c1855de705635",
          "locked": false,
          "schema_version": 3,
          "solution": true,
          "task": false
        }
      },
      "source": [
        "class RecurrentGNN(nn.Module):\n",
        "    def __init__(self, node_state_dim, hid_dim, num_layer):\n",
        "        super().__init__()\n",
        "        self.num_layer = num_layer\n",
        "        self.update_func = nn.ModuleList([\n",
        "            nn.GRUCell(input_size=hid_dim, hidden_size=node_state_dim) \n",
        "            for _ in range(self.num_layer)\n",
        "        ])\n",
        "        self.msg_func = nn.ModuleList([\n",
        "            nn.Sequential(\n",
        "                *[\n",
        "                    nn.Linear(node_state_dim, hid_dim),\n",
        "                    nn.ReLU(),\n",
        "                    nn.Linear(hid_dim, hid_dim)\n",
        "                ]) for _ in range(self.num_layer)\n",
        "        ])\n",
        "        self.att_head = nn.ModuleList([\n",
        "            nn.Sequential(\n",
        "                *[\n",
        "                    nn.Linear(node_state_dim, hid_dim),\n",
        "                    nn.ReLU(),\n",
        "                    nn.Linear(hid_dim, hid_dim),\n",
        "                    nn.Sigmoid()\n",
        "                ]) for _ in range(self.num_layer)\n",
        "        ])\n",
        "\n",
        "    def _prop(self, graph, state, layer_idx=0):\n",
        "        # YOUR CODE HERE\n",
        "        # raise NotImplementedError()\n",
        "        new_state = state.clone()\n",
        "        for i in range(len(new_state)):\n",
        "          in_e = graph.in_edges(i)\n",
        "          out_e = graph.out_edges(i)\n",
        "          neighbours = torch.cat((in_e[0], out_e[1]), 0)\n",
        "          neighbours = torch.unique(neighbours)\n",
        "          res = torch.zeros(self.att_head[layer_idx](state[i] - state[0]).shape)\n",
        "          for j in neighbours:\n",
        "            res += torch.mul(self.att_head[layer_idx](state[i] - state[j]), self.msg_func[layer_idx](state[i] - state[j]))\n",
        "          new_state[i] = self.update_func[layer_idx](torch.reshape(res, (1, res.shape[0])),\n",
        "                                                     torch.reshape(new_state[i], (1, new_state[i].shape[0])))\n",
        "        return new_state\n",
        "\n",
        "    def forward(self, graph, feat):\n",
        "        state = feat\n",
        "        for i in range(self.num_layer):\n",
        "            if i > 0:\n",
        "                state = F.relu(state)\n",
        "            state = self._prop(graph, state, layer_idx=i)\n",
        "        return state"
      ],
      "execution_count": 47,
      "outputs": []
    },
    {
      "cell_type": "code",
      "metadata": {
        "deletable": false,
        "editable": false,
        "id": "vTPalmcpN8Ho",
        "nbgrader": {
          "cell_type": "code",
          "checksum": "a05aac68e5635b1617c6f62c88471b5a",
          "grade": true,
          "grade_id": "cell-f96cbf56be9f29b4",
          "locked": true,
          "points": 1,
          "schema_version": 3,
          "solution": false,
          "task": false
        }
      },
      "source": [
        "torch.manual_seed(0)\n",
        "model = RecurrentGNN(node_state_dim=16, hid_dim=128, num_layer=5)\n",
        "graph = dgl.from_networkx(nx.grid_2d_graph(2, 2))\n",
        "feat = torch.ones(4, 16)\n",
        "out = model._prop(graph, feat, layer_idx=0)\n",
        "assert out.shape == (4, 16)\n",
        "test_ans = out.detach().numpy()[0, :3].round(2)\n",
        "assert np.all(np.isclose(test_ans, [0.68, 0.57, 0.29]))\n",
        "out = model._prop(graph, feat, layer_idx=1)\n",
        "test_ans = out.detach().numpy()[0, :3].round(2)\n",
        "assert np.all(np.isclose(test_ans, [0.66, 0.45, 0.72]))"
      ],
      "execution_count": 48,
      "outputs": []
    },
    {
      "cell_type": "markdown",
      "metadata": {
        "id": "JH7DZP0yJlBh"
      },
      "source": [
        "### Task 2. Bernoulli probabilistic model (1 point)"
      ]
    },
    {
      "cell_type": "markdown",
      "metadata": {
        "id": "_wlNUil8cxW2"
      },
      "source": [
        "Next, the generation process is performed as follows: \n",
        "1. Start from a graph with a single node\n",
        "2. Produce parameters of the distributions based on graph\n",
        "3. Add new node to the graph and sample edges from new node using the distributions\n",
        "4. Repeat steps 2-3 to the desired number of nodes\n",
        "\n",
        "<img src='https://raw.githubusercontent.com/netspractice/advanced_gnn/main/assignment_recurrent_generation/gnn_generation.png' width=600>\n",
        "\n",
        "For example, we have the graph with 4 nodes, we produce 4 parameters of 4 independent Bernoulli distributions, and then sample 4 boolean values. Let it be (0, 0, 1, 1), then we connect the new node to the third and fourth nodes. In this assignment, let us use MLP for converting node embeddings into 1-dimensional parameters of Bernoulli distributions.\n",
        "\n",
        "Write a class `BernoulliGNN`. The network takes a graph and node features, propagate them through a recurrent GNN, then through a two-layer MLP and returns parameters of distributions."
      ]
    },
    {
      "cell_type": "code",
      "metadata": {
        "deletable": false,
        "id": "dyzbOQLNuic_",
        "nbgrader": {
          "cell_type": "code",
          "checksum": "63efe4b93c5a1f36cdfca78469a8f7e8",
          "grade": false,
          "grade_id": "cell-78cbc86ac50e4417",
          "locked": false,
          "schema_version": 3,
          "solution": true,
          "task": false
        }
      },
      "source": [
        "class BernoulliGNN(nn.Module):\n",
        "    def __init__(self, in_dim, hid_dim, num_layer):\n",
        "        super().__init__()\n",
        "        # YOUR CODE HERE\n",
        "        # raise NotImplementedError()\n",
        "        self.recurrentGNN = RecurrentGNN(in_dim, hid_dim, num_layer)\n",
        "        self.linear1 = nn.Linear(in_dim, hid_dim)\n",
        "        self.linear2 = nn.Linear(hid_dim, 1)\n",
        "        self.in_dim = in_dim\n",
        "\n",
        "    def forward(self, graph, feat):\n",
        "        # YOUR CODE HERE\n",
        "        # raise NotImplementedError()\n",
        "        state = feat.clone()\n",
        "        state = self.recurrentGNN(graph, state)\n",
        "        state = self.linear1(state)\n",
        "        state = self.linear2(state)\n",
        "        state = torch.sigmoid(state)\n",
        "        return state"
      ],
      "execution_count": 49,
      "outputs": []
    },
    {
      "cell_type": "code",
      "metadata": {
        "deletable": false,
        "editable": false,
        "id": "M4JsZZbewXnZ",
        "nbgrader": {
          "cell_type": "code",
          "checksum": "35e2efd676afbf918915f0d9f2f3bdcd",
          "grade": true,
          "grade_id": "cell-19da05874c299841",
          "locked": true,
          "points": 0.5,
          "schema_version": 3,
          "solution": false,
          "task": false
        }
      },
      "source": [
        "model = BernoulliGNN(in_dim=16, hid_dim=128, num_layer=5)\n",
        "graph = dgl.from_networkx(nx.grid_2d_graph(2, 2))\n",
        "feat = torch.ones(4, 16)\n",
        "theta = model(graph, feat)\n",
        "assert theta.shape == (4, 1)\n",
        "assert torch.all((0 <= theta) & (theta <= 1))"
      ],
      "execution_count": 50,
      "outputs": []
    },
    {
      "cell_type": "markdown",
      "metadata": {
        "id": "1HftgECj1_UF"
      },
      "source": [
        "Write a function `sample` that takes parameters `theta` and returns realization from corresponding Bernoulli distributions."
      ]
    },
    {
      "cell_type": "code",
      "metadata": {
        "deletable": false,
        "id": "VdLe-OJX0pzU",
        "nbgrader": {
          "cell_type": "code",
          "checksum": "76cc2d227068bd15198656a3da565c5f",
          "grade": false,
          "grade_id": "cell-12156abdd3705a84",
          "locked": false,
          "schema_version": 3,
          "solution": true,
          "task": false
        }
      },
      "source": [
        "def sample(theta):\n",
        "    # YOUR CODE HERE\n",
        "    # raise NotImplementedError()\n",
        "    result =[]\n",
        "    for th in theta:\n",
        "      m = torch.distributions.Bernoulli(th)\n",
        "      result.append(m.sample())\n",
        "    return torch.reshape(torch.tensor(result), (len(theta), 1))"
      ],
      "execution_count": 51,
      "outputs": []
    },
    {
      "cell_type": "code",
      "metadata": {
        "deletable": false,
        "editable": false,
        "id": "e-clBnH11XBe",
        "nbgrader": {
          "cell_type": "code",
          "checksum": "b05c58abc23f201b03185cb7bd75b275",
          "grade": true,
          "grade_id": "cell-7edae2ecaed11649",
          "locked": true,
          "points": 0.5,
          "schema_version": 3,
          "solution": false,
          "task": false
        }
      },
      "source": [
        "theta = torch.tensor([[0.999], [0.001], [0.999], [0.999]])\n",
        "assert torch.all(sample(theta) == torch.tensor([[1], [0], [1], [1]]))"
      ],
      "execution_count": 52,
      "outputs": []
    },
    {
      "cell_type": "markdown",
      "metadata": {
        "id": "P_zD70dbJ6t8"
      },
      "source": [
        "### Task 3. Generation process (1 point)"
      ]
    },
    {
      "cell_type": "markdown",
      "metadata": {
        "id": "VUODvih43aqW"
      },
      "source": [
        "Let us check what we can generate using an untrained model. Let the node features be one-hot encoded vector with node index. The node features dimension can be larger than the number of nodes, so let it be padded with zeros on the right. For example, 6-dimensional node features in a graph with 4 nodes be:\n",
        "\n",
        "$$F = \\begin{pmatrix}\n",
        "1 & 0 & 0 & 0 & 0 & 0 \\\\\n",
        "0 & 1 & 0 & 0 & 0 & 0 \\\\\n",
        "0 & 0 & 1 & 0 & 0 & 0 \\\\\n",
        "0 & 0 & 0 & 1 & 0 & 0 \\\\\n",
        "\\end{pmatrix}$$\n",
        "\n",
        "\n",
        "Write a function `generate_graph` that takes a model, number of nodes, node features dimension and returns a generated graph and node features. The generated graph is undirected and contains self-loops."
      ]
    },
    {
      "cell_type": "code",
      "metadata": {
        "deletable": false,
        "id": "ygYD-5LF2kop",
        "nbgrader": {
          "cell_type": "code",
          "checksum": "ea91d6bd9dc4072d54676cb84dec7eaf",
          "grade": false,
          "grade_id": "cell-6b5878a6f49ce0c8",
          "locked": false,
          "schema_version": 3,
          "solution": true,
          "task": false
        }
      },
      "source": [
        "def generate_graph(model, n_nodes, feat_dim):\n",
        "    # starting from a graph with a single node\n",
        "    feat = torch.zeros(1, feat_dim).to(device)\n",
        "    feat[0, 0] = 1\n",
        "    graph = dgl.graph(data=([0], [0])).to(device)\n",
        "    for i in range(1, n_nodes):\n",
        "        # YOUR CODE HERE\n",
        "        # raise NotImplementedError()\n",
        "        theta = model(graph, feat)\n",
        "        samples = sample(theta)\n",
        "        graph.add_nodes(1)\n",
        "        graph.add_edge(i, i)\n",
        "        feat = torch.cat((feat, torch.zeros(1, feat_dim)))\n",
        "        feat[i, i] = 1\n",
        "        for j in range(len(samples)):\n",
        "          if samples[j] == 1:\n",
        "            graph.add_edge(i, j)\n",
        "            graph.add_edge(j, i)\n",
        "            #feat[i, j] = 1\n",
        "            #feat[j, i] = 1\n",
        "    return graph, feat"
      ],
      "execution_count": 53,
      "outputs": []
    },
    {
      "cell_type": "code",
      "metadata": {
        "deletable": false,
        "editable": false,
        "id": "S7W9aQD86_QQ",
        "nbgrader": {
          "cell_type": "code",
          "checksum": "0d00e36282739d62b9a3f6c37a9e24dd",
          "grade": true,
          "grade_id": "cell-84b89929d40102cf",
          "locked": true,
          "points": 1,
          "schema_version": 3,
          "solution": false,
          "task": false
        },
        "outputId": "c97fc095-0efa-4020-8024-084869c6f48e",
        "colab": {
          "base_uri": "https://localhost:8080/"
        }
      },
      "source": [
        "model = BernoulliGNN(in_dim=16, hid_dim=128, num_layer=5)\n",
        "model = model.to(device)\n",
        "graph, feat = generate_graph(model, n_nodes=16, feat_dim=16)\n",
        "graph, feat = graph.cpu(), feat.cpu()\n",
        "\n",
        "assert graph.number_of_nodes() == 16\n",
        "assert graph.number_of_edges() > 1\n",
        "assert feat.shape == (16, 16)\n",
        "assert torch.all(feat[:3, :3] == torch.tensor([[1, 0, 0], [0, 1, 0], [0, 0, 1]]))\n",
        "adj = graph.adj().to_dense()\n",
        "assert torch.all(adj[range(10), range(10)] == 1)\n",
        "assert torch.all(adj == adj.t())"
      ],
      "execution_count": 54,
      "outputs": [
        {
          "output_type": "stream",
          "name": "stderr",
          "text": [
            "/usr/local/lib/python3.7/dist-packages/dgl/base.py:45: DGLWarning: DGLGraph.add_edge is deprecated. Please use DGLGraph.add_edges\n",
            "  return warnings.warn(message, category=category, stacklevel=1)\n"
          ]
        }
      ]
    },
    {
      "cell_type": "code",
      "metadata": {
        "colab": {
          "base_uri": "https://localhost:8080/",
          "height": 319
        },
        "id": "Hs-UPHzeAkfv",
        "outputId": "f776b255-4189-4718-9f97-22b5980dca30"
      },
      "source": [
        "G = nx.Graph(graph.to_networkx())\n",
        "G.remove_edges_from(nx.selfloop_edges(G))\n",
        "nx.draw_kamada_kawai(G)"
      ],
      "execution_count": 55,
      "outputs": [
        {
          "output_type": "display_data",
          "data": {
            "image/png": "[encoded data removed]",
            "text/plain": [
              "<Figure size 432x288 with 1 Axes>"
            ]
          },
          "metadata": {}
        }
      ]
    },
    {
      "cell_type": "markdown",
      "metadata": {
        "id": "sfP-pzVIKBMm"
      },
      "source": [
        "### Task 4. Negative log likelihood loss (1 point)"
      ]
    },
    {
      "cell_type": "markdown",
      "metadata": {
        "id": "BXpTLlJYDYUv"
      },
      "source": [
        "We aim to train the model so that it can be able to generate realistic networks. Fortunately, explicit parametric models can be optimized by maximim likelihood estimation. In torch, it can be performed by minimization negative log likelihood loss.\n",
        "\n",
        "Write a function `bernoulli_nll` that takes parameters `theta` and a realization `label`, returns the mean negative log likelihood."
      ]
    },
    {
      "cell_type": "code",
      "metadata": {
        "deletable": false,
        "id": "kWgOFroxEuEr",
        "nbgrader": {
          "cell_type": "code",
          "checksum": "6a19e6e63b9480f848857b4239a4454e",
          "grade": false,
          "grade_id": "cell-665616c5e24079d5",
          "locked": false,
          "schema_version": 3,
          "solution": true,
          "task": false
        }
      },
      "source": [
        "def bernoulli_nll(theta, label):\n",
        "    # YOUR CODE HERE\n",
        "    # raise NotImplementedError()\n",
        "    result = 0\n",
        "    for x, y in zip(theta, label):\n",
        "      if y == 1:\n",
        "        result -= torch.log(x)\n",
        "      else:\n",
        "        result -= torch.log(1 - x)\n",
        "    return result / len(theta)"
      ],
      "execution_count": 56,
      "outputs": []
    },
    {
      "cell_type": "code",
      "metadata": {
        "deletable": false,
        "editable": false,
        "id": "-aE50I3wFGAh",
        "nbgrader": {
          "cell_type": "code",
          "checksum": "4e58488c8b3c265d1fad8cb9c50e296c",
          "grade": true,
          "grade_id": "cell-13bcfd77216f0173",
          "locked": true,
          "points": 1,
          "schema_version": 3,
          "solution": false,
          "task": false
        }
      },
      "source": [
        "theta = torch.tensor([[0.999], [0.001], [0.999], [0.999]])\n",
        "label = torch.tensor([[1.], [0.], [1.], [1.]])\n",
        "loss1 = bernoulli_nll(theta, label)\n",
        "label = torch.tensor([[1.], [0.], [0.], [1.]])\n",
        "loss2 = bernoulli_nll(theta, label)\n",
        "label = torch.tensor([[0.], [1.], [0.], [0.]])\n",
        "loss3 = bernoulli_nll(theta, label)\n",
        "assert loss1 < loss2 < loss3"
      ],
      "execution_count": 57,
      "outputs": []
    },
    {
      "cell_type": "markdown",
      "metadata": {
        "id": "bmhWD19UJKDc"
      },
      "source": [
        "### Task 5. Dataloader for grid subgraphs (1 point)"
      ]
    },
    {
      "cell_type": "markdown",
      "metadata": {
        "id": "tR5WEdfjR5fK"
      },
      "source": [
        "Let us train the model to generate 2d grid graphs, it can be useful for visual verification of the model. The auxiliary function `grid_graphs` generates grid graphs with one-hot encoded node features and returns a list of DGL graphs."
      ]
    },
    {
      "cell_type": "code",
      "metadata": {
        "id": "GPz4ToXKRQwC"
      },
      "source": [
        "def grid_graphs(min_dim, max_dim, n_graphs, feat_dim):\n",
        "    graphs = []\n",
        "    for i in range(n_graphs):\n",
        "        i = np.random.randint(min_dim, max_dim + 1)\n",
        "        j = np.random.randint(min_dim, max_dim + 1)\n",
        "        G = nx.grid_2d_graph(i, j)\n",
        "        graph = dgl.from_networkx(G)\n",
        "        graph = graph.add_self_loop()\n",
        "        feat = torch.eye(graph.number_of_nodes())\n",
        "        feat = F.pad(feat, [0, feat_dim - graph.number_of_nodes(), 0, 0])\n",
        "        graph.ndata['feat'] = feat\n",
        "        graphs.append(graph)\n",
        "    return graphs"
      ],
      "execution_count": 58,
      "outputs": []
    },
    {
      "cell_type": "code",
      "metadata": {
        "colab": {
          "base_uri": "https://localhost:8080/",
          "height": 319
        },
        "id": "o0id9WuwaIGS",
        "outputId": "53b9ded8-e887-4434-adcd-640760fcdc3f"
      },
      "source": [
        "nx.draw(grid_graphs(4, 4, 1, 16)[0].to_networkx())"
      ],
      "execution_count": 59,
      "outputs": [
        {
          "output_type": "display_data",
          "data": {
            "image/png": "[encoded data removed]",
            "text/plain": [
              "<Figure size 432x288 with 1 Axes>"
            ]
          },
          "metadata": {}
        }
      ]
    },
    {
      "cell_type": "markdown",
      "metadata": {
        "id": "CHnd6lHaSilc"
      },
      "source": [
        "Next, we need to define the train dataset where graphs are subgraphs from initial grid graphs and labels are next node indicator vectors. For a given graph, the label defines connections to the next node. For example, let the left depicted graph be a subgraph and the next node be 5, then a label be a column-vector `[[0], [0], [1], [1]]`.\n",
        "\n",
        "<img src='https://raw.githubusercontent.com/netspractice/advanced_gnn/main/assignment_recurrent_generation/gnn_generation.png' width=600>\n",
        "\n",
        "Write a function `process` that divides each graph into N subgraphs and prepares N labels where N is the number of nodes minus one. Then it stores all subgraphs and labels into `self.graphs` and `self.labels` lists.\n",
        "\n",
        "For example, the dataset on the single graph with 5 nodes looks like:\n",
        "* subgraph with nodes [0], label for the node 1\n",
        "* subgraph with nodes [0, 1], label for the node 2\n",
        "* subgraph with nodes [0, 1, 2], label for the node 3\n",
        "* subgraph with nodes [0, 1, 2, 3], label for the node 4"
      ]
    },
    {
      "cell_type": "code",
      "metadata": {
        "deletable": false,
        "id": "oPuRv8L-JRJW",
        "nbgrader": {
          "cell_type": "code",
          "checksum": "1a0fb7eca0623c7cf61d9dc417fa6a8e",
          "grade": false,
          "grade_id": "cell-b3e7bca9ea472790",
          "locked": false,
          "schema_version": 3,
          "solution": true,
          "task": false
        }
      },
      "source": [
        "class GridDataset(DGLDataset):\n",
        "    def __init__(self, feat_dim, min_dim, max_dim, n_graphs):\n",
        "        self.feat_dim = feat_dim\n",
        "        self.min_dim = min_dim\n",
        "        self.max_dim = max_dim\n",
        "        self.n_graphs = n_graphs\n",
        "        self.graphs = None\n",
        "        self.labels = None\n",
        "        super().__init__(name='grid')\n",
        "\n",
        "    def process(self):\n",
        "        graphs = []\n",
        "        labels = []\n",
        "        for graph in grid_graphs(self.min_dim, self.max_dim, self.n_graphs, self.feat_dim):\n",
        "            # YOUR CODE HERE\n",
        "            # raise NotImplementedError()\n",
        "            #print(graph.nodes())\n",
        "            sub_graphs = []\n",
        "            sub_labels = []\n",
        "            for i in range(graph.num_nodes() - 1, 0, -1):\n",
        "              in_e = graph.in_edges(i)\n",
        "              out_e = graph.out_edges(i)\n",
        "              neighbours = torch.cat((in_e[0], out_e[1]), 0)\n",
        "              neighbours = torch.unique(neighbours)\n",
        "              label = torch.zeros(graph.num_nodes() - 1, 1)\n",
        "              for j in neighbours:\n",
        "                if j != i:\n",
        "                  label[j][0] = 1\n",
        "              #print(label)\n",
        "              graph.remove_nodes(i)\n",
        "              #print(graph.nodes())\n",
        "              sub_graphs.append(graph.clone())\n",
        "              sub_labels.append(label.clone())\n",
        "            graphs.extend(reversed(sub_graphs))\n",
        "            labels.extend(reversed(sub_labels))\n",
        "\n",
        "        self.graphs = graphs\n",
        "        self.labels = labels\n",
        "\n",
        "    def __len__(self):\n",
        "        return len(self.graphs)\n",
        "\n",
        "    def __getitem__(self, idx):\n",
        "        return self.graphs[idx], self.labels[idx]"
      ],
      "execution_count": 60,
      "outputs": []
    },
    {
      "cell_type": "code",
      "metadata": {
        "deletable": false,
        "editable": false,
        "id": "xwOcZmgNOyIi",
        "nbgrader": {
          "cell_type": "code",
          "checksum": "a7dadf7d8dd7e3e1b441b07a1a06fd1d",
          "grade": true,
          "grade_id": "cell-4d8cfd7ec97e1ec3",
          "locked": true,
          "points": 1,
          "schema_version": 3,
          "solution": false,
          "task": false
        }
      },
      "source": [
        "feat_dim = 40\n",
        "min_dim = 3\n",
        "max_dim = 6\n",
        "n_graphs = 100\n",
        "grid_dataset = GridDataset(feat_dim, min_dim, max_dim, n_graphs)\n",
        "assert n_graphs < len(grid_dataset) < n_graphs * max_dim**2\n",
        "n_nodes = torch.tensor([g.number_of_nodes() for g, l in grid_dataset])\n",
        "assert n_nodes.min() == 1\n",
        "assert n_nodes.max() == max_dim**2 - 1\n",
        "g, l = grid_dataset[1]\n",
        "assert l.shape == (2, 1)\n",
        "g, l = grid_dataset[2]\n",
        "assert l.shape == (3, 1)\n",
        "assert np.all([g.number_of_nodes() == l.shape[0] for g, l in grid_dataset])"
      ],
      "execution_count": 61,
      "outputs": []
    },
    {
      "cell_type": "code",
      "metadata": {
        "colab": {
          "base_uri": "https://localhost:8080/"
        },
        "id": "O3RbUadc2Uvl",
        "outputId": "ba3eb72a-874c-4f75-c1ba-a8c463326712"
      },
      "source": [
        "len(grid_dataset)"
      ],
      "execution_count": 62,
      "outputs": [
        {
          "output_type": "execute_result",
          "data": {
            "text/plain": [
              "1920"
            ]
          },
          "metadata": {},
          "execution_count": 62
        }
      ]
    },
    {
      "cell_type": "code",
      "metadata": {
        "colab": {
          "base_uri": "https://localhost:8080/"
        },
        "id": "fpWefrbPX8Pw",
        "outputId": "fdfe2406-e54c-4958-c4f7-a97eb5484041"
      },
      "source": [
        "def collate(sample):\n",
        "    graphs, labels = map(list, zip(*sample))\n",
        "    graph = dgl.batch(graphs)\n",
        "    labels = torch.cat(labels)\n",
        "    return graph, labels\n",
        "\n",
        "grid_dataset = GridDataset(feat_dim=40, min_dim=4, max_dim=6, n_graphs=20)\n",
        "dataloader = DataLoader(\n",
        "    grid_dataset, batch_size=128, collate_fn=collate, shuffle=True)\n",
        "\n",
        "for g, l in dataloader:\n",
        "    break\n",
        "len(dataloader), g.batch_num_nodes(), g.number_of_nodes(), l.shape"
      ],
      "execution_count": 63,
      "outputs": [
        {
          "output_type": "execute_result",
          "data": {
            "text/plain": [
              "(4,\n",
              " tensor([10,  9,  9,  7,  7, 24, 17, 19,  3, 21, 30,  8, 17, 26, 14, 14, 14, 14,\n",
              "         13, 18,  7,  2,  5, 15, 10, 18, 23, 11, 31, 23, 14, 21,  9, 18,  7, 19,\n",
              "         12, 15, 18,  5, 32,  1,  9,  9,  8,  6, 23, 17, 24,  1, 33, 34,  7,  9,\n",
              "         12, 11, 16,  4, 17, 33, 12,  4,  7,  5, 19, 12,  5, 16, 15,  9,  5,  8,\n",
              "         29,  5, 10, 13,  6,  2, 11, 35,  7, 14, 22, 15, 23,  1, 28, 29, 13,  8,\n",
              "         13,  6, 17, 15, 11,  9,  6,  6,  1, 24, 14,  8, 11, 18, 15, 23,  2, 20,\n",
              "         11, 22, 10, 25,  7,  7,  4, 18, 29, 17, 19, 34,  1,  4, 22, 19, 35,  5,\n",
              "         10, 10]),\n",
              " 1799,\n",
              " torch.Size([1799, 1]))"
            ]
          },
          "metadata": {},
          "execution_count": 63
        }
      ]
    },
    {
      "cell_type": "markdown",
      "metadata": {
        "id": "gzxwPlhzKRDd"
      },
      "source": [
        "### Task 6. Mini-batch training process (1 point)"
      ]
    },
    {
      "cell_type": "markdown",
      "metadata": {
        "id": "BOhFRa8pdbgu"
      },
      "source": [
        "Write a finction `train`. Here is a simple training process: calculate the NLL loss and make an optimization step."
      ]
    },
    {
      "cell_type": "code",
      "metadata": {
        "deletable": false,
        "id": "CZMjgePUXr7y",
        "nbgrader": {
          "cell_type": "code",
          "checksum": "ff33820231b18f0ca7fbf3a2b0776149",
          "grade": false,
          "grade_id": "cell-aede22655bc62312",
          "locked": false,
          "schema_version": 3,
          "solution": true,
          "task": false
        }
      },
      "source": [
        "def train(model, dataloader, opt):\n",
        "    loss_values = []\n",
        "    for graph, label in dataloader:\n",
        "        # YOUR CODE HERE\n",
        "        # raise NotImplementedError()\n",
        "        feat = torch.eye(graph.num_nodes(), model.in_dim)\n",
        "        x = model(graph, feat.clone())\n",
        "        loss = bernoulli_nll(x, label)\n",
        "        opt.zero_grad()\n",
        "        loss.backward()\n",
        "        opt.step()\n",
        "        loss_values.append(loss)\n",
        "\n",
        "    return sum(loss_values) / len(loss_values)"
      ],
      "execution_count": 64,
      "outputs": []
    },
    {
      "cell_type": "code",
      "metadata": {
        "id": "oi9i-m3Ob3Yz"
      },
      "source": [
        "model = BernoulliGNN(in_dim=40, hid_dim=128, num_layer=5)\n",
        "model.to(device);"
      ],
      "execution_count": 65,
      "outputs": []
    },
    {
      "cell_type": "markdown",
      "metadata": {
        "id": "KDBOslTKEm8y"
      },
      "source": [
        "The training process takes about 10 minutes in Colab on CPU and about a minute in Colab on GPU."
      ]
    },
    {
      "cell_type": "code",
      "metadata": {
        "colab": {
          "base_uri": "https://localhost:8080/",
          "height": 708,
          "referenced_widgets": [
            "b0a8ca71951b4ac4acdf20ecdcb2748d",
            "0986e6ce531849b0a91c0fabbcce1c25",
            "7388dd3cb9fa4e9d944400ca5e953820",
            "2c9a51e699d04f459f05a33298b77978",
            "5778e08048f845c0afbefa37f93b6833",
            "5119b83b14e14accbe11b542675c74e1",
            "05ecfa0fbae347aaa7dd079eb301b872",
            "00371d44aed2438f8e519806b0bb6d2d",
            "91bdfd624f7d42eb82511f003906d1b2",
            "785850ce99804413b3cc02792ca066d3",
            "71d50db40a24468293db69a4e9076404"
          ]
        },
        "id": "3mx7Sbuzbze7",
        "outputId": "495d18f8-63ae-47e5-d19b-36e2b12e904f"
      },
      "source": [
        "opt = Adam(model.parameters(), lr=0.0005)\n",
        "\n",
        "n_epochs = 500\n",
        "for e in trange(n_epochs):\n",
        "    loss = train(model, dataloader, opt)\n",
        "    if e % 50 == 0 or e+1 == n_epochs:\n",
        "        print(f'Epoch: {e+1}/{n_epochs}, NLL loss: {loss:.4f}')\n",
        "        plt.figure(figsize=(2,2))\n",
        "        graph, feat = generate_graph(model, n_nodes=16, feat_dim=40)\n",
        "        G = nx.Graph(graph.cpu().to_networkx())\n",
        "        G.remove_edges_from(nx.selfloop_edges(G))\n",
        "        nx.draw_kamada_kawai(G, node_size=30)\n",
        "        plt.show()"
      ],
      "execution_count": 66,
      "outputs": [
        {
          "output_type": "display_data",
          "data": {
            "application/vnd.jupyter.widget-view+json": {
              "model_id": "b0a8ca71951b4ac4acdf20ecdcb2748d",
              "version_minor": 0,
              "version_major": 2
            },
            "text/plain": [
              "  0%|          | 0/500 [00:00<?, ?it/s]"
            ]
          },
          "metadata": {}
        },
        {
          "output_type": "error",
          "ename": "RuntimeError",
          "evalue": "ignored",
          "traceback": [
            "\u001b[0;31m---------------------------------------------------------------------------\u001b[0m",
            "\u001b[0;31mRuntimeError\u001b[0m                              Traceback (most recent call last)",
            "\u001b[0;32m<ipython-input-66-3c5679cb9eef>\u001b[0m in \u001b[0;36m<module>\u001b[0;34m()\u001b[0m\n\u001b[1;32m      3\u001b[0m \u001b[0mn_epochs\u001b[0m \u001b[0;34m=\u001b[0m \u001b[0;36m500\u001b[0m\u001b[0;34m\u001b[0m\u001b[0;34m\u001b[0m\u001b[0m\n\u001b[1;32m      4\u001b[0m \u001b[0;32mfor\u001b[0m \u001b[0me\u001b[0m \u001b[0;32min\u001b[0m \u001b[0mtrange\u001b[0m\u001b[0;34m(\u001b[0m\u001b[0mn_epochs\u001b[0m\u001b[0;34m)\u001b[0m\u001b[0;34m:\u001b[0m\u001b[0;34m\u001b[0m\u001b[0;34m\u001b[0m\u001b[0m\n\u001b[0;32m----> 5\u001b[0;31m     \u001b[0mloss\u001b[0m \u001b[0;34m=\u001b[0m \u001b[0mtrain\u001b[0m\u001b[0;34m(\u001b[0m\u001b[0mmodel\u001b[0m\u001b[0;34m,\u001b[0m \u001b[0mdataloader\u001b[0m\u001b[0;34m,\u001b[0m \u001b[0mopt\u001b[0m\u001b[0;34m)\u001b[0m\u001b[0;34m\u001b[0m\u001b[0;34m\u001b[0m\u001b[0m\n\u001b[0m\u001b[1;32m      6\u001b[0m     \u001b[0;32mif\u001b[0m \u001b[0me\u001b[0m \u001b[0;34m%\u001b[0m \u001b[0;36m50\u001b[0m \u001b[0;34m==\u001b[0m \u001b[0;36m0\u001b[0m \u001b[0;32mor\u001b[0m \u001b[0me\u001b[0m\u001b[0;34m+\u001b[0m\u001b[0;36m1\u001b[0m \u001b[0;34m==\u001b[0m \u001b[0mn_epochs\u001b[0m\u001b[0;34m:\u001b[0m\u001b[0;34m\u001b[0m\u001b[0;34m\u001b[0m\u001b[0m\n\u001b[1;32m      7\u001b[0m         \u001b[0mprint\u001b[0m\u001b[0;34m(\u001b[0m\u001b[0;34mf'Epoch: {e+1}/{n_epochs}, NLL loss: {loss:.4f}'\u001b[0m\u001b[0;34m)\u001b[0m\u001b[0;34m\u001b[0m\u001b[0;34m\u001b[0m\u001b[0m\n",
            "\u001b[0;32m<ipython-input-64-11c1913e6e33>\u001b[0m in \u001b[0;36mtrain\u001b[0;34m(model, dataloader, opt)\u001b[0m\n\u001b[1;32m      8\u001b[0m         \u001b[0mloss\u001b[0m \u001b[0;34m=\u001b[0m \u001b[0mbernoulli_nll\u001b[0m\u001b[0;34m(\u001b[0m\u001b[0mx\u001b[0m\u001b[0;34m,\u001b[0m \u001b[0mlabel\u001b[0m\u001b[0;34m)\u001b[0m\u001b[0;34m\u001b[0m\u001b[0;34m\u001b[0m\u001b[0m\n\u001b[1;32m      9\u001b[0m         \u001b[0mopt\u001b[0m\u001b[0;34m.\u001b[0m\u001b[0mzero_grad\u001b[0m\u001b[0;34m(\u001b[0m\u001b[0;34m)\u001b[0m\u001b[0;34m\u001b[0m\u001b[0;34m\u001b[0m\u001b[0m\n\u001b[0;32m---> 10\u001b[0;31m         \u001b[0mloss\u001b[0m\u001b[0;34m.\u001b[0m\u001b[0mbackward\u001b[0m\u001b[0;34m(\u001b[0m\u001b[0;34m)\u001b[0m\u001b[0;34m\u001b[0m\u001b[0;34m\u001b[0m\u001b[0m\n\u001b[0m\u001b[1;32m     11\u001b[0m         \u001b[0mopt\u001b[0m\u001b[0;34m.\u001b[0m\u001b[0mstep\u001b[0m\u001b[0;34m(\u001b[0m\u001b[0;34m)\u001b[0m\u001b[0;34m\u001b[0m\u001b[0;34m\u001b[0m\u001b[0m\n\u001b[1;32m     12\u001b[0m         \u001b[0mloss_values\u001b[0m\u001b[0;34m.\u001b[0m\u001b[0mappend\u001b[0m\u001b[0;34m(\u001b[0m\u001b[0mloss\u001b[0m\u001b[0;34m)\u001b[0m\u001b[0;34m\u001b[0m\u001b[0;34m\u001b[0m\u001b[0m\n",
            "\u001b[0;32m/usr/local/lib/python3.7/dist-packages/torch/_tensor.py\u001b[0m in \u001b[0;36mbackward\u001b[0;34m(self, gradient, retain_graph, create_graph, inputs)\u001b[0m\n\u001b[1;32m    305\u001b[0m                 \u001b[0mcreate_graph\u001b[0m\u001b[0;34m=\u001b[0m\u001b[0mcreate_graph\u001b[0m\u001b[0;34m,\u001b[0m\u001b[0;34m\u001b[0m\u001b[0;34m\u001b[0m\u001b[0m\n\u001b[1;32m    306\u001b[0m                 inputs=inputs)\n\u001b[0;32m--> 307\u001b[0;31m         \u001b[0mtorch\u001b[0m\u001b[0;34m.\u001b[0m\u001b[0mautograd\u001b[0m\u001b[0;34m.\u001b[0m\u001b[0mbackward\u001b[0m\u001b[0;34m(\u001b[0m\u001b[0mself\u001b[0m\u001b[0;34m,\u001b[0m \u001b[0mgradient\u001b[0m\u001b[0;34m,\u001b[0m \u001b[0mretain_graph\u001b[0m\u001b[0;34m,\u001b[0m \u001b[0mcreate_graph\u001b[0m\u001b[0;34m,\u001b[0m \u001b[0minputs\u001b[0m\u001b[0;34m=\u001b[0m\u001b[0minputs\u001b[0m\u001b[0;34m)\u001b[0m\u001b[0;34m\u001b[0m\u001b[0;34m\u001b[0m\u001b[0m\n\u001b[0m\u001b[1;32m    308\u001b[0m \u001b[0;34m\u001b[0m\u001b[0m\n\u001b[1;32m    309\u001b[0m     \u001b[0;32mdef\u001b[0m \u001b[0mregister_hook\u001b[0m\u001b[0;34m(\u001b[0m\u001b[0mself\u001b[0m\u001b[0;34m,\u001b[0m \u001b[0mhook\u001b[0m\u001b[0;34m)\u001b[0m\u001b[0;34m:\u001b[0m\u001b[0;34m\u001b[0m\u001b[0;34m\u001b[0m\u001b[0m\n",
            "\u001b[0;32m/usr/local/lib/python3.7/dist-packages/torch/autograd/__init__.py\u001b[0m in \u001b[0;36mbackward\u001b[0;34m(tensors, grad_tensors, retain_graph, create_graph, grad_variables, inputs)\u001b[0m\n\u001b[1;32m    154\u001b[0m     Variable._execution_engine.run_backward(\n\u001b[1;32m    155\u001b[0m         \u001b[0mtensors\u001b[0m\u001b[0;34m,\u001b[0m \u001b[0mgrad_tensors_\u001b[0m\u001b[0;34m,\u001b[0m \u001b[0mretain_graph\u001b[0m\u001b[0;34m,\u001b[0m \u001b[0mcreate_graph\u001b[0m\u001b[0;34m,\u001b[0m \u001b[0minputs\u001b[0m\u001b[0;34m,\u001b[0m\u001b[0;34m\u001b[0m\u001b[0;34m\u001b[0m\u001b[0m\n\u001b[0;32m--> 156\u001b[0;31m         allow_unreachable=True, accumulate_grad=True)  # allow_unreachable flag\n\u001b[0m\u001b[1;32m    157\u001b[0m \u001b[0;34m\u001b[0m\u001b[0m\n\u001b[1;32m    158\u001b[0m \u001b[0;34m\u001b[0m\u001b[0m\n",
            "\u001b[0;31mRuntimeError\u001b[0m: one of the variables needed for gradient computation has been modified by an inplace operation: [torch.FloatTensor [1, 40]], which is output 0 of AsStridedBackward0, is at version 1760; expected version 1759 instead. Hint: enable anomaly detection to find the operation that failed to compute its gradient, with torch.autograd.set_detect_anomaly(True)."
          ]
        }
      ]
    },
    {
      "cell_type": "markdown",
      "metadata": {
        "id": "UjCmLbdUfm8y"
      },
      "source": [
        "Let us generate a few graphs from the model. They should be visually close to grid graphs."
      ]
    },
    {
      "cell_type": "code",
      "metadata": {
        "id": "Nr0YNFrfd6MG"
      },
      "source": [
        "plt.figure(figsize=(10, 10))\n",
        "for j in range(9):\n",
        "    plt.subplot(3, 3, j+1)\n",
        "    graph, feat = generate_graph(model, n_nodes=18, feat_dim=40)\n",
        "    G = nx.Graph(graph.cpu().to_networkx())\n",
        "    G.remove_edges_from(nx.selfloop_edges(G))\n",
        "    nx.draw_kamada_kawai(G, node_size=30)"
      ],
      "execution_count": null,
      "outputs": []
    },
    {
      "cell_type": "markdown",
      "metadata": {
        "id": "k9XM2KeVFP2y"
      },
      "source": [
        "The next cell checks that at least one graph in a sample is close to a grid. It is possible with approximately 0.05 NLL loss. Note that all hyperparameters can be modified to achive the desired result."
      ]
    },
    {
      "cell_type": "code",
      "metadata": {
        "deletable": false,
        "editable": false,
        "id": "Z62onlA8-Zlz",
        "nbgrader": {
          "cell_type": "code",
          "checksum": "a8ae0bd79f30ef64f82cb46f2f01757e",
          "grade": true,
          "grade_id": "cell-813411b980a8355d",
          "locked": true,
          "points": 1,
          "schema_version": 3,
          "solution": false,
          "task": false
        }
      },
      "source": [
        "close_to_grid = False\n",
        "for i in range(20):\n",
        "    graph, feat = generate_graph(model, n_nodes=18, feat_dim=40)\n",
        "    G = nx.Graph(graph.cpu().to_networkx())\n",
        "    G.remove_edges_from(nx.selfloop_edges(G))\n",
        "    hist = nx.degree_histogram(G)\n",
        "    correct_degrees = sum(hist[2:5])\n",
        "    incorrec_degrees = sum(hist) - correct_degrees\n",
        "    close_to_grid = nx.is_connected(G) and correct_degrees > 0 and incorrec_degrees == 0\n",
        "    if close_to_grid: break\n",
        "assert close_to_grid"
      ],
      "execution_count": null,
      "outputs": []
    },
    {
      "cell_type": "markdown",
      "metadata": {
        "id": "Hb7STTQcKTkn"
      },
      "source": [
        "### Task 7. Kolmogorov Smirnov distance score (1 point)"
      ]
    },
    {
      "cell_type": "markdown",
      "metadata": {
        "id": "xclX7ql4IFkm"
      },
      "source": [
        "Let us check the model on real graphs. Let a quality metric be the closeness of generated graphs to real graphs. We will compute the sum of KS distances between distributions of statistics: clustering coefficients, laplacian spectrum values, node degrees.\n",
        "\n",
        "Write a function `ks_score` that takes a list of real graphs, a list of generated (fake) graphs and computes the sum of KS distances. The input graphs are DGL graphs.\n",
        "\n",
        "*Hint: use `ks_2samp`*"
      ]
    },
    {
      "cell_type": "code",
      "metadata": {
        "deletable": false,
        "id": "eU4q388qJIWy",
        "nbgrader": {
          "cell_type": "code",
          "checksum": "0608bea7f905363a81aef70210ed3d14",
          "grade": false,
          "grade_id": "cell-d8723c0c56e00f6b",
          "locked": false,
          "schema_version": 3,
          "solution": true,
          "task": false
        }
      },
      "source": [
        "def ks_score(fake_graphs, real_graphs):\n",
        "    real_graphs = [nx.Graph(g.to_networkx()) for g in real_graphs]\n",
        "    fake_graphs = [nx.Graph(g.to_networkx()) for g in fake_graphs]\n",
        "    # YOUR CODE HERE\n",
        "    raise NotImplementedError()"
      ],
      "execution_count": null,
      "outputs": []
    },
    {
      "cell_type": "code",
      "metadata": {
        "deletable": false,
        "editable": false,
        "id": "f9Ykr3VeMMAh",
        "nbgrader": {
          "cell_type": "code",
          "checksum": "1891cc974ea64bbd451a9fa54e10849e",
          "grade": true,
          "grade_id": "cell-7b55deea59c3e597",
          "locked": true,
          "points": 1,
          "schema_version": 3,
          "solution": false,
          "task": false
        }
      },
      "source": [
        "rand_graph = dgl.from_networkx(nx.erdos_renyi_graph(10, 30))\n",
        "grid55_graph = dgl.from_networkx(nx.grid_2d_graph(5, 5))\n",
        "grid44_graph = dgl.from_networkx(nx.grid_2d_graph(4, 4))\n",
        "score = ks_score([rand_graph], [grid55_graph])\n",
        "assert score == 2.9\n",
        "score = ks_score([grid55_graph], [grid55_graph])\n",
        "assert score == 0\n",
        "score = ks_score([grid55_graph], [grid44_graph])\n",
        "assert score == 0.29"
      ],
      "execution_count": null,
      "outputs": []
    },
    {
      "cell_type": "markdown",
      "metadata": {
        "id": "QEh-lDbvKal0"
      },
      "source": [
        "### Task 8. DFS from top degree node ordering (1 point)"
      ]
    },
    {
      "cell_type": "markdown",
      "metadata": {
        "id": "DFKB33uORf8H"
      },
      "source": [
        "So far, we have tested our model on grid graphs that have predefined node ordering. It helps us to train the model, but real networks are arbitrary ordered and so we need to select certain node ordering to train the model. There are many approaches: node degree, DFS/BFS from top node degree, k-core decomposition and so on. In this assignment, let us select DFS from top degree node.\n",
        "\n",
        "Write a function `dfs_ordering` that takes a DGL graph and returns a tensor (array) of nodes where the first node is the top degree node and others are ordered by DFS from the top degree node. We assume that the graph has a single connected component."
      ]
    },
    {
      "cell_type": "code",
      "metadata": {
        "deletable": false,
        "id": "TNN1F4QrQ8yz",
        "nbgrader": {
          "cell_type": "code",
          "checksum": "3c75ec5edab02e2e45a93842c292f4e8",
          "grade": false,
          "grade_id": "cell-c24c188e39a9e24e",
          "locked": false,
          "schema_version": 3,
          "solution": true,
          "task": false
        }
      },
      "source": [
        "def dfs_ordering(graph):\n",
        "    # YOUR CODE HERE\n",
        "    raise NotImplementedError()"
      ],
      "execution_count": null,
      "outputs": []
    },
    {
      "cell_type": "code",
      "metadata": {
        "deletable": false,
        "editable": false,
        "id": "4-8IgqMrY1XW",
        "nbgrader": {
          "cell_type": "code",
          "checksum": "69aa256f00298cae5c942bfec091eb96",
          "grade": true,
          "grade_id": "cell-7bdc780eae68d288",
          "locked": true,
          "points": 1,
          "schema_version": 3,
          "solution": false,
          "task": false
        }
      },
      "source": [
        "G = nx.complete_graph(5)\n",
        "G.add_edges_from([[0, -1], [-1, -2], [-2, -3]])\n",
        "graph = dgl.from_networkx(G)\n",
        "ord = dfs_ordering(graph)\n",
        "assert ord.shape == (8, )\n",
        "adj = graph.adj().to_dense()\n",
        "assert torch.all(adj[ord, :][:, ord][0] == torch.tensor([0, 1, 1, 1, 1, 1, 0, 0]))"
      ],
      "execution_count": null,
      "outputs": []
    },
    {
      "cell_type": "markdown",
      "metadata": {
        "id": "W9CplsJh1WHZ"
      },
      "source": [
        "### Task 9. Erdos-Renyi model baseline (1 point)"
      ]
    },
    {
      "cell_type": "markdown",
      "metadata": {
        "id": "9lEPnxH8amSq"
      },
      "source": [
        "Create a simple baseline — Erdos-Renyi model.\n",
        "\n",
        "Write a function `fit` that takes a list of DGL graphs and estimates the parameter $p$ of Erdos-Renyi model.\n",
        "\n",
        "Write a function `sample` that generates an Erdos-Renyi graph with parameter $n$ and $p$. The output graph is DGL graph."
      ]
    },
    {
      "cell_type": "code",
      "metadata": {
        "deletable": false,
        "id": "88mItcukat-h",
        "nbgrader": {
          "cell_type": "code",
          "checksum": "14edba2e1548bd747278a6516e8484fe",
          "grade": false,
          "grade_id": "cell-e3efcb51cf9a0df1",
          "locked": false,
          "schema_version": 3,
          "solution": true,
          "task": false
        }
      },
      "source": [
        "class ErdosRenyi():\n",
        "    def __init__(self):\n",
        "        self.p = None\n",
        "    def fit(self, graphs):\n",
        "        # YOUR CODE HERE\n",
        "        raise NotImplementedError()\n",
        "    def sample(self, n):\n",
        "        # YOUR CODE HERE\n",
        "        raise NotImplementedError()"
      ],
      "execution_count": null,
      "outputs": []
    },
    {
      "cell_type": "code",
      "metadata": {
        "deletable": false,
        "editable": false,
        "id": "DNPCTT-WdSo6",
        "nbgrader": {
          "cell_type": "code",
          "checksum": "c186f05ac1bdbfda3cc4ed6f27f6ae05",
          "grade": true,
          "grade_id": "cell-f5b166faa5bb98cc",
          "locked": true,
          "points": 1,
          "schema_version": 3,
          "solution": false,
          "task": false
        }
      },
      "source": [
        "graphs = [dgl.rand_graph(10, 50), dgl.rand_graph(20, 100)]\n",
        "er_model = ErdosRenyi()\n",
        "er_model.fit(graphs)\n",
        "assert er_model.p == (0.5 + 0.25) / 2\n",
        "er_graph = er_model.sample(10)\n",
        "assert 24 < er_graph.number_of_edges() < 51"
      ],
      "execution_count": null,
      "outputs": []
    },
    {
      "cell_type": "markdown",
      "metadata": {
        "id": "NOcKFjbhZ0Z3"
      },
      "source": [
        "### Task 10. Results on protein dataset (1 point)"
      ]
    },
    {
      "cell_type": "code",
      "metadata": {
        "id": "0twLTGjQInM3"
      },
      "source": [
        "proteins_dataset = GINDataset('PROTEINS', self_loop=True)\n",
        "len(proteins_dataset)"
      ],
      "execution_count": null,
      "outputs": []
    },
    {
      "cell_type": "markdown",
      "metadata": {
        "id": "eVL1rDaxRf9G"
      },
      "source": [
        "Let us test our model on proteins dataset. We will only learn small graphs for simplicity. Also we drops graph with multiple connected components."
      ]
    },
    {
      "cell_type": "code",
      "metadata": {
        "id": "zzzJthVoRrRq"
      },
      "source": [
        "proteins_dataset = GINDataset('PROTEINS', self_loop=True)\n",
        "small_graphs_idx = []\n",
        "for i in range(len(proteins_dataset)):\n",
        "    graph = proteins_dataset.graphs[i]\n",
        "    if graph.number_of_nodes() <= 40:\n",
        "        n_nodes = len(torch.cat(dgl.bfs_nodes_generator(graph, 0)))\n",
        "        if graph.number_of_nodes() == n_nodes:\n",
        "            small_graphs_idx.append(i)\n",
        "proteins_dataset = Subset(proteins_dataset, small_graphs_idx)\n",
        "len(proteins_dataset)"
      ],
      "execution_count": null,
      "outputs": []
    },
    {
      "cell_type": "markdown",
      "metadata": {
        "id": "tMzw6REzWOOU"
      },
      "source": [
        "Let us split the dataset into a train and test sets. We will use the train set to train the model and use the test set to calculate KS distance score between real and fake graphs. Let the train ratio be approximately 0.3."
      ]
    },
    {
      "cell_type": "code",
      "metadata": {
        "id": "fRCXsHQrWN6P"
      },
      "source": [
        "torch.manual_seed(0)\n",
        "train_mask = torch.rand(len(proteins_dataset)) < 0.3\n",
        "train_idx = torch.where(train_mask)[0]\n",
        "train_proteins_set = Subset(proteins_dataset, train_idx)\n",
        "test_idx = torch.where(~train_mask)[0]\n",
        "test_proteins_set = Subset(proteins_dataset, test_idx)\n",
        "len(train_proteins_set), len(test_proteins_set)"
      ],
      "execution_count": null,
      "outputs": []
    },
    {
      "cell_type": "markdown",
      "metadata": {
        "id": "SZp9wApVZSZ9"
      },
      "source": [
        "Check that train and test are close with respect to KS distanse score."
      ]
    },
    {
      "cell_type": "code",
      "metadata": {
        "id": "-KlTNG8cYvFa"
      },
      "source": [
        "_train = [g for g, l in train_proteins_set]\n",
        "_test = [g for g, l in test_proteins_set]\n",
        "print(f'KS score: {ks_score(_train, _test):.4f}')"
      ],
      "execution_count": null,
      "outputs": []
    },
    {
      "cell_type": "markdown",
      "metadata": {
        "id": "rwEYr5NDUo3r"
      },
      "source": [
        "Also we want to learn distribution of number of nodes to generate graphs with different number of nodes."
      ]
    },
    {
      "cell_type": "code",
      "metadata": {
        "id": "QgkG7eHtU-Js"
      },
      "source": [
        "n_nodes_seq = [g.number_of_nodes() for g, l in proteins_dataset]\n",
        "plt.hist(n_nodes_seq);"
      ],
      "execution_count": null,
      "outputs": []
    },
    {
      "cell_type": "markdown",
      "metadata": {
        "id": "6JfKP2KRegHP"
      },
      "source": [
        "Generate graphs from Erdos Renyi model."
      ]
    },
    {
      "cell_type": "code",
      "metadata": {
        "id": "qXIVxLkDeEsG"
      },
      "source": [
        "fake_graphs = [er_model.sample(np.random.choice(n_nodes_seq)) for _ in range(100)]\n",
        "print(f'KS score: {ks_score(fake_graphs, _test):.4f}')"
      ],
      "execution_count": null,
      "outputs": []
    },
    {
      "cell_type": "markdown",
      "metadata": {
        "id": "-dTD-uVPfINL"
      },
      "source": [
        "Next, prepare the dataset for the GNN model (similar to the grid dataset)."
      ]
    },
    {
      "cell_type": "code",
      "metadata": {
        "deletable": false,
        "id": "mC_X5eI4ZgbS",
        "nbgrader": {
          "cell_type": "code",
          "checksum": "2564a0924815d158fbdc35416b822b65",
          "grade": false,
          "grade_id": "cell-51eceb95af25cc05",
          "locked": false,
          "schema_version": 3,
          "solution": true,
          "task": false
        }
      },
      "source": [
        "class GraphDataset(DGLDataset):\n",
        "    def __init__(self, initial_set, feat_dim):\n",
        "        self.initial_set = initial_set\n",
        "        self.feat_dim = feat_dim\n",
        "        self.graphs = None\n",
        "        self.labels = None\n",
        "        super().__init__(name='grid')\n",
        "\n",
        "    def process(self):\n",
        "        graphs = []\n",
        "        labels = []\n",
        "        for graph in self.initial_set:\n",
        "            ord = dfs_ordering(graph)\n",
        "            graph = dgl.reorder_graph(\n",
        "                graph, 'custom', permute_config={'nodes_perm':ord})\n",
        "            feat = torch.eye(graph.number_of_nodes())\n",
        "            feat = F.pad(feat, [0, self.feat_dim - graph.number_of_nodes(), 0, 0])\n",
        "            graph.ndata['feat'] = feat\n",
        "            # YOUR CODE HERE\n",
        "            raise NotImplementedError()\n",
        "        self.graphs = graphs\n",
        "        self.labels = labels\n",
        "\n",
        "    def __len__(self):\n",
        "        return len(self.graphs)\n",
        "\n",
        "    def __getitem__(self, idx):\n",
        "        return self.graphs[idx], self.labels[idx]"
      ],
      "execution_count": null,
      "outputs": []
    },
    {
      "cell_type": "code",
      "metadata": {
        "deletable": false,
        "editable": false,
        "id": "XHkJ67AugVN_",
        "nbgrader": {
          "cell_type": "code",
          "checksum": "f0eea3ab6be0cd0af01319c5b6aed3a2",
          "grade": true,
          "grade_id": "cell-ffcc8a2e777c3b83",
          "locked": true,
          "points": 0,
          "schema_version": 3,
          "solution": false,
          "task": false
        }
      },
      "source": [
        "graph_dataset = GraphDataset(_train, feat_dim=40)\n",
        "assert len(graph_dataset) == 4701"
      ],
      "execution_count": null,
      "outputs": []
    },
    {
      "cell_type": "code",
      "metadata": {
        "id": "t7WRfPqig9go"
      },
      "source": [
        "dataloader = DataLoader(\n",
        "    graph_dataset, batch_size=512, collate_fn=collate, shuffle=True)\n",
        "len(dataloader)"
      ],
      "execution_count": null,
      "outputs": []
    },
    {
      "cell_type": "markdown",
      "metadata": {
        "id": "4UJcfWAHg32Z"
      },
      "source": [
        "Train the model. To pass time limits, load the model parameters using loading Torch interface: https://pytorch.org/tutorials/beginner/saving_loading_models.html. There is also a way to speed the training process using iterations over blocks of nodes (details are in [Liao et al., 2019](https://arxiv.org/pdf/1910.00760.pdf)). In this assignment, the block size is 1 for simplicity."
      ]
    },
    {
      "cell_type": "code",
      "metadata": {
        "deletable": false,
        "id": "dZ0CA7Zh8SFg",
        "nbgrader": {
          "cell_type": "code",
          "checksum": "869196f729bbb8bcc37eec98bfe7bc5c",
          "grade": false,
          "grade_id": "cell-caed9239ef4d6c41",
          "locked": false,
          "schema_version": 3,
          "solution": true,
          "task": false
        }
      },
      "source": [
        "def train_on_proteins(dataloader):\n",
        "    # YOUR CODE HERE\n",
        "    raise NotImplementedError()\n",
        "    # model = your model\n",
        "    # url = link to parameters\n",
        "    # open('params', 'wb').write(requests.get(url).content)\n",
        "    # model.load_state_dict(torch.load('params'))\n",
        "    # return model\n",
        "\n",
        "    model = BernoulliGNN(in_dim=40, hid_dim=128, num_layer=5)\n",
        "    model.to(device);\n",
        "    opt = Adam(model.parameters(), lr=0.0005)\n",
        "    n_epochs = 1000\n",
        "    for e in trange(n_epochs):\n",
        "        loss = train(model, dataloader, opt)\n",
        "        if e % 50 == 0 or e+1 == n_epochs:\n",
        "            print(f'Epoch: {e+1}/{n_epochs}, NLL loss: {loss:.4f}')\n",
        "            plt.figure(figsize=(2,2))\n",
        "            graph, feat = generate_graph(model, n_nodes=30, feat_dim=40)\n",
        "            G = nx.Graph(graph.cpu().to_networkx())\n",
        "            G.remove_edges_from(nx.selfloop_edges(G))\n",
        "            nx.draw_kamada_kawai(G, node_size=30)\n",
        "            plt.show()\n",
        "    return model"
      ],
      "execution_count": null,
      "outputs": []
    },
    {
      "cell_type": "code",
      "metadata": {
        "deletable": false,
        "editable": false,
        "id": "h45NOeIyAJCc",
        "nbgrader": {
          "cell_type": "code",
          "checksum": "a8b61d688ca4fb90673b181c7f10bdda",
          "grade": true,
          "grade_id": "cell-ac5f2ef782a08e49",
          "locked": true,
          "points": 1,
          "schema_version": 3,
          "solution": false,
          "task": false
        }
      },
      "source": [
        "model = train_on_proteins(dataloader)\n",
        "fake_graphs = []\n",
        "for _ in range(100):\n",
        "    graph = er_model.sample(np.random.choice(n_nodes_seq))\n",
        "    fake_graphs.append(graph)\n",
        "er_score = ks_score(fake_graphs, _test)\n",
        "\n",
        "fake_graphs = []\n",
        "for _ in trange(100):\n",
        "    graph, feat = generate_graph(model, np.random.choice(n_nodes_seq), feat_dim)\n",
        "    fake_graphs.append(graph.cpu())\n",
        "gnn_score = ks_score(fake_graphs, _test)\n",
        "\n",
        "assert gnn_score < er_score\n",
        "assert gnn_score < 1"
      ],
      "execution_count": null,
      "outputs": []
    },
    {
      "cell_type": "code",
      "metadata": {
        "id": "VlL7D-YqA2ol"
      },
      "source": [
        "print(f'Erdos Renyi KS score: {er_score:.4f}')\n",
        "print(f'GNN model KS score: {gnn_score:.4f}')"
      ],
      "execution_count": null,
      "outputs": []
    },
    {
      "cell_type": "markdown",
      "metadata": {
        "id": "K-XgXCy5vRkN"
      },
      "source": [
        "Examples of real graphs"
      ]
    },
    {
      "cell_type": "code",
      "metadata": {
        "id": "5HatCJvVvQ1L"
      },
      "source": [
        "plt.figure(figsize=(10, 10))\n",
        "for j in range(9):\n",
        "    plt.subplot(3, 3, j+1)\n",
        "    graph = np.random.choice(_test)\n",
        "    G = nx.Graph(graph.cpu().to_networkx())\n",
        "    G.remove_edges_from(nx.selfloop_edges(G))\n",
        "    nx.draw_kamada_kawai(G, node_size=30)"
      ],
      "execution_count": null,
      "outputs": []
    },
    {
      "cell_type": "markdown",
      "metadata": {
        "id": "u6tF7yD2vVHn"
      },
      "source": [
        "Examples of fake graphs"
      ]
    },
    {
      "cell_type": "code",
      "metadata": {
        "id": "92NGVUiau0Zj"
      },
      "source": [
        "plt.figure(figsize=(10, 10))\n",
        "for j in range(9):\n",
        "    plt.subplot(3, 3, j+1)\n",
        "    graph, feat = generate_graph(model, n_nodes=np.random.choice(n_nodes_seq), feat_dim=40)\n",
        "    G = nx.Graph(graph.cpu().to_networkx())\n",
        "    G.remove_edges_from(nx.selfloop_edges(G))\n",
        "    nx.draw_kamada_kawai(G, node_size=30)"
      ],
      "execution_count": null,
      "outputs": []
    },
    {
      "cell_type": "code",
      "metadata": {
        "id": "gJLgkvhJxcvc"
      },
      "source": [
        ""
      ],
      "execution_count": null,
      "outputs": []
    }
  ]
}